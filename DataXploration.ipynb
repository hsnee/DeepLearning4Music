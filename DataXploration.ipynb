{
 "cells": [
  {
   "cell_type": "code",
   "execution_count": 20,
   "metadata": {},
   "outputs": [],
   "source": [
    "!open ."
   ]
  },
  {
   "cell_type": "code",
   "execution_count": 1,
   "metadata": {},
   "outputs": [],
   "source": [
    "import mido\n",
    "from mido import MidiFile"
   ]
  },
  {
   "cell_type": "code",
   "execution_count": 2,
   "metadata": {},
   "outputs": [],
   "source": [
    "file = MidiFile('data/Midi #8.mid')"
   ]
  },
  {
   "cell_type": "code",
   "execution_count": 3,
   "metadata": {},
   "outputs": [],
   "source": [
    "message = mido.Message('program_change', program=10)"
   ]
  },
  {
   "cell_type": "code",
   "execution_count": 4,
   "metadata": {},
   "outputs": [
    {
     "name": "stdout",
     "output_type": "stream",
     "text": [
      "Populating the interactive namespace from numpy and matplotlib\n"
     ]
    }
   ],
   "source": [
    "%pylab inline"
   ]
  },
  {
   "cell_type": "code",
   "execution_count": 5,
   "metadata": {},
   "outputs": [
    {
     "name": "stdout",
     "output_type": "stream",
     "text": [
      "<meta message set_tempo tempo=468750 time=0>\n",
      "<meta message time_signature numerator=4 denominator=4 clocks_per_click=24 notated_32nd_notes_per_beat=8 time=0>\n",
      "<meta message track_name name='Nexus Lead 1' time=0>\n",
      "note_on channel=0 note=43 velocity=100 time=0\n",
      "note_on channel=0 note=31 velocity=100 time=0\n",
      "note_on channel=0 note=67 velocity=100 time=0\n",
      "note_off channel=0 note=67 velocity=64 time=0.05859375\n",
      "note_on channel=0 note=67 velocity=100 time=0.64453125\n",
      "note_off channel=0 note=67 velocity=64 time=0.234375\n",
      "note_on channel=0 note=69 velocity=100 time=0.3515625\n",
      "note_off channel=0 note=69 velocity=64 time=0.1171875\n",
      "note_on channel=0 note=70 velocity=100 time=0.234375\n",
      "note_off channel=0 note=70 velocity=64 time=0.1171875\n",
      "note_off channel=0 note=43 velocity=64 time=0.1171875\n",
      "note_off channel=0 note=31 velocity=64 time=0\n",
      "note_on channel=0 note=46 velocity=100 time=0.234375\n",
      "note_on channel=0 note=34 velocity=100 time=0\n",
      "note_on channel=0 note=67 velocity=100 time=0\n",
      "note_off channel=0 note=67 velocity=64 time=0.05859375\n",
      "note_on channel=0 note=67 velocity=100 time=0.41015625\n",
      "note_off channel=0 note=67 velocity=64 time=0.234375\n",
      "note_on channel=0 note=69 velocity=100 time=0.3515625\n",
      "note_off channel=0 note=69 velocity=64 time=0.1171875\n",
      "note_on channel=0 note=70 velocity=100 time=0.234375\n",
      "note_off channel=0 note=70 velocity=64 time=0.1171875\n",
      "note_off channel=0 note=46 velocity=64 time=0.1171875\n",
      "note_off channel=0 note=34 velocity=64 time=0\n",
      "note_on channel=0 note=36 velocity=100 time=0.234375\n",
      "note_on channel=0 note=48 velocity=100 time=0\n",
      "note_on channel=0 note=67 velocity=100 time=0\n",
      "note_off channel=0 note=67 velocity=64 time=0.05859375\n",
      "note_on channel=0 note=67 velocity=40 time=0.05859375\n",
      "note_off channel=0 note=67 velocity=64 time=0.0390625\n",
      "note_on channel=0 note=67 velocity=54 time=0.078125\n",
      "note_off channel=0 note=67 velocity=64 time=0.0390625\n",
      "note_on channel=0 note=67 velocity=59 time=0.078125\n",
      "note_off channel=0 note=67 velocity=64 time=0.0390625\n",
      "note_on channel=0 note=69 velocity=100 time=0.078125\n",
      "note_off channel=0 note=69 velocity=64 time=0.234375\n",
      "note_on channel=0 note=70 velocity=100 time=0.3515625\n",
      "note_off channel=0 note=70 velocity=64 time=0.1171875\n",
      "note_on channel=0 note=69 velocity=100 time=0.234375\n",
      "note_off channel=0 note=69 velocity=64 time=0.1171875\n",
      "note_off channel=0 note=36 velocity=64 time=0.1171875\n",
      "note_off channel=0 note=48 velocity=64 time=0\n",
      "note_on channel=0 note=50 velocity=100 time=0\n",
      "note_on channel=0 note=38 velocity=100 time=0\n",
      "note_on channel=0 note=67 velocity=100 time=0\n",
      "note_off channel=0 note=67 velocity=64 time=0.05859375\n",
      "note_on channel=0 note=67 velocity=100 time=0.41015625\n",
      "note_off channel=0 note=67 velocity=64 time=0.234375\n",
      "note_on channel=0 note=70 velocity=100 time=0.234375\n",
      "note_off channel=0 note=70 velocity=64 time=0.1171875\n",
      "note_on channel=0 note=69 velocity=100 time=0.1171875\n",
      "note_off channel=0 note=69 velocity=64 time=0.1171875\n",
      "note_on channel=0 note=70 velocity=100 time=0.1171875\n",
      "note_off channel=0 note=70 velocity=64 time=0.1171875\n",
      "note_on channel=0 note=69 velocity=100 time=0.0390625\n",
      "note_off channel=0 note=69 velocity=64 time=0.1171875\n",
      "note_on channel=0 note=67 velocity=100 time=0.0390625\n",
      "note_off channel=0 note=67 velocity=64 time=0.1171875\n",
      "note_off channel=0 note=50 velocity=64 time=0.0390625\n",
      "note_off channel=0 note=38 velocity=64 time=0\n",
      "note_on channel=0 note=43 velocity=100 time=0\n",
      "note_on channel=0 note=31 velocity=100 time=0\n",
      "note_on channel=0 note=67 velocity=100 time=0\n",
      "note_off channel=0 note=67 velocity=64 time=0.05859375\n",
      "note_on channel=0 note=67 velocity=100 time=0.64453125\n",
      "note_off channel=0 note=67 velocity=64 time=0.234375\n",
      "note_on channel=0 note=69 velocity=100 time=0.3515625\n",
      "note_off channel=0 note=69 velocity=64 time=0.1171875\n",
      "note_on channel=0 note=70 velocity=100 time=0.234375\n",
      "note_off channel=0 note=70 velocity=64 time=0.1171875\n",
      "note_off channel=0 note=43 velocity=64 time=0.1171875\n",
      "note_off channel=0 note=31 velocity=64 time=0\n",
      "note_on channel=0 note=46 velocity=100 time=0.234375\n",
      "note_on channel=0 note=34 velocity=100 time=0\n",
      "note_on channel=0 note=67 velocity=100 time=0\n",
      "note_off channel=0 note=67 velocity=64 time=0.05859375\n",
      "note_on channel=0 note=67 velocity=100 time=0.41015625\n",
      "note_off channel=0 note=67 velocity=64 time=0.234375\n",
      "note_on channel=0 note=69 velocity=100 time=0.3515625\n",
      "note_off channel=0 note=69 velocity=64 time=0.1171875\n",
      "note_on channel=0 note=70 velocity=100 time=0.234375\n",
      "note_off channel=0 note=70 velocity=64 time=0.1171875\n",
      "note_off channel=0 note=46 velocity=64 time=0.1171875\n",
      "note_off channel=0 note=34 velocity=64 time=0\n",
      "note_on channel=0 note=41 velocity=100 time=0.234375\n",
      "note_on channel=0 note=53 velocity=100 time=0\n",
      "note_on channel=0 note=67 velocity=100 time=0\n",
      "note_off channel=0 note=67 velocity=64 time=0.05859375\n",
      "note_on channel=0 note=67 velocity=40 time=0.05859375\n",
      "note_off channel=0 note=67 velocity=64 time=0.0390625\n",
      "note_on channel=0 note=67 velocity=54 time=0.078125\n",
      "note_off channel=0 note=67 velocity=64 time=0.0390625\n",
      "note_on channel=0 note=67 velocity=59 time=0.078125\n",
      "note_off channel=0 note=67 velocity=64 time=0.0390625\n",
      "note_on channel=0 note=69 velocity=100 time=0.078125\n",
      "note_off channel=0 note=69 velocity=64 time=0.234375\n",
      "note_on channel=0 note=70 velocity=100 time=0.3515625\n",
      "note_off channel=0 note=70 velocity=64 time=0.1171875\n",
      "note_on channel=0 note=69 velocity=100 time=0.234375\n",
      "note_off channel=0 note=69 velocity=64 time=0.1171875\n",
      "note_off channel=0 note=41 velocity=64 time=0.1171875\n",
      "note_off channel=0 note=53 velocity=64 time=0\n",
      "note_on channel=0 note=67 velocity=100 time=0\n",
      "note_on channel=0 note=50 velocity=100 time=0\n",
      "note_on channel=0 note=38 velocity=100 time=0\n",
      "note_off channel=0 note=67 velocity=64 time=0.05859375\n",
      "note_on channel=0 note=67 velocity=100 time=0.41015625\n",
      "note_off channel=0 note=67 velocity=64 time=0.234375\n",
      "note_off channel=0 note=50 velocity=64 time=0.234375\n",
      "note_off channel=0 note=38 velocity=64 time=0\n",
      "note_on channel=0 note=53 velocity=100 time=0\n",
      "note_on channel=0 note=41 velocity=100 time=0\n",
      "note_on channel=0 note=70 velocity=100 time=0\n",
      "note_off channel=0 note=70 velocity=64 time=0.1171875\n",
      "note_on channel=0 note=69 velocity=100 time=0.1171875\n",
      "note_off channel=0 note=69 velocity=64 time=0.1171875\n",
      "note_on channel=0 note=70 velocity=100 time=0.1171875\n",
      "note_off channel=0 note=70 velocity=64 time=0.1171875\n",
      "note_on channel=0 note=69 velocity=100 time=0.0390625\n",
      "note_off channel=0 note=69 velocity=64 time=0.1171875\n",
      "note_on channel=0 note=67 velocity=100 time=0.0390625\n",
      "note_off channel=0 note=67 velocity=64 time=0.1171875\n",
      "note_off channel=0 note=53 velocity=64 time=0.0390625\n",
      "note_off channel=0 note=41 velocity=64 time=0\n",
      "<meta message end_of_track time=0>\n"
     ]
    }
   ],
   "source": [
    "notes = []\n",
    "for message in file:\n",
    "    print(message)\n",
    "    try:\n",
    "        notes.append(message.note)\n",
    "    except AttributeError:\n",
    "        pass\n",
    "    \n",
    "    #plt.plot()\n",
    "    "
   ]
  },
  {
   "cell_type": "code",
   "execution_count": 6,
   "metadata": {},
   "outputs": [
    {
     "data": {
      "text/plain": [
       "[<matplotlib.lines.Line2D at 0x10dd2f588>]"
      ]
     },
     "execution_count": 6,
     "metadata": {},
     "output_type": "execute_result"
    },
    {
     "data": {
      "image/png": "[encoded data removed]",
      "text/plain": [
       "<matplotlib.figure.Figure at 0x10effe080>"
      ]
     },
     "metadata": {},
     "output_type": "display_data"
    }
   ],
   "source": [
    "plt.plot(notes,'.')"
   ]
  },
  {
   "cell_type": "code",
   "execution_count": 7,
   "metadata": {},
   "outputs": [
    {
     "name": "stderr",
     "output_type": "stream",
     "text": [
      "Using TensorFlow backend.\n"
     ]
    }
   ],
   "source": [
    "import keras"
   ]
  },
  {
   "cell_type": "code",
   "execution_count": 8,
   "metadata": {},
   "outputs": [],
   "source": [
    "lstm = keras.layers.LSTM(1)"
   ]
  },
  {
   "cell_type": "code",
   "execution_count": 9,
   "metadata": {},
   "outputs": [],
   "source": [
    "model = keras.Sequential()"
   ]
  },
  {
   "cell_type": "code",
   "execution_count": 10,
   "metadata": {},
   "outputs": [],
   "source": [
    "network_input = np.array(notes)"
   ]
  },
  {
   "cell_type": "code",
   "execution_count": 11,
   "metadata": {},
   "outputs": [],
   "source": [
    "model.add(keras.layers.LSTM(100,\n",
    "        input_shape=(100,1)\n",
    "    ))"
   ]
  },
  {
   "cell_type": "code",
   "execution_count": 12,
   "metadata": {},
   "outputs": [],
   "source": [
    "model.add(keras.layers.Activation('softmax'))"
   ]
  },
  {
   "cell_type": "code",
   "execution_count": 13,
   "metadata": {},
   "outputs": [],
   "source": [
    "model.compile(loss='hinge', optimizer='sgd')"
   ]
  },
  {
   "cell_type": "code",
   "execution_count": 19,
   "metadata": {},
   "outputs": [
    {
     "data": {
      "text/plain": [
       "[31, 34, 36, 38, 41, 43, 46, 48, 50, 53, 67, 69, 70]"
      ]
     },
     "execution_count": 19,
     "metadata": {},
     "output_type": "execute_result"
    }
   ],
   "source": [
    "pitchnames"
   ]
  },
  {
   "cell_type": "code",
   "execution_count": 17,
   "metadata": {},
   "outputs": [],
   "source": [
    "sequence_length = 100\n",
    "# get all pitch names\n",
    "pitchnames = sorted(set(item for item in notes))\n",
    "# create a dictionary to map pitches to integers\n",
    "note_to_int = dict((note, number) for number, note in enumerate(pitchnames))\n",
    "network_input = []\n",
    "network_output = []\n",
    "# create input sequences and the corresponding outputs\n",
    "for i in range(0, len(notes) - sequence_length, 1):\n",
    "    sequence_in = notes[i:i + sequence_length]\n",
    "    sequence_out = notes[i + sequence_length]\n",
    "    network_input.append([note_to_int[char] for char in sequence_in])\n",
    "    network_output.append(note_to_int[sequence_out])\n",
    "n_patterns = len(network_input)\n",
    "# reshape the input into a format compatible with LSTM layers\n",
    "network_input = numpy.reshape(network_input, (n_patterns, sequence_length, 1))\n",
    "# normalize input\n",
    "# network_input = network_input / float(n_vocab)\n",
    "network_output = keras.utils.to_categorical(network_output)"
   ]
  },
  {
   "cell_type": "code",
   "execution_count": 18,
   "metadata": {},
   "outputs": [
    {
     "ename": "ValueError",
     "evalue": "Error when checking target: expected activation_1 to have shape (100,) but got array with shape (13,)",
     "output_type": "error",
     "traceback": [
      "\u001b[0;31m---------------------------------------------------------------------------\u001b[0m",
      "\u001b[0;31mValueError\u001b[0m                                Traceback (most recent call last)",
      "\u001b[0;32m<ipython-input-18-462332bd07d2>\u001b[0m in \u001b[0;36m<module>\u001b[0;34m()\u001b[0m\n\u001b[0;32m----> 1\u001b[0;31m \u001b[0mmodel\u001b[0m\u001b[0;34m.\u001b[0m\u001b[0mfit\u001b[0m\u001b[0;34m(\u001b[0m\u001b[0mnetwork_input\u001b[0m\u001b[0;34m,\u001b[0m \u001b[0mnetwork_output\u001b[0m\u001b[0;34m,\u001b[0m \u001b[0mepochs\u001b[0m\u001b[0;34m=\u001b[0m\u001b[0;36m200\u001b[0m\u001b[0;34m)\u001b[0m\u001b[0;34m\u001b[0m\u001b[0m\n\u001b[0m",
      "\u001b[0;32m/usr/local/Cellar/python3/3.6.3/Frameworks/Python.framework/Versions/3.6/lib/python3.6/site-packages/keras/models.py\u001b[0m in \u001b[0;36mfit\u001b[0;34m(self, x, y, batch_size, epochs, verbose, callbacks, validation_split, validation_data, shuffle, class_weight, sample_weight, initial_epoch, steps_per_epoch, validation_steps, **kwargs)\u001b[0m\n\u001b[1;32m    961\u001b[0m                               \u001b[0minitial_epoch\u001b[0m\u001b[0;34m=\u001b[0m\u001b[0minitial_epoch\u001b[0m\u001b[0;34m,\u001b[0m\u001b[0;34m\u001b[0m\u001b[0m\n\u001b[1;32m    962\u001b[0m                               \u001b[0msteps_per_epoch\u001b[0m\u001b[0;34m=\u001b[0m\u001b[0msteps_per_epoch\u001b[0m\u001b[0;34m,\u001b[0m\u001b[0;34m\u001b[0m\u001b[0m\n\u001b[0;32m--> 963\u001b[0;31m                               validation_steps=validation_steps)\n\u001b[0m\u001b[1;32m    964\u001b[0m \u001b[0;34m\u001b[0m\u001b[0m\n\u001b[1;32m    965\u001b[0m     def evaluate(self, x=None, y=None,\n",
      "\u001b[0;32m/usr/local/Cellar/python3/3.6.3/Frameworks/Python.framework/Versions/3.6/lib/python3.6/site-packages/keras/engine/training.py\u001b[0m in \u001b[0;36mfit\u001b[0;34m(self, x, y, batch_size, epochs, verbose, callbacks, validation_split, validation_data, shuffle, class_weight, sample_weight, initial_epoch, steps_per_epoch, validation_steps, **kwargs)\u001b[0m\n\u001b[1;32m   1628\u001b[0m             \u001b[0msample_weight\u001b[0m\u001b[0;34m=\u001b[0m\u001b[0msample_weight\u001b[0m\u001b[0;34m,\u001b[0m\u001b[0;34m\u001b[0m\u001b[0m\n\u001b[1;32m   1629\u001b[0m             \u001b[0mclass_weight\u001b[0m\u001b[0;34m=\u001b[0m\u001b[0mclass_weight\u001b[0m\u001b[0;34m,\u001b[0m\u001b[0;34m\u001b[0m\u001b[0m\n\u001b[0;32m-> 1630\u001b[0;31m             batch_size=batch_size)\n\u001b[0m\u001b[1;32m   1631\u001b[0m         \u001b[0;31m# Prepare validation data.\u001b[0m\u001b[0;34m\u001b[0m\u001b[0;34m\u001b[0m\u001b[0m\n\u001b[1;32m   1632\u001b[0m         \u001b[0mdo_validation\u001b[0m \u001b[0;34m=\u001b[0m \u001b[0;32mFalse\u001b[0m\u001b[0;34m\u001b[0m\u001b[0m\n",
      "\u001b[0;32m/usr/local/Cellar/python3/3.6.3/Frameworks/Python.framework/Versions/3.6/lib/python3.6/site-packages/keras/engine/training.py\u001b[0m in \u001b[0;36m_standardize_user_data\u001b[0;34m(self, x, y, sample_weight, class_weight, check_array_lengths, batch_size)\u001b[0m\n\u001b[1;32m   1478\u001b[0m                                     \u001b[0moutput_shapes\u001b[0m\u001b[0;34m,\u001b[0m\u001b[0;34m\u001b[0m\u001b[0m\n\u001b[1;32m   1479\u001b[0m                                     \u001b[0mcheck_batch_axis\u001b[0m\u001b[0;34m=\u001b[0m\u001b[0;32mFalse\u001b[0m\u001b[0;34m,\u001b[0m\u001b[0;34m\u001b[0m\u001b[0m\n\u001b[0;32m-> 1480\u001b[0;31m                                     exception_prefix='target')\n\u001b[0m\u001b[1;32m   1481\u001b[0m         sample_weights = _standardize_sample_weights(sample_weight,\n\u001b[1;32m   1482\u001b[0m                                                      self._feed_output_names)\n",
      "\u001b[0;32m/usr/local/Cellar/python3/3.6.3/Frameworks/Python.framework/Versions/3.6/lib/python3.6/site-packages/keras/engine/training.py\u001b[0m in \u001b[0;36m_standardize_input_data\u001b[0;34m(data, names, shapes, check_batch_axis, exception_prefix)\u001b[0m\n\u001b[1;32m    121\u001b[0m                             \u001b[0;34m': expected '\u001b[0m \u001b[0;34m+\u001b[0m \u001b[0mnames\u001b[0m\u001b[0;34m[\u001b[0m\u001b[0mi\u001b[0m\u001b[0;34m]\u001b[0m \u001b[0;34m+\u001b[0m \u001b[0;34m' to have shape '\u001b[0m \u001b[0;34m+\u001b[0m\u001b[0;34m\u001b[0m\u001b[0m\n\u001b[1;32m    122\u001b[0m                             \u001b[0mstr\u001b[0m\u001b[0;34m(\u001b[0m\u001b[0mshape\u001b[0m\u001b[0;34m)\u001b[0m \u001b[0;34m+\u001b[0m \u001b[0;34m' but got array with shape '\u001b[0m \u001b[0;34m+\u001b[0m\u001b[0;34m\u001b[0m\u001b[0m\n\u001b[0;32m--> 123\u001b[0;31m                             str(data_shape))\n\u001b[0m\u001b[1;32m    124\u001b[0m     \u001b[0;32mreturn\u001b[0m \u001b[0mdata\u001b[0m\u001b[0;34m\u001b[0m\u001b[0m\n\u001b[1;32m    125\u001b[0m \u001b[0;34m\u001b[0m\u001b[0m\n",
      "\u001b[0;31mValueError\u001b[0m: Error when checking target: expected activation_1 to have shape (100,) but got array with shape (13,)"
     ]
    }
   ],
   "source": [
    "model.fit(network_input, network_output, epochs=200)"
   ]
  },
  {
   "cell_type": "code",
   "execution_count": null,
   "metadata": {},
   "outputs": [],
   "source": []
  },
  {
   "cell_type": "code",
   "execution_count": null,
   "metadata": {},
   "outputs": [],
   "source": []
  },
  {
   "cell_type": "code",
   "execution_count": null,
   "metadata": {},
   "outputs": [],
   "source": []
  },
  {
   "cell_type": "markdown",
   "metadata": {},
   "source": [
    "## "
   ]
  },
  {
   "cell_type": "code",
   "execution_count": 20,
   "metadata": {},
   "outputs": [],
   "source": [
    "import os\n",
    "import mido\n",
    "import numpy as np\n",
    "from mido import MidiFile\n",
    "\n",
    "def getAllFeatureVectors():\n",
    "   rootdir = os.getcwd() + '/data/'\n",
    "   \n",
    "   featureVectors = []\n",
    "   i = 0\n",
    "   for subdir, dirs, files in os.walk(rootdir):\n",
    "       for file in files:\n",
    "           midiFileName = os.path.join(subdir, file)\n",
    "           #print os.path.join(subdir, file)\n",
    "           if (not midiFileName.endswith('.mid')):\n",
    "               continue\n",
    "           featureVectors.append(getFeatureVector(midiFileName))\n",
    "           i+=1\n",
    "           \n",
    "   # Convert to numpy arrays\n",
    "   return np.array(featureVectors)\n",
    "           \n",
    "def getFeatureVector(midiFileName):\n",
    "   file = MidiFile(midiFileName)\n",
    "   \n",
    "   features = []\n",
    "   \n",
    "   i = 0\n",
    "   timeSinceStart = 0.0\n",
    "   for message in file:\n",
    "       \n",
    "       (newFeatureVect, timeSinceStart) = processMessage(message, timeSinceStart)\n",
    "       if (type(newFeatureVect) is list):\n",
    "           features.append(newFeatureVect)\n",
    "           i += 1\n",
    "       \n",
    "   return features\n",
    "       \n",
    "def processMessage(m, timeSinceStart):\n",
    "   vector = []\n",
    "   \n",
    "   if (type(m.time) is float or type(m.time) is int):\n",
    "       timeSinceStart += m.time\n",
    "   \n",
    "   if (m.type in ['note_on', 'note_off']):\n",
    "       \n",
    "       on = 1\n",
    "       if (m.type == 'note_off'):\n",
    "           on = 0\n",
    "       \n",
    "       vector = [on, m.channel, m.note, m.velocity, timeSinceStart]\n",
    "       return (vector, timeSinceStart)\n",
    "   else:\n",
    "       return (None, timeSinceStart)\n",
    "   \n",
    "   \n",
    "featureVectors = getAllFeatureVectors()"
   ]
  },
  {
   "cell_type": "code",
   "execution_count": null,
   "metadata": {},
   "outputs": [],
   "source": []
  }
 ],
 "metadata": {
  "kernelspec": {
   "display_name": "Python 3",
   "language": "python",
   "name": "python3"
  },
  "language_info": {
   "codemirror_mode": {
    "name": "ipython",
    "version": 3
   },
   "file_extension": ".py",
   "mimetype": "text/x-python",
   "name": "python",
   "nbconvert_exporter": "python",
   "pygments_lexer": "ipython3",
   "version": "3.6.3"
  }
 },
 "nbformat": 4,
 "nbformat_minor": 2
}
