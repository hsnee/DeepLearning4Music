{
 "cells": [
  {
   "cell_type": "code",
   "execution_count": 20,
   "metadata": {},
   "outputs": [],
   "source": [
    "!open ."
   ]
  },
  {
   "cell_type": "code",
   "execution_count": 8,
   "metadata": {},
   "outputs": [],
   "source": [
    "import mido\n",
    "from mido import MidiFile"
   ]
  },
  {
   "cell_type": "code",
   "execution_count": 9,
   "metadata": {},
   "outputs": [],
   "source": [
    "file = MidiFile('data/Midi #8.mid')"
   ]
  },
  {
   "cell_type": "code",
   "execution_count": 10,
   "metadata": {},
   "outputs": [],
   "source": [
    "message = mido.Message('program_change', program=10)"
   ]
  },
  {
   "cell_type": "code",
   "execution_count": 11,
   "metadata": {},
   "outputs": [
    {
     "name": "stdout",
     "output_type": "stream",
     "text": [
      "Populating the interactive namespace from numpy and matplotlib\n"
     ]
    }
   ],
   "source": [
    "%pylab inline"
   ]
  },
  {
   "cell_type": "code",
   "execution_count": 12,
   "metadata": {},
   "outputs": [
    {
     "name": "stdout",
     "output_type": "stream",
     "text": [
      "<meta message set_tempo tempo=468750 time=0>\n",
      "<meta message time_signature numerator=4 denominator=4 clocks_per_click=24 notated_32nd_notes_per_beat=8 time=0>\n",
      "<meta message track_name name='Nexus Lead 1' time=0>\n",
      "note_on channel=0 note=43 velocity=100 time=0\n",
      "note_on channel=0 note=31 velocity=100 time=0\n",
      "note_on channel=0 note=67 velocity=100 time=0\n",
      "note_off channel=0 note=67 velocity=64 time=0.05859375\n",
      "note_on channel=0 note=67 velocity=100 time=0.64453125\n",
      "note_off channel=0 note=67 velocity=64 time=0.234375\n",
      "note_on channel=0 note=69 velocity=100 time=0.3515625\n",
      "note_off channel=0 note=69 velocity=64 time=0.1171875\n",
      "note_on channel=0 note=70 velocity=100 time=0.234375\n",
      "note_off channel=0 note=70 velocity=64 time=0.1171875\n",
      "note_off channel=0 note=43 velocity=64 time=0.1171875\n",
      "note_off channel=0 note=31 velocity=64 time=0\n",
      "note_on channel=0 note=46 velocity=100 time=0.234375\n",
      "note_on channel=0 note=34 velocity=100 time=0\n",
      "note_on channel=0 note=67 velocity=100 time=0\n",
      "note_off channel=0 note=67 velocity=64 time=0.05859375\n",
      "note_on channel=0 note=67 velocity=100 time=0.41015625\n",
      "note_off channel=0 note=67 velocity=64 time=0.234375\n",
      "note_on channel=0 note=69 velocity=100 time=0.3515625\n",
      "note_off channel=0 note=69 velocity=64 time=0.1171875\n",
      "note_on channel=0 note=70 velocity=100 time=0.234375\n",
      "note_off channel=0 note=70 velocity=64 time=0.1171875\n",
      "note_off channel=0 note=46 velocity=64 time=0.1171875\n",
      "note_off channel=0 note=34 velocity=64 time=0\n",
      "note_on channel=0 note=36 velocity=100 time=0.234375\n",
      "note_on channel=0 note=48 velocity=100 time=0\n",
      "note_on channel=0 note=67 velocity=100 time=0\n",
      "note_off channel=0 note=67 velocity=64 time=0.05859375\n",
      "note_on channel=0 note=67 velocity=40 time=0.05859375\n",
      "note_off channel=0 note=67 velocity=64 time=0.0390625\n",
      "note_on channel=0 note=67 velocity=54 time=0.078125\n",
      "note_off channel=0 note=67 velocity=64 time=0.0390625\n",
      "note_on channel=0 note=67 velocity=59 time=0.078125\n",
      "note_off channel=0 note=67 velocity=64 time=0.0390625\n",
      "note_on channel=0 note=69 velocity=100 time=0.078125\n",
      "note_off channel=0 note=69 velocity=64 time=0.234375\n",
      "note_on channel=0 note=70 velocity=100 time=0.3515625\n",
      "note_off channel=0 note=70 velocity=64 time=0.1171875\n",
      "note_on channel=0 note=69 velocity=100 time=0.234375\n",
      "note_off channel=0 note=69 velocity=64 time=0.1171875\n",
      "note_off channel=0 note=36 velocity=64 time=0.1171875\n",
      "note_off channel=0 note=48 velocity=64 time=0\n",
      "note_on channel=0 note=50 velocity=100 time=0\n",
      "note_on channel=0 note=38 velocity=100 time=0\n",
      "note_on channel=0 note=67 velocity=100 time=0\n",
      "note_off channel=0 note=67 velocity=64 time=0.05859375\n",
      "note_on channel=0 note=67 velocity=100 time=0.41015625\n",
      "note_off channel=0 note=67 velocity=64 time=0.234375\n",
      "note_on channel=0 note=70 velocity=100 time=0.234375\n",
      "note_off channel=0 note=70 velocity=64 time=0.1171875\n",
      "note_on channel=0 note=69 velocity=100 time=0.1171875\n",
      "note_off channel=0 note=69 velocity=64 time=0.1171875\n",
      "note_on channel=0 note=70 velocity=100 time=0.1171875\n",
      "note_off channel=0 note=70 velocity=64 time=0.1171875\n",
      "note_on channel=0 note=69 velocity=100 time=0.0390625\n",
      "note_off channel=0 note=69 velocity=64 time=0.1171875\n",
      "note_on channel=0 note=67 velocity=100 time=0.0390625\n",
      "note_off channel=0 note=67 velocity=64 time=0.1171875\n",
      "note_off channel=0 note=50 velocity=64 time=0.0390625\n",
      "note_off channel=0 note=38 velocity=64 time=0\n",
      "note_on channel=0 note=43 velocity=100 time=0\n",
      "note_on channel=0 note=31 velocity=100 time=0\n",
      "note_on channel=0 note=67 velocity=100 time=0\n",
      "note_off channel=0 note=67 velocity=64 time=0.05859375\n",
      "note_on channel=0 note=67 velocity=100 time=0.64453125\n",
      "note_off channel=0 note=67 velocity=64 time=0.234375\n",
      "note_on channel=0 note=69 velocity=100 time=0.3515625\n",
      "note_off channel=0 note=69 velocity=64 time=0.1171875\n",
      "note_on channel=0 note=70 velocity=100 time=0.234375\n",
      "note_off channel=0 note=70 velocity=64 time=0.1171875\n",
      "note_off channel=0 note=43 velocity=64 time=0.1171875\n",
      "note_off channel=0 note=31 velocity=64 time=0\n",
      "note_on channel=0 note=46 velocity=100 time=0.234375\n",
      "note_on channel=0 note=34 velocity=100 time=0\n",
      "note_on channel=0 note=67 velocity=100 time=0\n",
      "note_off channel=0 note=67 velocity=64 time=0.05859375\n",
      "note_on channel=0 note=67 velocity=100 time=0.41015625\n",
      "note_off channel=0 note=67 velocity=64 time=0.234375\n",
      "note_on channel=0 note=69 velocity=100 time=0.3515625\n",
      "note_off channel=0 note=69 velocity=64 time=0.1171875\n",
      "note_on channel=0 note=70 velocity=100 time=0.234375\n",
      "note_off channel=0 note=70 velocity=64 time=0.1171875\n",
      "note_off channel=0 note=46 velocity=64 time=0.1171875\n",
      "note_off channel=0 note=34 velocity=64 time=0\n",
      "note_on channel=0 note=41 velocity=100 time=0.234375\n",
      "note_on channel=0 note=53 velocity=100 time=0\n",
      "note_on channel=0 note=67 velocity=100 time=0\n",
      "note_off channel=0 note=67 velocity=64 time=0.05859375\n",
      "note_on channel=0 note=67 velocity=40 time=0.05859375\n",
      "note_off channel=0 note=67 velocity=64 time=0.0390625\n",
      "note_on channel=0 note=67 velocity=54 time=0.078125\n",
      "note_off channel=0 note=67 velocity=64 time=0.0390625\n",
      "note_on channel=0 note=67 velocity=59 time=0.078125\n",
      "note_off channel=0 note=67 velocity=64 time=0.0390625\n",
      "note_on channel=0 note=69 velocity=100 time=0.078125\n",
      "note_off channel=0 note=69 velocity=64 time=0.234375\n",
      "note_on channel=0 note=70 velocity=100 time=0.3515625\n",
      "note_off channel=0 note=70 velocity=64 time=0.1171875\n",
      "note_on channel=0 note=69 velocity=100 time=0.234375\n",
      "note_off channel=0 note=69 velocity=64 time=0.1171875\n",
      "note_off channel=0 note=41 velocity=64 time=0.1171875\n",
      "note_off channel=0 note=53 velocity=64 time=0\n",
      "note_on channel=0 note=67 velocity=100 time=0\n",
      "note_on channel=0 note=50 velocity=100 time=0\n",
      "note_on channel=0 note=38 velocity=100 time=0\n",
      "note_off channel=0 note=67 velocity=64 time=0.05859375\n",
      "note_on channel=0 note=67 velocity=100 time=0.41015625\n",
      "note_off channel=0 note=67 velocity=64 time=0.234375\n",
      "note_off channel=0 note=50 velocity=64 time=0.234375\n",
      "note_off channel=0 note=38 velocity=64 time=0\n",
      "note_on channel=0 note=53 velocity=100 time=0\n",
      "note_on channel=0 note=41 velocity=100 time=0\n",
      "note_on channel=0 note=70 velocity=100 time=0\n",
      "note_off channel=0 note=70 velocity=64 time=0.1171875\n",
      "note_on channel=0 note=69 velocity=100 time=0.1171875\n",
      "note_off channel=0 note=69 velocity=64 time=0.1171875\n",
      "note_on channel=0 note=70 velocity=100 time=0.1171875\n",
      "note_off channel=0 note=70 velocity=64 time=0.1171875\n",
      "note_on channel=0 note=69 velocity=100 time=0.0390625\n",
      "note_off channel=0 note=69 velocity=64 time=0.1171875\n",
      "note_on channel=0 note=67 velocity=100 time=0.0390625\n",
      "note_off channel=0 note=67 velocity=64 time=0.1171875\n",
      "note_off channel=0 note=53 velocity=64 time=0.0390625\n",
      "note_off channel=0 note=41 velocity=64 time=0\n",
      "<meta message end_of_track time=0>\n"
     ]
    }
   ],
   "source": [
    "notes = []\n",
    "for message in file:\n",
    "    print(message)\n",
    "    try:\n",
    "        notes.append(message.note)\n",
    "    except AttributeError:\n",
    "        pass\n",
    "    \n",
    "    #plt.plot()\n",
    "    "
   ]
  },
  {
   "cell_type": "code",
   "execution_count": 13,
   "metadata": {},
   "outputs": [
    {
     "data": {
      "text/plain": [
       "[<matplotlib.lines.Line2D at 0x11b1e5a90>]"
      ]
     },
     "execution_count": 13,
     "metadata": {},
     "output_type": "execute_result"
    },
    {
     "data": {
      "image/png": "[encoded data removed]",
      "text/plain": [
       "<matplotlib.figure.Figure at 0x1108192b0>"
      ]
     },
     "metadata": {},
     "output_type": "display_data"
    }
   ],
   "source": [
    "plt.plot(notes,'.')"
   ]
  },
  {
   "cell_type": "code",
   "execution_count": 14,
   "metadata": {},
   "outputs": [
    {
     "name": "stderr",
     "output_type": "stream",
     "text": [
      "Using TensorFlow backend.\n"
     ]
    }
   ],
   "source": [
    "import keras"
   ]
  },
  {
   "cell_type": "code",
   "execution_count": 15,
   "metadata": {},
   "outputs": [],
   "source": [
    "lstm = keras.layers.LSTM(1)"
   ]
  },
  {
   "cell_type": "code",
   "execution_count": 16,
   "metadata": {},
   "outputs": [],
   "source": [
    "model = keras.Sequential()"
   ]
  },
  {
   "cell_type": "code",
   "execution_count": 17,
   "metadata": {},
   "outputs": [],
   "source": [
    "network_input = np.array(notes)"
   ]
  },
  {
   "cell_type": "code",
   "execution_count": 18,
   "metadata": {},
   "outputs": [],
   "source": [
    "from keras.layers import LSTM, Dense, Dropout"
   ]
  },
  {
   "cell_type": "code",
   "execution_count": 19,
   "metadata": {},
   "outputs": [
    {
     "ename": "ValueError",
     "evalue": "Input 0 is incompatible with layer lstm_3: expected ndim=3, found ndim=2",
     "output_type": "error",
     "traceback": [
      "\u001b[0;31m---------------------------------------------------------------------------\u001b[0m",
      "\u001b[0;31mValueError\u001b[0m                                Traceback (most recent call last)",
      "\u001b[0;32m<ipython-input-19-119948744302>\u001b[0m in \u001b[0;36m<module>\u001b[0;34m()\u001b[0m\n\u001b[1;32m      3\u001b[0m     ))\n\u001b[1;32m      4\u001b[0m \u001b[0mmodel\u001b[0m\u001b[0;34m.\u001b[0m\u001b[0madd\u001b[0m\u001b[0;34m(\u001b[0m\u001b[0mDropout\u001b[0m\u001b[0;34m(\u001b[0m\u001b[0;36m0.3\u001b[0m\u001b[0;34m)\u001b[0m\u001b[0;34m)\u001b[0m\u001b[0;34m\u001b[0m\u001b[0m\n\u001b[0;32m----> 5\u001b[0;31m \u001b[0mmodel\u001b[0m\u001b[0;34m.\u001b[0m\u001b[0madd\u001b[0m\u001b[0;34m(\u001b[0m\u001b[0mLSTM\u001b[0m\u001b[0;34m(\u001b[0m\u001b[0;36m512\u001b[0m\u001b[0;34m,\u001b[0m \u001b[0mreturn_sequences\u001b[0m\u001b[0;34m=\u001b[0m\u001b[0;32mTrue\u001b[0m\u001b[0;34m)\u001b[0m\u001b[0;34m)\u001b[0m\u001b[0;34m\u001b[0m\u001b[0m\n\u001b[0m\u001b[1;32m      6\u001b[0m \u001b[0mmodel\u001b[0m\u001b[0;34m.\u001b[0m\u001b[0madd\u001b[0m\u001b[0;34m(\u001b[0m\u001b[0mDropout\u001b[0m\u001b[0;34m(\u001b[0m\u001b[0;36m0.3\u001b[0m\u001b[0;34m)\u001b[0m\u001b[0;34m)\u001b[0m\u001b[0;34m\u001b[0m\u001b[0m\n\u001b[1;32m      7\u001b[0m \u001b[0mmodel\u001b[0m\u001b[0;34m.\u001b[0m\u001b[0madd\u001b[0m\u001b[0;34m(\u001b[0m\u001b[0mLSTM\u001b[0m\u001b[0;34m(\u001b[0m\u001b[0;36m512\u001b[0m\u001b[0;34m)\u001b[0m\u001b[0;34m)\u001b[0m\u001b[0;34m\u001b[0m\u001b[0m\n",
      "\u001b[0;32m/usr/local/Cellar/python3/3.6.3/Frameworks/Python.framework/Versions/3.6/lib/python3.6/site-packages/keras/models.py\u001b[0m in \u001b[0;36madd\u001b[0;34m(self, layer)\u001b[0m\n\u001b[1;32m    490\u001b[0m                           output_shapes=[self.outputs[0]._keras_shape])\n\u001b[1;32m    491\u001b[0m         \u001b[0;32melse\u001b[0m\u001b[0;34m:\u001b[0m\u001b[0;34m\u001b[0m\u001b[0m\n\u001b[0;32m--> 492\u001b[0;31m             \u001b[0moutput_tensor\u001b[0m \u001b[0;34m=\u001b[0m \u001b[0mlayer\u001b[0m\u001b[0;34m(\u001b[0m\u001b[0mself\u001b[0m\u001b[0;34m.\u001b[0m\u001b[0moutputs\u001b[0m\u001b[0;34m[\u001b[0m\u001b[0;36m0\u001b[0m\u001b[0;34m]\u001b[0m\u001b[0;34m)\u001b[0m\u001b[0;34m\u001b[0m\u001b[0m\n\u001b[0m\u001b[1;32m    493\u001b[0m             \u001b[0;32mif\u001b[0m \u001b[0misinstance\u001b[0m\u001b[0;34m(\u001b[0m\u001b[0moutput_tensor\u001b[0m\u001b[0;34m,\u001b[0m \u001b[0mlist\u001b[0m\u001b[0;34m)\u001b[0m\u001b[0;34m:\u001b[0m\u001b[0;34m\u001b[0m\u001b[0m\n\u001b[1;32m    494\u001b[0m                 raise TypeError('All layers in a Sequential model '\n",
      "\u001b[0;32m/usr/local/Cellar/python3/3.6.3/Frameworks/Python.framework/Versions/3.6/lib/python3.6/site-packages/keras/layers/recurrent.py\u001b[0m in \u001b[0;36m__call__\u001b[0;34m(self, inputs, initial_state, constants, **kwargs)\u001b[0m\n\u001b[1;32m    497\u001b[0m \u001b[0;34m\u001b[0m\u001b[0m\n\u001b[1;32m    498\u001b[0m         \u001b[0;32mif\u001b[0m \u001b[0minitial_state\u001b[0m \u001b[0;32mis\u001b[0m \u001b[0;32mNone\u001b[0m \u001b[0;32mand\u001b[0m \u001b[0mconstants\u001b[0m \u001b[0;32mis\u001b[0m \u001b[0;32mNone\u001b[0m\u001b[0;34m:\u001b[0m\u001b[0;34m\u001b[0m\u001b[0m\n\u001b[0;32m--> 499\u001b[0;31m             \u001b[0;32mreturn\u001b[0m \u001b[0msuper\u001b[0m\u001b[0;34m(\u001b[0m\u001b[0mRNN\u001b[0m\u001b[0;34m,\u001b[0m \u001b[0mself\u001b[0m\u001b[0;34m)\u001b[0m\u001b[0;34m.\u001b[0m\u001b[0m__call__\u001b[0m\u001b[0;34m(\u001b[0m\u001b[0minputs\u001b[0m\u001b[0;34m,\u001b[0m \u001b[0;34m**\u001b[0m\u001b[0mkwargs\u001b[0m\u001b[0;34m)\u001b[0m\u001b[0;34m\u001b[0m\u001b[0m\n\u001b[0m\u001b[1;32m    500\u001b[0m \u001b[0;34m\u001b[0m\u001b[0m\n\u001b[1;32m    501\u001b[0m         \u001b[0;31m# If any of `initial_state` or `constants` are specified and are Keras\u001b[0m\u001b[0;34m\u001b[0m\u001b[0;34m\u001b[0m\u001b[0m\n",
      "\u001b[0;32m/usr/local/Cellar/python3/3.6.3/Frameworks/Python.framework/Versions/3.6/lib/python3.6/site-packages/keras/engine/topology.py\u001b[0m in \u001b[0;36m__call__\u001b[0;34m(self, inputs, **kwargs)\u001b[0m\n\u001b[1;32m    573\u001b[0m                 \u001b[0;31m# Raise exceptions in case the input is not compatible\u001b[0m\u001b[0;34m\u001b[0m\u001b[0;34m\u001b[0m\u001b[0m\n\u001b[1;32m    574\u001b[0m                 \u001b[0;31m# with the input_spec specified in the layer constructor.\u001b[0m\u001b[0;34m\u001b[0m\u001b[0;34m\u001b[0m\u001b[0m\n\u001b[0;32m--> 575\u001b[0;31m                 \u001b[0mself\u001b[0m\u001b[0;34m.\u001b[0m\u001b[0massert_input_compatibility\u001b[0m\u001b[0;34m(\u001b[0m\u001b[0minputs\u001b[0m\u001b[0;34m)\u001b[0m\u001b[0;34m\u001b[0m\u001b[0m\n\u001b[0m\u001b[1;32m    576\u001b[0m \u001b[0;34m\u001b[0m\u001b[0m\n\u001b[1;32m    577\u001b[0m                 \u001b[0;31m# Collect input shapes to build layer.\u001b[0m\u001b[0;34m\u001b[0m\u001b[0;34m\u001b[0m\u001b[0m\n",
      "\u001b[0;32m/usr/local/Cellar/python3/3.6.3/Frameworks/Python.framework/Versions/3.6/lib/python3.6/site-packages/keras/engine/topology.py\u001b[0m in \u001b[0;36massert_input_compatibility\u001b[0;34m(self, inputs)\u001b[0m\n\u001b[1;32m    472\u001b[0m                                      \u001b[0mself\u001b[0m\u001b[0;34m.\u001b[0m\u001b[0mname\u001b[0m \u001b[0;34m+\u001b[0m \u001b[0;34m': expected ndim='\u001b[0m \u001b[0;34m+\u001b[0m\u001b[0;34m\u001b[0m\u001b[0m\n\u001b[1;32m    473\u001b[0m                                      \u001b[0mstr\u001b[0m\u001b[0;34m(\u001b[0m\u001b[0mspec\u001b[0m\u001b[0;34m.\u001b[0m\u001b[0mndim\u001b[0m\u001b[0;34m)\u001b[0m \u001b[0;34m+\u001b[0m \u001b[0;34m', found ndim='\u001b[0m \u001b[0;34m+\u001b[0m\u001b[0;34m\u001b[0m\u001b[0m\n\u001b[0;32m--> 474\u001b[0;31m                                      str(K.ndim(x)))\n\u001b[0m\u001b[1;32m    475\u001b[0m             \u001b[0;32mif\u001b[0m \u001b[0mspec\u001b[0m\u001b[0;34m.\u001b[0m\u001b[0mmax_ndim\u001b[0m \u001b[0;32mis\u001b[0m \u001b[0;32mnot\u001b[0m \u001b[0;32mNone\u001b[0m\u001b[0;34m:\u001b[0m\u001b[0;34m\u001b[0m\u001b[0m\n\u001b[1;32m    476\u001b[0m                 \u001b[0mndim\u001b[0m \u001b[0;34m=\u001b[0m \u001b[0mK\u001b[0m\u001b[0;34m.\u001b[0m\u001b[0mndim\u001b[0m\u001b[0;34m(\u001b[0m\u001b[0mx\u001b[0m\u001b[0;34m)\u001b[0m\u001b[0;34m\u001b[0m\u001b[0m\n",
      "\u001b[0;31mValueError\u001b[0m: Input 0 is incompatible with layer lstm_3: expected ndim=3, found ndim=2"
     ]
    }
   ],
   "source": [
    "model.add(keras.layers.LSTM(13,\n",
    "        input_shape=(13,1)\n",
    "    ))\n",
    "model.add(Dropout(0.3))\n",
    "model.add(LSTM(512, return_sequences=True))\n",
    "model.add(Dropout(0.3))\n",
    "model.add(LSTM(512))\n",
    "model.add(Dense(256))\n",
    "model.add(Dropout(0.3))\n",
    "model.add(Dense(n_vocab))\n"
   ]
  },
  {
   "cell_type": "code",
   "execution_count": 20,
   "metadata": {},
   "outputs": [],
   "source": [
    "model.add(keras.layers.Activation('softmax'))"
   ]
  },
  {
   "cell_type": "code",
   "execution_count": 21,
   "metadata": {},
   "outputs": [],
   "source": [
    "model.compile(loss='hinge', optimizer=keras.optimizers.SGD(lr=0.1))"
   ]
  },
  {
   "cell_type": "code",
   "execution_count": 22,
   "metadata": {},
   "outputs": [],
   "source": [
    "sequence_length = 13\n",
    "# get all pitch names\n",
    "pitchnames = sorted(set(item for item in notes))\n",
    "# create a dictionary to map pitches to integers\n",
    "note_to_int = dict((note, number) for number, note in enumerate(pitchnames))\n",
    "network_input = []\n",
    "network_output = []\n",
    "# create input sequences and the corresponding outputs\n",
    "for i in range(0, len(notes) - sequence_length, 1):\n",
    "    sequence_in = notes[i:i + sequence_length]\n",
    "    sequence_out = notes[i + sequence_length]\n",
    "\n",
    "    network_input.append([note_to_int[char] for char in sequence_in])\n",
    "    network_output.append(note_to_int[sequence_out])\n",
    "n_patterns = len(network_input)\n",
    "# reshape the input into a format compatible with LSTM layers\n",
    "network_input = numpy.reshape(network_input, (n_patterns, sequence_length, 1))\n",
    "# normalize input\n",
    "# network_input = network_input / float(n_vocab)\n",
    "network_output = keras.utils.to_categorical(network_output)"
   ]
  },
  {
   "cell_type": "code",
   "execution_count": 23,
   "metadata": {
    "scrolled": true
   },
   "outputs": [
    {
     "name": "stdout",
     "output_type": "stream",
     "text": [
      "Epoch 1/200\n",
      "111/111 [==============================] - 1s 5ms/step - loss: 0.9948\n",
      "Epoch 2/200\n",
      "111/111 [==============================] - 0s 633us/step - loss: 0.9948\n",
      "Epoch 3/200\n",
      "111/111 [==============================] - 0s 610us/step - loss: 0.9947\n",
      "Epoch 4/200\n",
      "111/111 [==============================] - 0s 659us/step - loss: 0.9947\n",
      "Epoch 5/200\n",
      "111/111 [==============================] - 0s 614us/step - loss: 0.9948\n",
      "Epoch 6/200\n",
      "111/111 [==============================] - 0s 586us/step - loss: 0.9947\n",
      "Epoch 7/200\n",
      "111/111 [==============================] - 0s 660us/step - loss: 0.9948\n",
      "Epoch 8/200\n",
      "111/111 [==============================] - 0s 631us/step - loss: 0.9947\n",
      "Epoch 9/200\n",
      "111/111 [==============================] - 0s 642us/step - loss: 0.9946\n",
      "Epoch 10/200\n",
      "111/111 [==============================] - 0s 610us/step - loss: 0.9947\n",
      "Epoch 11/200\n",
      "111/111 [==============================] - 0s 608us/step - loss: 0.9947\n",
      "Epoch 12/200\n",
      "111/111 [==============================] - 0s 555us/step - loss: 0.9945\n",
      "Epoch 13/200\n",
      "111/111 [==============================] - 0s 636us/step - loss: 0.9944\n",
      "Epoch 14/200\n",
      "111/111 [==============================] - 0s 625us/step - loss: 0.9946\n",
      "Epoch 15/200\n",
      "111/111 [==============================] - 0s 946us/step - loss: 0.9946\n",
      "Epoch 16/200\n",
      "111/111 [==============================] - 0s 983us/step - loss: 0.9947\n",
      "Epoch 17/200\n",
      "111/111 [==============================] - 0s 888us/step - loss: 0.9946\n",
      "Epoch 18/200\n",
      "111/111 [==============================] - 0s 946us/step - loss: 0.9946\n",
      "Epoch 19/200\n",
      "111/111 [==============================] - 0s 870us/step - loss: 0.9944\n",
      "Epoch 20/200\n",
      "111/111 [==============================] - 0s 620us/step - loss: 0.9948\n",
      "Epoch 21/200\n",
      "111/111 [==============================] - 0s 922us/step - loss: 0.9944\n",
      "Epoch 22/200\n",
      "111/111 [==============================] - 0s 1ms/step - loss: 0.9944\n",
      "Epoch 23/200\n",
      "111/111 [==============================] - 0s 847us/step - loss: 0.9944\n",
      "Epoch 24/200\n",
      "111/111 [==============================] - 0s 900us/step - loss: 0.9944\n",
      "Epoch 25/200\n",
      "111/111 [==============================] - 0s 935us/step - loss: 0.9945\n",
      "Epoch 26/200\n",
      "111/111 [==============================] - 0s 795us/step - loss: 0.9943\n",
      "Epoch 27/200\n",
      "111/111 [==============================] - 0s 672us/step - loss: 0.9945\n",
      "Epoch 28/200\n",
      "111/111 [==============================] - 0s 582us/step - loss: 0.9942\n",
      "Epoch 29/200\n",
      "111/111 [==============================] - 0s 622us/step - loss: 0.9942\n",
      "Epoch 30/200\n",
      "111/111 [==============================] - 0s 976us/step - loss: 0.9942\n",
      "Epoch 31/200\n",
      "111/111 [==============================] - 0s 896us/step - loss: 0.9942\n",
      "Epoch 32/200\n",
      "111/111 [==============================] - 0s 1ms/step - loss: 0.9943\n",
      "Epoch 33/200\n",
      "111/111 [==============================] - 0s 1ms/step - loss: 0.9943\n",
      "Epoch 34/200\n",
      "111/111 [==============================] - 0s 1ms/step - loss: 0.9944\n",
      "Epoch 35/200\n",
      "111/111 [==============================] - 0s 1ms/step - loss: 0.9941\n",
      "Epoch 36/200\n",
      "111/111 [==============================] - 0s 849us/step - loss: 0.9942\n",
      "Epoch 37/200\n",
      "111/111 [==============================] - 0s 687us/step - loss: 0.9942\n",
      "Epoch 38/200\n",
      "111/111 [==============================] - 0s 621us/step - loss: 0.9941\n",
      "Epoch 39/200\n",
      "111/111 [==============================] - 0s 601us/step - loss: 0.9942\n",
      "Epoch 40/200\n",
      "111/111 [==============================] - 0s 960us/step - loss: 0.9941\n",
      "Epoch 41/200\n",
      "111/111 [==============================] - 0s 931us/step - loss: 0.9942\n",
      "Epoch 42/200\n",
      "111/111 [==============================] - 0s 922us/step - loss: 0.9941\n",
      "Epoch 43/200\n",
      "111/111 [==============================] - 0s 792us/step - loss: 0.9939\n",
      "Epoch 44/200\n",
      "111/111 [==============================] - 0s 866us/step - loss: 0.9938\n",
      "Epoch 45/200\n",
      "111/111 [==============================] - 0s 861us/step - loss: 0.9940\n",
      "Epoch 46/200\n",
      "111/111 [==============================] - 0s 751us/step - loss: 0.9940\n",
      "Epoch 47/200\n",
      "111/111 [==============================] - 0s 734us/step - loss: 0.9941\n",
      "Epoch 48/200\n",
      "111/111 [==============================] - 0s 573us/step - loss: 0.9937\n",
      "Epoch 49/200\n",
      "111/111 [==============================] - 0s 528us/step - loss: 0.9940\n",
      "Epoch 50/200\n",
      "111/111 [==============================] - 0s 522us/step - loss: 0.9940\n",
      "Epoch 51/200\n",
      "111/111 [==============================] - 0s 607us/step - loss: 0.9937\n",
      "Epoch 52/200\n",
      "111/111 [==============================] - 0s 724us/step - loss: 0.9939\n",
      "Epoch 53/200\n",
      "111/111 [==============================] - 0s 682us/step - loss: 0.9938\n",
      "Epoch 54/200\n",
      "111/111 [==============================] - 0s 753us/step - loss: 0.9939\n",
      "Epoch 55/200\n",
      "111/111 [==============================] - 0s 666us/step - loss: 0.9939\n",
      "Epoch 56/200\n",
      "111/111 [==============================] - 0s 569us/step - loss: 0.9940\n",
      "Epoch 57/200\n",
      "111/111 [==============================] - 0s 575us/step - loss: 0.9938\n",
      "Epoch 58/200\n",
      "111/111 [==============================] - 0s 576us/step - loss: 0.9940\n",
      "Epoch 59/200\n",
      "111/111 [==============================] - 0s 582us/step - loss: 0.9939\n",
      "Epoch 60/200\n",
      "111/111 [==============================] - 0s 599us/step - loss: 0.9940\n",
      "Epoch 61/200\n",
      "111/111 [==============================] - 0s 762us/step - loss: 0.9934\n",
      "Epoch 62/200\n",
      "111/111 [==============================] - 0s 1ms/step - loss: 0.9937\n",
      "Epoch 63/200\n",
      "111/111 [==============================] - 0s 676us/step - loss: 0.9937\n",
      "Epoch 64/200\n",
      "111/111 [==============================] - 0s 1ms/step - loss: 0.9938\n",
      "Epoch 65/200\n",
      "111/111 [==============================] - 0s 991us/step - loss: 0.9936\n",
      "Epoch 66/200\n",
      "111/111 [==============================] - 0s 1ms/step - loss: 0.9935\n",
      "Epoch 67/200\n",
      "111/111 [==============================] - 0s 874us/step - loss: 0.9940\n",
      "Epoch 68/200\n",
      "111/111 [==============================] - 0s 768us/step - loss: 0.9934\n",
      "Epoch 69/200\n",
      "111/111 [==============================] - 0s 823us/step - loss: 0.9938\n",
      "Epoch 70/200\n",
      "111/111 [==============================] - 0s 579us/step - loss: 0.9938\n",
      "Epoch 71/200\n",
      "111/111 [==============================] - 0s 970us/step - loss: 0.9937\n",
      "Epoch 72/200\n",
      "111/111 [==============================] - 0s 920us/step - loss: 0.9932\n",
      "Epoch 73/200\n",
      "111/111 [==============================] - 0s 880us/step - loss: 0.9937\n",
      "Epoch 74/200\n",
      "111/111 [==============================] - 0s 677us/step - loss: 0.9931\n",
      "Epoch 75/200\n",
      "111/111 [==============================] - 0s 586us/step - loss: 0.9932\n",
      "Epoch 76/200\n",
      "111/111 [==============================] - 0s 787us/step - loss: 0.9937\n",
      "Epoch 77/200\n",
      "111/111 [==============================] - 0s 1ms/step - loss: 0.9936\n",
      "Epoch 78/200\n",
      "111/111 [==============================] - 0s 825us/step - loss: 0.9936\n",
      "Epoch 79/200\n",
      "111/111 [==============================] - 0s 848us/step - loss: 0.9937\n",
      "Epoch 80/200\n",
      "111/111 [==============================] - 0s 982us/step - loss: 0.9933\n",
      "Epoch 81/200\n",
      "111/111 [==============================] - 0s 957us/step - loss: 0.9936\n",
      "Epoch 82/200\n",
      "111/111 [==============================] - 0s 689us/step - loss: 0.9934\n",
      "Epoch 83/200\n",
      "111/111 [==============================] - 0s 962us/step - loss: 0.9932\n",
      "Epoch 84/200\n",
      "111/111 [==============================] - 0s 998us/step - loss: 0.9935\n",
      "Epoch 85/200\n",
      "111/111 [==============================] - 0s 939us/step - loss: 0.9933\n",
      "Epoch 86/200\n",
      "111/111 [==============================] - 0s 1ms/step - loss: 0.9937\n",
      "Epoch 87/200\n",
      "111/111 [==============================] - 0s 971us/step - loss: 0.9929 0s - loss: 0.993\n",
      "Epoch 88/200\n",
      "111/111 [==============================] - 0s 916us/step - loss: 0.9934\n",
      "Epoch 89/200\n",
      "111/111 [==============================] - 0s 667us/step - loss: 0.9934\n",
      "Epoch 90/200\n",
      "111/111 [==============================] - 0s 646us/step - loss: 0.9934\n",
      "Epoch 91/200\n",
      "111/111 [==============================] - 0s 1ms/step - loss: 0.9933\n",
      "Epoch 92/200\n",
      "111/111 [==============================] - 0s 1ms/step - loss: 0.9935\n",
      "Epoch 93/200\n",
      "111/111 [==============================] - 0s 1ms/step - loss: 0.9934\n",
      "Epoch 94/200\n",
      "111/111 [==============================] - 0s 788us/step - loss: 0.9932\n",
      "Epoch 95/200\n",
      "111/111 [==============================] - 0s 647us/step - loss: 0.9933\n",
      "Epoch 96/200\n",
      "111/111 [==============================] - 0s 754us/step - loss: 0.9933\n",
      "Epoch 97/200\n"
     ]
    },
    {
     "name": "stdout",
     "output_type": "stream",
     "text": [
      "111/111 [==============================] - ETA: 0s - loss: 0.993 - 0s 980us/step - loss: 0.9930\n",
      "Epoch 98/200\n",
      "111/111 [==============================] - 0s 721us/step - loss: 0.9934\n",
      "Epoch 99/200\n",
      "111/111 [==============================] - 0s 541us/step - loss: 0.9936\n",
      "Epoch 100/200\n",
      "111/111 [==============================] - 0s 557us/step - loss: 0.9932\n",
      "Epoch 101/200\n",
      "111/111 [==============================] - 0s 632us/step - loss: 0.9931\n",
      "Epoch 102/200\n",
      "111/111 [==============================] - 0s 680us/step - loss: 0.9935\n",
      "Epoch 103/200\n",
      "111/111 [==============================] - 0s 588us/step - loss: 0.9928\n",
      "Epoch 104/200\n",
      "111/111 [==============================] - 0s 633us/step - loss: 0.9933\n",
      "Epoch 105/200\n",
      "111/111 [==============================] - 0s 1ms/step - loss: 0.9933\n",
      "Epoch 106/200\n",
      "111/111 [==============================] - 0s 852us/step - loss: 0.9934\n",
      "Epoch 107/200\n",
      "111/111 [==============================] - 0s 821us/step - loss: 0.9936\n",
      "Epoch 108/200\n",
      "111/111 [==============================] - 0s 853us/step - loss: 0.9930\n",
      "Epoch 109/200\n",
      "111/111 [==============================] - 0s 912us/step - loss: 0.9934\n",
      "Epoch 110/200\n",
      "111/111 [==============================] - 0s 792us/step - loss: 0.9931\n",
      "Epoch 111/200\n",
      "111/111 [==============================] - 0s 662us/step - loss: 0.9936\n",
      "Epoch 112/200\n",
      "111/111 [==============================] - 0s 604us/step - loss: 0.9935\n",
      "Epoch 113/200\n",
      "111/111 [==============================] - 0s 659us/step - loss: 0.9930\n",
      "Epoch 114/200\n",
      "111/111 [==============================] - 0s 810us/step - loss: 0.9937\n",
      "Epoch 115/200\n",
      "111/111 [==============================] - 0s 726us/step - loss: 0.9932\n",
      "Epoch 116/200\n",
      "111/111 [==============================] - 0s 624us/step - loss: 0.9934\n",
      "Epoch 117/200\n",
      "111/111 [==============================] - 0s 630us/step - loss: 0.9930\n",
      "Epoch 118/200\n",
      "111/111 [==============================] - 0s 796us/step - loss: 0.9926\n",
      "Epoch 119/200\n",
      "111/111 [==============================] - 0s 685us/step - loss: 0.9931\n",
      "Epoch 120/200\n",
      "111/111 [==============================] - 0s 609us/step - loss: 0.9931\n",
      "Epoch 121/200\n",
      "111/111 [==============================] - 0s 638us/step - loss: 0.9935\n",
      "Epoch 122/200\n",
      "111/111 [==============================] - 0s 1ms/step - loss: 0.9929\n",
      "Epoch 123/200\n",
      "111/111 [==============================] - 0s 1ms/step - loss: 0.9931\n",
      "Epoch 124/200\n",
      "111/111 [==============================] - 0s 671us/step - loss: 0.9929\n",
      "Epoch 125/200\n",
      "111/111 [==============================] - 0s 729us/step - loss: 0.9932\n",
      "Epoch 126/200\n",
      "111/111 [==============================] - 0s 664us/step - loss: 0.9929\n",
      "Epoch 127/200\n",
      "111/111 [==============================] - 0s 812us/step - loss: 0.9931\n",
      "Epoch 128/200\n",
      "111/111 [==============================] - 0s 769us/step - loss: 0.9931\n",
      "Epoch 129/200\n",
      "111/111 [==============================] - 0s 688us/step - loss: 0.9930\n",
      "Epoch 130/200\n",
      "111/111 [==============================] - 0s 771us/step - loss: 0.9931\n",
      "Epoch 131/200\n",
      "111/111 [==============================] - 0s 827us/step - loss: 0.9925\n",
      "Epoch 132/200\n",
      "111/111 [==============================] - 0s 674us/step - loss: 0.9933\n",
      "Epoch 133/200\n",
      "111/111 [==============================] - 0s 784us/step - loss: 0.9927\n",
      "Epoch 134/200\n",
      "111/111 [==============================] - 0s 778us/step - loss: 0.9933\n",
      "Epoch 135/200\n",
      "111/111 [==============================] - 0s 762us/step - loss: 0.9929\n",
      "Epoch 136/200\n",
      "111/111 [==============================] - 0s 677us/step - loss: 0.9931\n",
      "Epoch 137/200\n",
      "111/111 [==============================] - 0s 688us/step - loss: 0.9929\n",
      "Epoch 138/200\n",
      "111/111 [==============================] - 0s 794us/step - loss: 0.9931\n",
      "Epoch 139/200\n",
      "111/111 [==============================] - 0s 620us/step - loss: 0.9926\n",
      "Epoch 140/200\n",
      "111/111 [==============================] - 0s 637us/step - loss: 0.9928\n",
      "Epoch 141/200\n",
      "111/111 [==============================] - 0s 1ms/step - loss: 0.9928\n",
      "Epoch 142/200\n",
      "111/111 [==============================] - 0s 1ms/step - loss: 0.9931\n",
      "Epoch 143/200\n",
      "111/111 [==============================] - 0s 1ms/step - loss: 0.9927\n",
      "Epoch 144/200\n",
      "111/111 [==============================] - 0s 851us/step - loss: 0.9935\n",
      "Epoch 145/200\n",
      "111/111 [==============================] - 0s 1ms/step - loss: 0.9933\n",
      "Epoch 146/200\n",
      "111/111 [==============================] - 0s 879us/step - loss: 0.9927\n",
      "Epoch 147/200\n",
      "111/111 [==============================] - 0s 1ms/step - loss: 0.9929\n",
      "Epoch 148/200\n",
      "111/111 [==============================] - 0s 839us/step - loss: 0.9934\n",
      "Epoch 149/200\n",
      "111/111 [==============================] - 0s 654us/step - loss: 0.9929\n",
      "Epoch 150/200\n",
      "111/111 [==============================] - 0s 748us/step - loss: 0.9932\n",
      "Epoch 151/200\n",
      "111/111 [==============================] - 0s 608us/step - loss: 0.9931\n",
      "Epoch 152/200\n",
      "111/111 [==============================] - 0s 632us/step - loss: 0.9926\n",
      "Epoch 153/200\n",
      "111/111 [==============================] - 0s 1ms/step - loss: 0.9928\n",
      "Epoch 154/200\n",
      "111/111 [==============================] - 0s 1ms/step - loss: 0.9931\n",
      "Epoch 155/200\n",
      "111/111 [==============================] - 0s 1ms/step - loss: 0.9927\n",
      "Epoch 156/200\n",
      "111/111 [==============================] - 0s 853us/step - loss: 0.9930\n",
      "Epoch 157/200\n",
      "111/111 [==============================] - 0s 1ms/step - loss: 0.9929\n",
      "Epoch 158/200\n",
      "111/111 [==============================] - 0s 1ms/step - loss: 0.9932\n",
      "Epoch 159/200\n",
      "111/111 [==============================] - 0s 668us/step - loss: 0.9928\n",
      "Epoch 160/200\n",
      "111/111 [==============================] - 0s 1ms/step - loss: 0.9931\n",
      "Epoch 161/200\n",
      "111/111 [==============================] - 0s 1ms/step - loss: 0.9931\n",
      "Epoch 162/200\n",
      "111/111 [==============================] - 0s 1ms/step - loss: 0.9926\n",
      "Epoch 163/200\n",
      "111/111 [==============================] - 0s 1ms/step - loss: 0.9925\n",
      "Epoch 164/200\n",
      "111/111 [==============================] - 0s 912us/step - loss: 0.9931\n",
      "Epoch 165/200\n",
      "111/111 [==============================] - 0s 864us/step - loss: 0.9932\n",
      "Epoch 166/200\n",
      "111/111 [==============================] - 0s 880us/step - loss: 0.9929\n",
      "Epoch 167/200\n",
      "111/111 [==============================] - 0s 893us/step - loss: 0.9927\n",
      "Epoch 168/200\n",
      "111/111 [==============================] - 0s 768us/step - loss: 0.9932\n",
      "Epoch 169/200\n",
      "111/111 [==============================] - 0s 661us/step - loss: 0.9929\n",
      "Epoch 170/200\n",
      "111/111 [==============================] - 0s 587us/step - loss: 0.9933\n",
      "Epoch 171/200\n",
      "111/111 [==============================] - 0s 635us/step - loss: 0.9929\n",
      "Epoch 172/200\n",
      "111/111 [==============================] - 0s 766us/step - loss: 0.9931\n",
      "Epoch 173/200\n",
      "111/111 [==============================] - 0s 1ms/step - loss: 0.9925\n",
      "Epoch 174/200\n",
      "111/111 [==============================] - 0s 896us/step - loss: 0.9929\n",
      "Epoch 175/200\n",
      "111/111 [==============================] - 0s 937us/step - loss: 0.9936\n",
      "Epoch 176/200\n",
      "111/111 [==============================] - 0s 1ms/step - loss: 0.9931\n",
      "Epoch 177/200\n",
      "111/111 [==============================] - 0s 804us/step - loss: 0.9933\n",
      "Epoch 178/200\n",
      "111/111 [==============================] - 0s 900us/step - loss: 0.9930\n",
      "Epoch 179/200\n",
      "111/111 [==============================] - 0s 934us/step - loss: 0.9928\n",
      "Epoch 180/200\n",
      "111/111 [==============================] - 0s 800us/step - loss: 0.9929\n",
      "Epoch 181/200\n",
      "111/111 [==============================] - 0s 823us/step - loss: 0.9927\n",
      "Epoch 182/200\n",
      "111/111 [==============================] - 0s 1ms/step - loss: 0.9928\n",
      "Epoch 183/200\n",
      "111/111 [==============================] - 0s 774us/step - loss: 0.9931\n",
      "Epoch 184/200\n",
      "111/111 [==============================] - 0s 975us/step - loss: 0.9925\n",
      "Epoch 185/200\n",
      "111/111 [==============================] - 0s 897us/step - loss: 0.9929\n",
      "Epoch 186/200\n",
      "111/111 [==============================] - 0s 954us/step - loss: 0.9927\n",
      "Epoch 187/200\n",
      "111/111 [==============================] - 0s 840us/step - loss: 0.9930\n",
      "Epoch 188/200\n",
      "111/111 [==============================] - 0s 807us/step - loss: 0.9935\n",
      "Epoch 189/200\n",
      "111/111 [==============================] - 0s 1ms/step - loss: 0.9933\n",
      "Epoch 190/200\n",
      "111/111 [==============================] - 0s 913us/step - loss: 0.9928\n",
      "Epoch 191/200\n",
      "111/111 [==============================] - 0s 948us/step - loss: 0.9927\n",
      "Epoch 192/200\n"
     ]
    },
    {
     "name": "stdout",
     "output_type": "stream",
     "text": [
      "111/111 [==============================] - 0s 881us/step - loss: 0.9928\n",
      "Epoch 193/200\n",
      "111/111 [==============================] - 0s 938us/step - loss: 0.9930\n",
      "Epoch 194/200\n",
      "111/111 [==============================] - 0s 754us/step - loss: 0.9928\n",
      "Epoch 195/200\n",
      "111/111 [==============================] - 0s 768us/step - loss: 0.9929\n",
      "Epoch 196/200\n",
      "111/111 [==============================] - 0s 790us/step - loss: 0.9929\n",
      "Epoch 197/200\n",
      "111/111 [==============================] - 0s 684us/step - loss: 0.9928\n",
      "Epoch 198/200\n",
      "111/111 [==============================] - 0s 905us/step - loss: 0.9931\n",
      "Epoch 199/200\n",
      "111/111 [==============================] - 0s 745us/step - loss: 0.9930\n",
      "Epoch 200/200\n",
      "111/111 [==============================] - 0s 935us/step - loss: 0.9926\n"
     ]
    },
    {
     "data": {
      "text/plain": [
       "<keras.callbacks.History at 0x11b69cf28>"
      ]
     },
     "execution_count": 23,
     "metadata": {},
     "output_type": "execute_result"
    }
   ],
   "source": [
    "model.fit(network_input, network_output, epochs=200)"
   ]
  },
  {
   "cell_type": "code",
   "execution_count": 24,
   "metadata": {},
   "outputs": [],
   "source": [
    "import music21"
   ]
  },
  {
   "cell_type": "code",
   "execution_count": 25,
   "metadata": {},
   "outputs": [
    {
     "data": {
      "text/plain": [
       "<midi track '' 3 messages>"
      ]
     },
     "execution_count": 25,
     "metadata": {},
     "output_type": "execute_result"
    }
   ],
   "source": [
    "file.tracks[0]"
   ]
  },
  {
   "cell_type": "code",
   "execution_count": 26,
   "metadata": {},
   "outputs": [
    {
     "data": {
      "text/plain": [
       "array([ 0., 34.,  0.,  0.,  0.,  0.,  0.,  0.,  0.,  0.,  0.,  0.,  0.])"
      ]
     },
     "execution_count": 26,
     "metadata": {},
     "output_type": "execute_result"
    }
   ],
   "source": [
    "network_output[0]*pitchnames"
   ]
  },
  {
   "cell_type": "code",
   "execution_count": 28,
   "metadata": {},
   "outputs": [
    {
     "data": {
      "text/plain": [
       "128.0"
      ]
     },
     "execution_count": 28,
     "metadata": {},
     "output_type": "execute_result"
    }
   ],
   "source": [
    "mido.tempo2bpm(468750)"
   ]
  },
  {
   "cell_type": "code",
   "execution_count": 58,
   "metadata": {},
   "outputs": [
    {
     "data": {
      "text/plain": [
       "<meta message time_signature numerator=4 denominator=4 clocks_per_click=24 notated_32nd_notes_per_beat=8 time=0>"
      ]
     },
     "execution_count": 58,
     "metadata": {},
     "output_type": "execute_result"
    }
   ],
   "source": [
    "messages[1]"
   ]
  },
  {
   "cell_type": "code",
   "execution_count": 56,
   "metadata": {},
   "outputs": [
    {
     "name": "stdout",
     "output_type": "stream",
     "text": [
      "<meta message set_tempo tempo=468750 time=0>\n",
      "<meta message time_signature numerator=4 denominator=4 clocks_per_click=24 notated_32nd_notes_per_beat=8 time=0>\n",
      "<meta message end_of_track time=0>\n"
     ]
    }
   ],
   "source": [
    "messages = []\n",
    "for message in file.tracks[0]:\n",
    "    print(message)\n",
    "    messages.append(message)\n",
    "    if message.time==0.64453125:\n",
    "        break"
   ]
  },
  {
   "cell_type": "code",
   "execution_count": 30,
   "metadata": {},
   "outputs": [
    {
     "name": "stdout",
     "output_type": "stream",
     "text": [
      "=== Track 0\n",
      "<meta message set_tempo tempo=468750 time=0>\n",
      "<meta message time_signature numerator=4 denominator=4 clocks_per_click=24 notated_32nd_notes_per_beat=8 time=0>\n",
      "<meta message end_of_track time=0>\n",
      "=== Track 1\n",
      "<meta message track_name name='Nexus Lead 1' time=0>\n",
      "<message note_on channel=0 note=43 velocity=100 time=0>\n",
      "<message note_on channel=0 note=31 velocity=100 time=0>\n",
      "<message note_on channel=0 note=67 velocity=100 time=0>\n",
      "<message note_off channel=0 note=67 velocity=64 time=12>\n",
      "<message note_on channel=0 note=67 velocity=100 time=132>\n",
      "<message note_off channel=0 note=67 velocity=64 time=48>\n",
      "<message note_on channel=0 note=69 velocity=100 time=72>\n",
      "<message note_off channel=0 note=69 velocity=64 time=24>\n",
      "<message note_on channel=0 note=70 velocity=100 time=48>\n",
      "<message note_off channel=0 note=70 velocity=64 time=24>\n",
      "<message note_off channel=0 note=43 velocity=64 time=24>\n",
      "<message note_off channel=0 note=31 velocity=64 time=0>\n",
      "<message note_on channel=0 note=46 velocity=100 time=48>\n",
      "<message note_on channel=0 note=34 velocity=100 time=0>\n",
      "<message note_on channel=0 note=67 velocity=100 time=0>\n",
      "<message note_off channel=0 note=67 velocity=64 time=12>\n",
      "<message note_on channel=0 note=67 velocity=100 time=84>\n",
      "<message note_off channel=0 note=67 velocity=64 time=48>\n",
      "<message note_on channel=0 note=69 velocity=100 time=72>\n",
      "<message note_off channel=0 note=69 velocity=64 time=24>\n",
      "<message note_on channel=0 note=70 velocity=100 time=48>\n",
      "<message note_off channel=0 note=70 velocity=64 time=24>\n",
      "<message note_off channel=0 note=46 velocity=64 time=24>\n",
      "<message note_off channel=0 note=34 velocity=64 time=0>\n",
      "<message note_on channel=0 note=36 velocity=100 time=48>\n",
      "<message note_on channel=0 note=48 velocity=100 time=0>\n",
      "<message note_on channel=0 note=67 velocity=100 time=0>\n",
      "<message note_off channel=0 note=67 velocity=64 time=12>\n",
      "<message note_on channel=0 note=67 velocity=40 time=12>\n",
      "<message note_off channel=0 note=67 velocity=64 time=8>\n",
      "<message note_on channel=0 note=67 velocity=54 time=16>\n",
      "<message note_off channel=0 note=67 velocity=64 time=8>\n",
      "<message note_on channel=0 note=67 velocity=59 time=16>\n",
      "<message note_off channel=0 note=67 velocity=64 time=8>\n",
      "<message note_on channel=0 note=69 velocity=100 time=16>\n",
      "<message note_off channel=0 note=69 velocity=64 time=48>\n",
      "<message note_on channel=0 note=70 velocity=100 time=72>\n",
      "<message note_off channel=0 note=70 velocity=64 time=24>\n",
      "<message note_on channel=0 note=69 velocity=100 time=48>\n",
      "<message note_off channel=0 note=69 velocity=64 time=24>\n",
      "<message note_off channel=0 note=36 velocity=64 time=24>\n",
      "<message note_off channel=0 note=48 velocity=64 time=0>\n",
      "<message note_on channel=0 note=50 velocity=100 time=0>\n",
      "<message note_on channel=0 note=38 velocity=100 time=0>\n",
      "<message note_on channel=0 note=67 velocity=100 time=0>\n",
      "<message note_off channel=0 note=67 velocity=64 time=12>\n",
      "<message note_on channel=0 note=67 velocity=100 time=84>\n",
      "<message note_off channel=0 note=67 velocity=64 time=48>\n",
      "<message note_on channel=0 note=70 velocity=100 time=48>\n",
      "<message note_off channel=0 note=70 velocity=64 time=24>\n",
      "<message note_on channel=0 note=69 velocity=100 time=24>\n",
      "<message note_off channel=0 note=69 velocity=64 time=24>\n",
      "<message note_on channel=0 note=70 velocity=100 time=24>\n",
      "<message note_off channel=0 note=70 velocity=64 time=24>\n",
      "<message note_on channel=0 note=69 velocity=100 time=8>\n",
      "<message note_off channel=0 note=69 velocity=64 time=24>\n",
      "<message note_on channel=0 note=67 velocity=100 time=8>\n",
      "<message note_off channel=0 note=67 velocity=64 time=24>\n",
      "<message note_off channel=0 note=50 velocity=64 time=8>\n",
      "<message note_off channel=0 note=38 velocity=64 time=0>\n",
      "<message note_on channel=0 note=43 velocity=100 time=0>\n",
      "<message note_on channel=0 note=31 velocity=100 time=0>\n",
      "<message note_on channel=0 note=67 velocity=100 time=0>\n",
      "<message note_off channel=0 note=67 velocity=64 time=12>\n",
      "<message note_on channel=0 note=67 velocity=100 time=132>\n",
      "<message note_off channel=0 note=67 velocity=64 time=48>\n",
      "<message note_on channel=0 note=69 velocity=100 time=72>\n",
      "<message note_off channel=0 note=69 velocity=64 time=24>\n",
      "<message note_on channel=0 note=70 velocity=100 time=48>\n",
      "<message note_off channel=0 note=70 velocity=64 time=24>\n",
      "<message note_off channel=0 note=43 velocity=64 time=24>\n",
      "<message note_off channel=0 note=31 velocity=64 time=0>\n",
      "<message note_on channel=0 note=46 velocity=100 time=48>\n",
      "<message note_on channel=0 note=34 velocity=100 time=0>\n",
      "<message note_on channel=0 note=67 velocity=100 time=0>\n",
      "<message note_off channel=0 note=67 velocity=64 time=12>\n",
      "<message note_on channel=0 note=67 velocity=100 time=84>\n",
      "<message note_off channel=0 note=67 velocity=64 time=48>\n",
      "<message note_on channel=0 note=69 velocity=100 time=72>\n",
      "<message note_off channel=0 note=69 velocity=64 time=24>\n",
      "<message note_on channel=0 note=70 velocity=100 time=48>\n",
      "<message note_off channel=0 note=70 velocity=64 time=24>\n",
      "<message note_off channel=0 note=46 velocity=64 time=24>\n",
      "<message note_off channel=0 note=34 velocity=64 time=0>\n",
      "<message note_on channel=0 note=41 velocity=100 time=48>\n",
      "<message note_on channel=0 note=53 velocity=100 time=0>\n",
      "<message note_on channel=0 note=67 velocity=100 time=0>\n",
      "<message note_off channel=0 note=67 velocity=64 time=12>\n",
      "<message note_on channel=0 note=67 velocity=40 time=12>\n",
      "<message note_off channel=0 note=67 velocity=64 time=8>\n",
      "<message note_on channel=0 note=67 velocity=54 time=16>\n",
      "<message note_off channel=0 note=67 velocity=64 time=8>\n",
      "<message note_on channel=0 note=67 velocity=59 time=16>\n",
      "<message note_off channel=0 note=67 velocity=64 time=8>\n",
      "<message note_on channel=0 note=69 velocity=100 time=16>\n",
      "<message note_off channel=0 note=69 velocity=64 time=48>\n",
      "<message note_on channel=0 note=70 velocity=100 time=72>\n",
      "<message note_off channel=0 note=70 velocity=64 time=24>\n",
      "<message note_on channel=0 note=69 velocity=100 time=48>\n",
      "<message note_off channel=0 note=69 velocity=64 time=24>\n",
      "<message note_off channel=0 note=41 velocity=64 time=24>\n",
      "<message note_off channel=0 note=53 velocity=64 time=0>\n",
      "<message note_on channel=0 note=67 velocity=100 time=0>\n",
      "<message note_on channel=0 note=50 velocity=100 time=0>\n",
      "<message note_on channel=0 note=38 velocity=100 time=0>\n",
      "<message note_off channel=0 note=67 velocity=64 time=12>\n",
      "<message note_on channel=0 note=67 velocity=100 time=84>\n",
      "<message note_off channel=0 note=67 velocity=64 time=48>\n",
      "<message note_off channel=0 note=50 velocity=64 time=48>\n",
      "<message note_off channel=0 note=38 velocity=64 time=0>\n",
      "<message note_on channel=0 note=53 velocity=100 time=0>\n",
      "<message note_on channel=0 note=41 velocity=100 time=0>\n",
      "<message note_on channel=0 note=70 velocity=100 time=0>\n",
      "<message note_off channel=0 note=70 velocity=64 time=24>\n",
      "<message note_on channel=0 note=69 velocity=100 time=24>\n",
      "<message note_off channel=0 note=69 velocity=64 time=24>\n",
      "<message note_on channel=0 note=70 velocity=100 time=24>\n",
      "<message note_off channel=0 note=70 velocity=64 time=24>\n",
      "<message note_on channel=0 note=69 velocity=100 time=8>\n",
      "<message note_off channel=0 note=69 velocity=64 time=24>\n",
      "<message note_on channel=0 note=67 velocity=100 time=8>\n",
      "<message note_off channel=0 note=67 velocity=64 time=24>\n",
      "<message note_off channel=0 note=53 velocity=64 time=8>\n",
      "<message note_off channel=0 note=41 velocity=64 time=0>\n",
      "<meta message end_of_track time=0>\n"
     ]
    }
   ],
   "source": [
    "file.print_tracks()"
   ]
  },
  {
   "cell_type": "code",
   "execution_count": 25,
   "metadata": {},
   "outputs": [
    {
     "ename": "AttributeError",
     "evalue": "'MidiFile' object has no attribute 'startswith'",
     "output_type": "error",
     "traceback": [
      "\u001b[0;31m---------------------------------------------------------------------------\u001b[0m",
      "\u001b[0;31mAttributeError\u001b[0m                            Traceback (most recent call last)",
      "\u001b[0;32m<ipython-input-25-0c6c700363b5>\u001b[0m in \u001b[0;36m<module>\u001b[0;34m()\u001b[0m\n\u001b[0;32m----> 1\u001b[0;31m \u001b[0mscore\u001b[0m \u001b[0;34m=\u001b[0m \u001b[0mmusic21\u001b[0m\u001b[0;34m.\u001b[0m\u001b[0mconverter\u001b[0m\u001b[0;34m.\u001b[0m\u001b[0mparse\u001b[0m\u001b[0;34m(\u001b[0m\u001b[0mfile\u001b[0m\u001b[0;34m)\u001b[0m\u001b[0;34m\u001b[0m\u001b[0m\n\u001b[0m\u001b[1;32m      2\u001b[0m \u001b[0mkey\u001b[0m \u001b[0;34m=\u001b[0m \u001b[0mscore\u001b[0m\u001b[0;34m.\u001b[0m\u001b[0manalyze\u001b[0m\u001b[0;34m(\u001b[0m\u001b[0;34m'key'\u001b[0m\u001b[0;34m)\u001b[0m\u001b[0;34m\u001b[0m\u001b[0m\n",
      "\u001b[0;32m/usr/local/Cellar/python3/3.6.3/Frameworks/Python.framework/Versions/3.6/lib/python3.6/site-packages/music21/converter/__init__.py\u001b[0m in \u001b[0;36mparse\u001b[0;34m(value, *args, **keywords)\u001b[0m\n\u001b[1;32m   1117\u001b[0m         \u001b[0;32mreturn\u001b[0m \u001b[0mparseData\u001b[0m\u001b[0;34m(\u001b[0m\u001b[0mvalue\u001b[0m\u001b[0;34m,\u001b[0m \u001b[0mnumber\u001b[0m\u001b[0;34m=\u001b[0m\u001b[0mnumber\u001b[0m\u001b[0;34m,\u001b[0m \u001b[0;34m**\u001b[0m\u001b[0mkeywords\u001b[0m\u001b[0;34m)\u001b[0m\u001b[0;34m\u001b[0m\u001b[0m\n\u001b[1;32m   1118\u001b[0m     \u001b[0;31m# a midi string, must come before os.path.exists test\u001b[0m\u001b[0;34m\u001b[0m\u001b[0;34m\u001b[0m\u001b[0m\n\u001b[0;32m-> 1119\u001b[0;31m     \u001b[0;32melif\u001b[0m \u001b[0;32mnot\u001b[0m \u001b[0misinstance\u001b[0m\u001b[0;34m(\u001b[0m\u001b[0mvalue\u001b[0m\u001b[0;34m,\u001b[0m \u001b[0mbytes\u001b[0m\u001b[0;34m)\u001b[0m \u001b[0;32mand\u001b[0m \u001b[0mvalueStr\u001b[0m\u001b[0;34m.\u001b[0m\u001b[0mstartswith\u001b[0m\u001b[0;34m(\u001b[0m\u001b[0;34m'MThd'\u001b[0m\u001b[0;34m)\u001b[0m\u001b[0;34m:\u001b[0m\u001b[0;34m\u001b[0m\u001b[0m\n\u001b[0m\u001b[1;32m   1120\u001b[0m         \u001b[0;32mreturn\u001b[0m \u001b[0mparseData\u001b[0m\u001b[0;34m(\u001b[0m\u001b[0mvalue\u001b[0m\u001b[0;34m,\u001b[0m \u001b[0mnumber\u001b[0m\u001b[0;34m=\u001b[0m\u001b[0mnumber\u001b[0m\u001b[0;34m,\u001b[0m \u001b[0mformat\u001b[0m\u001b[0;34m=\u001b[0m\u001b[0mm21Format\u001b[0m\u001b[0;34m,\u001b[0m \u001b[0;34m**\u001b[0m\u001b[0mkeywords\u001b[0m\u001b[0;34m)\u001b[0m\u001b[0;34m\u001b[0m\u001b[0m\n\u001b[1;32m   1121\u001b[0m     \u001b[0;32melif\u001b[0m \u001b[0;32mnot\u001b[0m \u001b[0misinstance\u001b[0m\u001b[0;34m(\u001b[0m\u001b[0mvalue\u001b[0m\u001b[0;34m,\u001b[0m \u001b[0mbytes\u001b[0m\u001b[0;34m)\u001b[0m \u001b[0;32mand\u001b[0m \u001b[0mos\u001b[0m\u001b[0;34m.\u001b[0m\u001b[0mpath\u001b[0m\u001b[0;34m.\u001b[0m\u001b[0mexists\u001b[0m\u001b[0;34m(\u001b[0m\u001b[0mvalueStr\u001b[0m\u001b[0;34m)\u001b[0m\u001b[0;34m:\u001b[0m\u001b[0;34m\u001b[0m\u001b[0m\n",
      "\u001b[0;31mAttributeError\u001b[0m: 'MidiFile' object has no attribute 'startswith'"
     ]
    }
   ],
   "source": [
    "score = music21.converter.parse(file)\n",
    "key = score.analyze('key')"
   ]
  },
  {
   "cell_type": "code",
   "execution_count": 29,
   "metadata": {
    "scrolled": true
   },
   "outputs": [
    {
     "data": {
      "text/plain": [
       "[31, 34, 36, 38, 41, 43, 46, 48, 50, 53, 67, 69, 70]"
      ]
     },
     "execution_count": 29,
     "metadata": {},
     "output_type": "execute_result"
    }
   ],
   "source": [
    "pitchnames"
   ]
  },
  {
   "cell_type": "code",
   "execution_count": 56,
   "metadata": {},
   "outputs": [],
   "source": [
    "def add_midi(network_output, pitchnames):\n",
    "    new_midi = mido.MidiFile()\n",
    "    new_track = mido.MidiTrack()\n",
    "    new_midi.tracks.append(new_track)\n",
    "    matrix = [network_out*pitchnames for network_out in network_output]\n",
    "    note_array = [array[array>0][0] for array in matrix]\n",
    "    note_status = ['note_on'] * len(note_array)\n",
    "    velocities = np.ones(len(note_array))*64\n",
    "    times = np.ones(len(note_array))*64\n",
    "    new_track.append(mido.Message('program_change', program=12, time=0))\n",
    "    for i in range(len(note_array)):\n",
    "        new_track.append(mido.Message(note_status[i], note=int(note_array[i]), \n",
    "                             velocity=int(velocities[i]), time=int(times[i])))\n",
    "    new_midi.save('new_song.mid')"
   ]
  },
  {
   "cell_type": "code",
   "execution_count": 57,
   "metadata": {},
   "outputs": [],
   "source": [
    "add_midi(network_output, pitchnames)"
   ]
  },
  {
   "cell_type": "code",
   "execution_count": 59,
   "metadata": {},
   "outputs": [],
   "source": [
    "!open ."
   ]
  },
  {
   "cell_type": "code",
   "execution_count": 71,
   "metadata": {},
   "outputs": [
    {
     "data": {
      "text/plain": [
       "[<matplotlib.lines.Line2D at 0x1229f08d0>]"
      ]
     },
     "execution_count": 71,
     "metadata": {},
     "output_type": "execute_result"
    },
    {
     "data": {
      "image/png": "[encoded data removed]",
      "text/plain": [
       "<matplotlib.figure.Figure at 0x1235a12b0>"
      ]
     },
     "metadata": {
      "image/png": {
       "height": 250,
       "width": 370
      }
     },
     "output_type": "display_data"
    }
   ],
   "source": [
    "a = [network_out*pitchnames for network_out in network_output]\n",
    "plt.plot([b[b>0][0] for b in a],'.')\n",
    "mido."
   ]
  },
  {
   "cell_type": "code",
   "execution_count": 68,
   "metadata": {},
   "outputs": [
    {
     "data": {
      "text/plain": [
       "34.0"
      ]
     },
     "execution_count": 68,
     "metadata": {},
     "output_type": "execute_result"
    }
   ],
   "source": [
    "a[a>0][0]"
   ]
  },
  {
   "cell_type": "markdown",
   "metadata": {},
   "source": [
    "## "
   ]
  },
  {
   "cell_type": "code",
   "execution_count": 20,
   "metadata": {},
   "outputs": [],
   "source": [
    "import os\n",
    "import mido\n",
    "import numpy as np\n",
    "from mido import MidiFile\n",
    "\n",
    "def getAllFeatureVectors():\n",
    "    rootdir = os.getcwd() + '/data/'\n",
    "   \n",
    "    featureVectors = []\n",
    "    i = 0\n",
    "    for subdir, dirs, files in os.walk(rootdir):\n",
    "        for file in files:\n",
    "            midiFileName = os.path.join(subdir, file)\n",
    "           #print os.path.join(subdir, file)\n",
    "           if (not midiFileName.endswith('.mid')):\n",
    "                continue\n",
    "            featureVectors.append(getFeatureVector(midiFileName))\n",
    "            i+=1\n",
    "           \n",
    "   # Convert to numpy arrays\n",
    "    return np.array(featureVectors)\n",
    "           \n",
    "def getFeatureVector(midiFileName):\n",
    "    file = MidiFile(midiFileName)\n",
    "\n",
    "    features = []\n",
    "\n",
    "    i = 0\n",
    "    timeSinceStart = 0.0\n",
    "    for message in file:\n",
    "       \n",
    "       (newFeatureVect, timeSinceStart) = processMessage(message, timeSinceStart)\n",
    "        if (type(newFeatureVect) is list):\n",
    "            features.append(newFeatureVect)\n",
    "            i += 1\n",
    "       \n",
    "    return features\n",
    "       \n",
    "def processMessage(m, timeSinceStart):\n",
    "    vector = []\n",
    "   \n",
    "    if (type(m.time) is float or type(m.time) is int):\n",
    "        timeSinceStart += m.time\n",
    "   \n",
    "    if (m.type in ['note_on', 'note_off']):\n",
    "       \n",
    "        on = 1\n",
    "        if (m.type == 'note_off'):\n",
    "            on = 0\n",
    "       \n",
    "        vector = [on, m.channel, m.note, m.velocity, timeSinceStart]\n",
    "        return (vector, timeSinceStart)\n",
    "    else:\n",
    "        return (None, timeSinceStart)\n",
    "   \n",
    "   \n",
    "featureVectors = getAllFeatureVectors()"
   ]
  },
  {
   "cell_type": "code",
   "execution_count": null,
   "metadata": {},
   "outputs": [],
   "source": []
  }
 ],
 "metadata": {
  "kernelspec": {
   "display_name": "Python 3",
   "language": "python",
   "name": "python3"
  },
  "language_info": {
   "codemirror_mode": {
    "name": "ipython",
    "version": 3
   },
   "file_extension": ".py",
   "mimetype": "text/x-python",
   "name": "python",
   "nbconvert_exporter": "python",
   "pygments_lexer": "ipython3",
   "version": "3.6.3"
  }
 },
 "nbformat": 4,
 "nbformat_minor": 2
}
