{
 "cells": [
  {
   "cell_type": "code",
   "execution_count": 1,
   "metadata": {
    "collapsed": true
   },
   "outputs": [],
   "source": [
    "import mido\n",
    "from mido import MidiFile"
   ]
  },
  {
   "cell_type": "code",
   "execution_count": 2,
   "metadata": {
    "collapsed": true
   },
   "outputs": [],
   "source": [
    "file = MidiFile('data/Midi #8.mid')"
   ]
  },
  {
   "cell_type": "code",
   "execution_count": 3,
   "metadata": {
    "collapsed": true
   },
   "outputs": [],
   "source": [
    "message = mido.Message('program_change', program=10)"
   ]
  },
  {
   "cell_type": "code",
   "execution_count": 4,
   "metadata": {},
   "outputs": [
    {
     "name": "stdout",
     "output_type": "stream",
     "text": [
      "Populating the interactive namespace from numpy and matplotlib\n"
     ]
    }
   ],
   "source": [
    "%pylab inline"
   ]
  },
  {
   "cell_type": "code",
   "execution_count": 5,
   "metadata": {
    "collapsed": true
   },
   "outputs": [],
   "source": [
    "notes = []\n",
    "for message in file:\n",
    "    try:\n",
    "        notes.append(message.note)\n",
    "    except AttributeError:\n",
    "        pass"
   ]
  },
  {
   "cell_type": "code",
   "execution_count": 6,
   "metadata": {},
   "outputs": [
    {
     "data": {
      "text/plain": [
       "[<matplotlib.lines.Line2D at 0x106e7fba8>]"
      ]
     },
     "execution_count": 6,
     "metadata": {},
     "output_type": "execute_result"
    },
    {
     "data": {
      "image/png": "[encoded data removed]",
      "text/plain": [
       "<matplotlib.figure.Figure at 0x1056f2ac8>"
      ]
     },
     "metadata": {},
     "output_type": "display_data"
    }
   ],
   "source": [
    "plt.plot(notes,'.')"
   ]
  },
  {
   "cell_type": "code",
   "execution_count": 9,
   "metadata": {
    "collapsed": true
   },
   "outputs": [],
   "source": [
    "from keras.layers import LSTM, Dense, Dropout, Flatten, TimeDistributed\n",
    "from keras.layers import Input, Embedding\n",
    "from keras.models import Model"
   ]
  },
  {
   "cell_type": "code",
   "execution_count": 41,
   "metadata": {},
   "outputs": [
    {
     "name": "stdout",
     "output_type": "stream",
     "text": [
      "13\n",
      "104\n",
      "(104, 13)\n"
     ]
    }
   ],
   "source": [
    "sequence_length = 20\n",
    "feature_dim=1\n",
    "# get all pitch names\n",
    "pitchnames = sorted(set(item for item in notes))\n",
    "n_catagory=len(pitchnames)\n",
    "print (n_catagory)\n",
    "# create a dictionary to map pitches to integers\n",
    "note_to_int = dict((note, number) for number, note in enumerate(pitchnames))\n",
    "network_input = []\n",
    "network_output = []\n",
    "# create input sequences and the corresponding outputs\n",
    "for i in range(0, len(notes) - sequence_length, 1):\n",
    "    sequence_in =  notes[i:i + sequence_length]\n",
    "    sequence_out = notes[i + sequence_length]\n",
    "    network_input.append([note_to_int[char] for char in sequence_in])\n",
    "    network_output.append(note_to_int[sequence_out])\n",
    "n_patterns = len(network_input)\n",
    "print (n_patterns)\n",
    "# reshape the input into a format compatible with LSTM layers\n",
    "network_input = numpy.reshape(network_input, (n_patterns, sequence_length,feature_dim))\n",
    "network_output = keras.utils.to_categorical(network_output,num_classes=n_catagory)\n",
    "print (network_output.shape)"
   ]
  },
  {
   "cell_type": "code",
   "execution_count": 69,
   "metadata": {},
   "outputs": [
    {
     "name": "stdout",
     "output_type": "stream",
     "text": [
      "Epoch 1/200\n",
      "104/104 [==============================] - 1s 13ms/step - loss: 0.2545\n",
      "Epoch 2/200\n",
      "104/104 [==============================] - 0s 1ms/step - loss: 0.2271\n",
      "Epoch 3/200\n",
      "104/104 [==============================] - 0s 1ms/step - loss: 0.2233\n",
      "Epoch 4/200\n",
      "104/104 [==============================] - 0s 1ms/step - loss: 0.2218\n",
      "Epoch 5/200\n",
      "104/104 [==============================] - 0s 1ms/step - loss: 0.2200A: 0s - loss: 0.213\n",
      "Epoch 6/200\n",
      "104/104 [==============================] - 0s 1ms/step - loss: 0.2212\n",
      "Epoch 7/200\n",
      "104/104 [==============================] - 0s 1ms/step - loss: 0.2177\n",
      "Epoch 8/200\n",
      "104/104 [==============================] - 0s 1ms/step - loss: 0.2194\n",
      "Epoch 9/200\n",
      "104/104 [==============================] - 0s 1ms/step - loss: 0.2142\n",
      "Epoch 10/200\n",
      "104/104 [==============================] - 0s 1ms/step - loss: 0.2131A: 0s - loss: 0.217\n",
      "Epoch 11/200\n",
      "104/104 [==============================] - 0s 1ms/step - loss: 0.2107\n",
      "Epoch 12/200\n",
      "104/104 [==============================] - 0s 1ms/step - loss: 0.2062\n",
      "Epoch 13/200\n",
      "104/104 [==============================] - 0s 1ms/step - loss: 0.2075\n",
      "Epoch 14/200\n",
      "104/104 [==============================] - 0s 1ms/step - loss: 0.2037\n",
      "Epoch 15/200\n",
      "104/104 [==============================] - 0s 1ms/step - loss: 0.2005\n",
      "Epoch 16/200\n",
      "104/104 [==============================] - 0s 1ms/step - loss: 0.1990\n",
      "Epoch 17/200\n",
      "104/104 [==============================] - 0s 1ms/step - loss: 0.1914\n",
      "Epoch 18/200\n",
      "104/104 [==============================] - 0s 1ms/step - loss: 0.1948\n",
      "Epoch 19/200\n",
      "104/104 [==============================] - 0s 1ms/step - loss: 0.1873\n",
      "Epoch 20/200\n",
      "104/104 [==============================] - 0s 1ms/step - loss: 0.1878\n",
      "Epoch 21/200\n",
      "104/104 [==============================] - 0s 1ms/step - loss: 0.1901\n",
      "Epoch 22/200\n",
      "104/104 [==============================] - 0s 1ms/step - loss: 0.1827\n",
      "Epoch 23/200\n",
      "104/104 [==============================] - 0s 1ms/step - loss: 0.1855\n",
      "Epoch 24/200\n",
      "104/104 [==============================] - 0s 1ms/step - loss: 0.1812\n",
      "Epoch 25/200\n",
      "104/104 [==============================] - 0s 1ms/step - loss: 0.1828\n",
      "Epoch 26/200\n",
      "104/104 [==============================] - 0s 1ms/step - loss: 0.1782\n",
      "Epoch 27/200\n",
      "104/104 [==============================] - 0s 1ms/step - loss: 0.1765\n",
      "Epoch 28/200\n",
      "104/104 [==============================] - 0s 1ms/step - loss: 0.1781\n",
      "Epoch 29/200\n",
      "104/104 [==============================] - 0s 1ms/step - loss: 0.1745\n",
      "Epoch 30/200\n",
      "104/104 [==============================] - 0s 1ms/step - loss: 0.1710\n",
      "Epoch 31/200\n",
      "104/104 [==============================] - 0s 1ms/step - loss: 0.1687\n",
      "Epoch 32/200\n",
      "104/104 [==============================] - 0s 1ms/step - loss: 0.1692\n",
      "Epoch 33/200\n",
      "104/104 [==============================] - 0s 1ms/step - loss: 0.1673\n",
      "Epoch 34/200\n",
      "104/104 [==============================] - 0s 1ms/step - loss: 0.1692\n",
      "Epoch 35/200\n",
      "104/104 [==============================] - 0s 1ms/step - loss: 0.1703\n",
      "Epoch 36/200\n",
      "104/104 [==============================] - 0s 1ms/step - loss: 0.1688\n",
      "Epoch 37/200\n",
      "104/104 [==============================] - 0s 1ms/step - loss: 0.1672\n",
      "Epoch 38/200\n",
      "104/104 [==============================] - 0s 1ms/step - loss: 0.1637\n",
      "Epoch 39/200\n",
      "104/104 [==============================] - 0s 1ms/step - loss: 0.1636\n",
      "Epoch 40/200\n",
      "104/104 [==============================] - 0s 1ms/step - loss: 0.1624\n",
      "Epoch 41/200\n",
      "104/104 [==============================] - 0s 1ms/step - loss: 0.1633\n",
      "Epoch 42/200\n",
      "104/104 [==============================] - 0s 1ms/step - loss: 0.1643\n",
      "Epoch 43/200\n",
      "104/104 [==============================] - 0s 1ms/step - loss: 0.1590\n",
      "Epoch 44/200\n",
      "104/104 [==============================] - 0s 1ms/step - loss: 0.1617\n",
      "Epoch 45/200\n",
      "104/104 [==============================] - 0s 1ms/step - loss: 0.1561\n",
      "Epoch 46/200\n",
      "104/104 [==============================] - 0s 1ms/step - loss: 0.1648\n",
      "Epoch 47/200\n",
      "104/104 [==============================] - 0s 1ms/step - loss: 0.1544\n",
      "Epoch 48/200\n",
      "104/104 [==============================] - 0s 2ms/step - loss: 0.1521\n",
      "Epoch 49/200\n",
      "104/104 [==============================] - 0s 1ms/step - loss: 0.1568\n",
      "Epoch 50/200\n",
      "104/104 [==============================] - 0s 1ms/step - loss: 0.1496\n",
      "Epoch 51/200\n",
      "104/104 [==============================] - 0s 1ms/step - loss: 0.1520\n",
      "Epoch 52/200\n",
      "104/104 [==============================] - 0s 1ms/step - loss: 0.1532\n",
      "Epoch 53/200\n",
      "104/104 [==============================] - 0s 1ms/step - loss: 0.1546\n",
      "Epoch 54/200\n",
      "104/104 [==============================] - 0s 1ms/step - loss: 0.1519\n",
      "Epoch 55/200\n",
      "104/104 [==============================] - 0s 1ms/step - loss: 0.1539\n",
      "Epoch 56/200\n",
      "104/104 [==============================] - 0s 1ms/step - loss: 0.1544\n",
      "Epoch 57/200\n",
      "104/104 [==============================] - 0s 1ms/step - loss: 0.1452\n",
      "Epoch 58/200\n",
      "104/104 [==============================] - 0s 1ms/step - loss: 0.1434\n",
      "Epoch 59/200\n",
      "104/104 [==============================] - 0s 1ms/step - loss: 0.1520\n",
      "Epoch 60/200\n",
      "104/104 [==============================] - 0s 1ms/step - loss: 0.1432\n",
      "Epoch 61/200\n",
      "104/104 [==============================] - 0s 1ms/step - loss: 0.1483\n",
      "Epoch 62/200\n",
      "104/104 [==============================] - 0s 1ms/step - loss: 0.1368\n",
      "Epoch 63/200\n",
      "104/104 [==============================] - 0s 1ms/step - loss: 0.1475\n",
      "Epoch 64/200\n",
      "104/104 [==============================] - 0s 1ms/step - loss: 0.1383\n",
      "Epoch 65/200\n",
      "104/104 [==============================] - 0s 2ms/step - loss: 0.1322\n",
      "Epoch 66/200\n",
      "104/104 [==============================] - 0s 1ms/step - loss: 0.1423\n",
      "Epoch 67/200\n",
      "104/104 [==============================] - 0s 1ms/step - loss: 0.1470\n",
      "Epoch 68/200\n",
      "104/104 [==============================] - 0s 1ms/step - loss: 0.1331\n",
      "Epoch 69/200\n",
      "104/104 [==============================] - 0s 1ms/step - loss: 0.1386\n",
      "Epoch 70/200\n",
      "104/104 [==============================] - 0s 1ms/step - loss: 0.1290\n",
      "Epoch 71/200\n",
      "104/104 [==============================] - 0s 1ms/step - loss: 0.1416\n",
      "Epoch 72/200\n",
      "104/104 [==============================] - 0s 1ms/step - loss: 0.1356\n",
      "Epoch 73/200\n",
      "104/104 [==============================] - 0s 1ms/step - loss: 0.1364\n",
      "Epoch 74/200\n",
      "104/104 [==============================] - 0s 1ms/step - loss: 0.1299\n",
      "Epoch 75/200\n",
      "104/104 [==============================] - 0s 1ms/step - loss: 0.1317\n",
      "Epoch 76/200\n",
      "104/104 [==============================] - 0s 1ms/step - loss: 0.1277\n",
      "Epoch 77/200\n",
      "104/104 [==============================] - 0s 1ms/step - loss: 0.1251\n",
      "Epoch 78/200\n",
      "104/104 [==============================] - 0s 1ms/step - loss: 0.1256\n",
      "Epoch 79/200\n",
      "104/104 [==============================] - 0s 1ms/step - loss: 0.1180\n",
      "Epoch 80/200\n",
      "104/104 [==============================] - 0s 1ms/step - loss: 0.1382\n",
      "Epoch 81/200\n",
      "104/104 [==============================] - 0s 1ms/step - loss: 0.1320\n",
      "Epoch 82/200\n",
      "104/104 [==============================] - 0s 1ms/step - loss: 0.1213\n",
      "Epoch 83/200\n",
      "104/104 [==============================] - 0s 1ms/step - loss: 0.1264\n",
      "Epoch 84/200\n",
      "104/104 [==============================] - 0s 1ms/step - loss: 0.1243\n",
      "Epoch 85/200\n",
      "104/104 [==============================] - 0s 1ms/step - loss: 0.1264\n",
      "Epoch 86/200\n",
      "104/104 [==============================] - 0s 1ms/step - loss: 0.1285\n",
      "Epoch 87/200\n",
      "104/104 [==============================] - 0s 1ms/step - loss: 0.1153\n",
      "Epoch 88/200\n",
      "104/104 [==============================] - 0s 1ms/step - loss: 0.1290\n",
      "Epoch 89/200\n",
      "104/104 [==============================] - 0s 1ms/step - loss: 0.1147\n",
      "Epoch 90/200\n",
      "104/104 [==============================] - 0s 1ms/step - loss: 0.1375\n",
      "Epoch 91/200\n",
      "104/104 [==============================] - 0s 1ms/step - loss: 0.1233\n",
      "Epoch 92/200\n",
      "104/104 [==============================] - 0s 1ms/step - loss: 0.1218\n",
      "Epoch 93/200\n",
      "104/104 [==============================] - 0s 1ms/step - loss: 0.1144\n",
      "Epoch 94/200\n",
      "104/104 [==============================] - 0s 1ms/step - loss: 0.1115\n",
      "Epoch 95/200\n",
      "104/104 [==============================] - 0s 1ms/step - loss: 0.1175\n",
      "Epoch 96/200\n",
      "104/104 [==============================] - 0s 1ms/step - loss: 0.1153\n",
      "Epoch 97/200\n",
      "104/104 [==============================] - 0s 1ms/step - loss: 0.1131\n",
      "Epoch 98/200\n",
      "104/104 [==============================] - 0s 1ms/step - loss: 0.1130\n",
      "Epoch 99/200\n",
      "104/104 [==============================] - 0s 1ms/step - loss: 0.1133\n",
      "Epoch 100/200\n",
      "104/104 [==============================] - 0s 1ms/step - loss: 0.1025\n",
      "Epoch 101/200\n",
      "104/104 [==============================] - 0s 1ms/step - loss: 0.1243\n",
      "Epoch 102/200\n",
      "104/104 [==============================] - 0s 1ms/step - loss: 0.1084\n",
      "Epoch 103/200\n",
      "104/104 [==============================] - 0s 1ms/step - loss: 0.1162\n",
      "Epoch 104/200\n",
      "104/104 [==============================] - 0s 1ms/step - loss: 0.0993\n",
      "Epoch 105/200\n",
      "104/104 [==============================] - 0s 1ms/step - loss: 0.1040\n",
      "Epoch 106/200\n",
      "104/104 [==============================] - 0s 1ms/step - loss: 0.1049\n",
      "Epoch 107/200\n",
      "104/104 [==============================] - 0s 1ms/step - loss: 0.1064\n",
      "Epoch 108/200\n",
      "104/104 [==============================] - 0s 992us/step - loss: 0.1013\n",
      "Epoch 109/200\n",
      "104/104 [==============================] - 0s 1ms/step - loss: 0.1074\n",
      "Epoch 110/200\n",
      "104/104 [==============================] - 0s 1ms/step - loss: 0.0973\n",
      "Epoch 111/200\n",
      "104/104 [==============================] - 0s 1ms/step - loss: 0.1108\n",
      "Epoch 112/200\n",
      "104/104 [==============================] - 0s 995us/step - loss: 0.1001\n",
      "Epoch 113/200\n",
      "104/104 [==============================] - 0s 1ms/step - loss: 0.0993\n",
      "Epoch 114/200\n",
      "104/104 [==============================] - 0s 1ms/step - loss: 0.0939\n",
      "Epoch 115/200\n",
      "104/104 [==============================] - 0s 1ms/step - loss: 0.1089\n",
      "Epoch 116/200\n",
      "104/104 [==============================] - 0s 1ms/step - loss: 0.1017\n",
      "Epoch 117/200\n",
      "104/104 [==============================] - 0s 997us/step - loss: 0.0835\n",
      "Epoch 118/200\n",
      "104/104 [==============================] - 0s 1ms/step - loss: 0.0933\n",
      "Epoch 119/200\n",
      "104/104 [==============================] - 0s 981us/step - loss: 0.0830\n",
      "Epoch 120/200\n",
      "104/104 [==============================] - 0s 1ms/step - loss: 0.1045\n",
      "Epoch 121/200\n",
      "104/104 [==============================] - 0s 1ms/step - loss: 0.1096\n",
      "Epoch 122/200\n",
      "104/104 [==============================] - 0s 1ms/step - loss: 0.0943\n",
      "Epoch 123/200\n",
      "104/104 [==============================] - 0s 1ms/step - loss: 0.1020\n",
      "Epoch 124/200\n",
      "104/104 [==============================] - 0s 1ms/step - loss: 0.0877\n",
      "Epoch 125/200\n",
      "104/104 [==============================] - 0s 1ms/step - loss: 0.0868\n",
      "Epoch 126/200\n",
      "104/104 [==============================] - 0s 1ms/step - loss: 0.0996\n",
      "Epoch 127/200\n",
      "104/104 [==============================] - 0s 1ms/step - loss: 0.0862\n",
      "Epoch 128/200\n",
      "104/104 [==============================] - 0s 1ms/step - loss: 0.0861\n",
      "Epoch 129/200\n",
      "104/104 [==============================] - 0s 1ms/step - loss: 0.0835\n",
      "Epoch 130/200\n",
      "104/104 [==============================] - 0s 1ms/step - loss: 0.0873\n",
      "Epoch 131/200\n",
      "104/104 [==============================] - 0s 1ms/step - loss: 0.0954\n",
      "Epoch 132/200\n",
      "104/104 [==============================] - 0s 1ms/step - loss: 0.0908\n",
      "Epoch 133/200\n",
      "104/104 [==============================] - 0s 1ms/step - loss: 0.0839\n",
      "Epoch 134/200\n",
      "104/104 [==============================] - 0s 1ms/step - loss: 0.0726\n",
      "Epoch 135/200\n",
      "104/104 [==============================] - 0s 1ms/step - loss: 0.0946\n",
      "Epoch 136/200\n",
      "104/104 [==============================] - 0s 1ms/step - loss: 0.0798\n",
      "Epoch 137/200\n",
      "104/104 [==============================] - 0s 1ms/step - loss: 0.0884\n",
      "Epoch 138/200\n",
      "104/104 [==============================] - 0s 1ms/step - loss: 0.0899\n",
      "Epoch 139/200\n",
      "104/104 [==============================] - 0s 1ms/step - loss: 0.0783\n",
      "Epoch 140/200\n",
      "104/104 [==============================] - 0s 1ms/step - loss: 0.0752\n",
      "Epoch 141/200\n",
      "104/104 [==============================] - 0s 1ms/step - loss: 0.0747\n",
      "Epoch 142/200\n",
      "104/104 [==============================] - 0s 1ms/step - loss: 0.0721\n",
      "Epoch 143/200\n",
      "104/104 [==============================] - 0s 1ms/step - loss: 0.0887\n",
      "Epoch 144/200\n",
      "104/104 [==============================] - 0s 1ms/step - loss: 0.0655\n",
      "Epoch 145/200\n",
      "104/104 [==============================] - 0s 1ms/step - loss: 0.0878\n",
      "Epoch 146/200\n",
      "104/104 [==============================] - 0s 1ms/step - loss: 0.0777\n",
      "Epoch 147/200\n",
      "104/104 [==============================] - 0s 1ms/step - loss: 0.0706\n",
      "Epoch 148/200\n",
      "104/104 [==============================] - 0s 1ms/step - loss: 0.0686\n",
      "Epoch 149/200\n",
      "104/104 [==============================] - 0s 1ms/step - loss: 0.0702\n",
      "Epoch 150/200\n",
      "104/104 [==============================] - 0s 1ms/step - loss: 0.0716\n",
      "Epoch 151/200\n",
      "104/104 [==============================] - 0s 1ms/step - loss: 0.0791\n",
      "Epoch 152/200\n",
      "104/104 [==============================] - 0s 1ms/step - loss: 0.0796\n",
      "Epoch 153/200\n",
      "104/104 [==============================] - 0s 1ms/step - loss: 0.0670\n",
      "Epoch 154/200\n",
      "104/104 [==============================] - 0s 1ms/step - loss: 0.0604\n",
      "Epoch 155/200\n",
      "104/104 [==============================] - 0s 1ms/step - loss: 0.0590\n",
      "Epoch 156/200\n",
      "104/104 [==============================] - 0s 1ms/step - loss: 0.0766\n",
      "Epoch 157/200\n",
      "104/104 [==============================] - 0s 1ms/step - loss: 0.0675\n",
      "Epoch 158/200\n",
      "104/104 [==============================] - 0s 1ms/step - loss: 0.0533\n",
      "Epoch 159/200\n",
      "104/104 [==============================] - 0s 1ms/step - loss: 0.0720\n",
      "Epoch 160/200\n",
      "104/104 [==============================] - 0s 1ms/step - loss: 0.0598\n",
      "Epoch 161/200\n",
      "104/104 [==============================] - 0s 1ms/step - loss: 0.0719\n",
      "Epoch 162/200\n",
      "104/104 [==============================] - 0s 1ms/step - loss: 0.0575\n",
      "Epoch 163/200\n",
      "104/104 [==============================] - 0s 1ms/step - loss: 0.0735\n",
      "Epoch 164/200\n",
      "104/104 [==============================] - 0s 1ms/step - loss: 0.0645\n",
      "Epoch 165/200\n",
      "104/104 [==============================] - 0s 1ms/step - loss: 0.0536\n",
      "Epoch 166/200\n",
      "104/104 [==============================] - 0s 1ms/step - loss: 0.0509\n",
      "Epoch 167/200\n",
      "104/104 [==============================] - 0s 1ms/step - loss: 0.0523\n",
      "Epoch 168/200\n",
      "104/104 [==============================] - 0s 1ms/step - loss: 0.0692\n",
      "Epoch 169/200\n",
      "104/104 [==============================] - 0s 1ms/step - loss: 0.0697\n",
      "Epoch 170/200\n",
      "104/104 [==============================] - 0s 1ms/step - loss: 0.0567\n",
      "Epoch 171/200\n",
      "104/104 [==============================] - 0s 1ms/step - loss: 0.0474\n",
      "Epoch 172/200\n",
      "104/104 [==============================] - 0s 1ms/step - loss: 0.0510\n",
      "Epoch 173/200\n",
      "104/104 [==============================] - 0s 1ms/step - loss: 0.0529\n",
      "Epoch 174/200\n",
      "104/104 [==============================] - 0s 1ms/step - loss: 0.0508\n",
      "Epoch 175/200\n",
      "104/104 [==============================] - 0s 1ms/step - loss: 0.0444\n",
      "Epoch 176/200\n",
      "104/104 [==============================] - 0s 1ms/step - loss: 0.0669\n",
      "Epoch 177/200\n",
      "104/104 [==============================] - 0s 1ms/step - loss: 0.0654\n",
      "Epoch 178/200\n",
      "104/104 [==============================] - 0s 1ms/step - loss: 0.0434\n",
      "Epoch 179/200\n",
      "104/104 [==============================] - 0s 1ms/step - loss: 0.0544\n",
      "Epoch 180/200\n",
      "104/104 [==============================] - 0s 1ms/step - loss: 0.0432\n",
      "Epoch 181/200\n",
      "104/104 [==============================] - 0s 1ms/step - loss: 0.0443\n",
      "Epoch 182/200\n",
      "104/104 [==============================] - 0s 1ms/step - loss: 0.0429\n",
      "Epoch 183/200\n",
      "104/104 [==============================] - 0s 1ms/step - loss: 0.0672\n",
      "Epoch 184/200\n",
      "104/104 [==============================] - 0s 1ms/step - loss: 0.0527\n",
      "Epoch 185/200\n",
      "104/104 [==============================] - 0s 1ms/step - loss: 0.0435\n",
      "Epoch 186/200\n",
      "104/104 [==============================] - 0s 1ms/step - loss: 0.0660\n",
      "Epoch 187/200\n",
      "104/104 [==============================] - 0s 1ms/step - loss: 0.0471\n",
      "Epoch 188/200\n",
      "104/104 [==============================] - 0s 1ms/step - loss: 0.0506\n",
      "Epoch 189/200\n",
      "104/104 [==============================] - 0s 1ms/step - loss: 0.0419\n",
      "Epoch 190/200\n",
      "104/104 [==============================] - 0s 1ms/step - loss: 0.0381\n",
      "Epoch 191/200\n",
      "104/104 [==============================] - 0s 1ms/step - loss: 0.0457\n",
      "Epoch 192/200\n",
      "104/104 [==============================] - 0s 1ms/step - loss: 0.0617\n",
      "Epoch 193/200\n",
      "104/104 [==============================] - 0s 1ms/step - loss: 0.0608\n",
      "Epoch 194/200\n",
      "104/104 [==============================] - 0s 1ms/step - loss: 0.0349\n",
      "Epoch 195/200\n",
      "104/104 [==============================] - 0s 1ms/step - loss: 0.0323\n",
      "Epoch 196/200\n"
     ]
    },
    {
     "name": "stdout",
     "output_type": "stream",
     "text": [
      "104/104 [==============================] - 0s 1ms/step - loss: 0.0332\n",
      "Epoch 197/200\n",
      "104/104 [==============================] - 0s 1ms/step - loss: 0.0436\n",
      "Epoch 198/200\n",
      "104/104 [==============================] - 0s 1ms/step - loss: 0.0404\n",
      "Epoch 199/200\n",
      "104/104 [==============================] - 0s 1ms/step - loss: 0.0301\n",
      "Epoch 200/200\n",
      "104/104 [==============================] - 0s 1ms/step - loss: 0.0383\n"
     ]
    },
    {
     "data": {
      "text/plain": [
       "<keras.callbacks.History at 0x181e34bac8>"
      ]
     },
     "execution_count": 69,
     "metadata": {},
     "output_type": "execute_result"
    }
   ],
   "source": [
    "main_input = Input(shape=(sequence_length,feature_dim), name='main_input')\n",
    "#x = Embedding(output_dim=512, input_dim=(n_catagory,2), input_length=100)(main_input)\n",
    "lstm_out1 = LSTM(128,return_sequences=True)(main_input)\n",
    "lstm_out2 = LSTM(64)(lstm_out1)\n",
    "main_output = Dense(13, activation='softmax', name='main_output')(lstm_out2)\n",
    "model = Model(inputs=[main_input], outputs=[main_output])\n",
    "model.compile(optimizer='rmsprop',\\\n",
    "              loss={'main_output': 'binary_crossentropy'},\\\n",
    "              loss_weights={'main_output': 1.})\n",
    "\n",
    "# And trained it via:\n",
    "model.fit({'main_input': network_input},\\\n",
    "          {'main_output': network_output},\\\n",
    "          epochs=200, batch_size=32)"
   ]
  },
  {
   "cell_type": "code",
   "execution_count": 12,
   "metadata": {},
   "outputs": [
    {
     "name": "stdout",
     "output_type": "stream",
     "text": [
      "testing.mid\r\n"
     ]
    }
   ],
   "source": [
    "!ls featureToMidi"
   ]
  },
  {
   "cell_type": "code",
   "execution_count": 70,
   "metadata": {},
   "outputs": [
    {
     "name": "stdout",
     "output_type": "stream",
     "text": [
      "[12 12 12  1  1  1 10 10 10 10 10 10 10 10 11 11 11 12 12 11  2  7  8  3\n",
      " 10 10 10 10 12 12 11 11 12 12 12 11 10 10  8  3  5  0 10 10 10 10 11 11\n",
      " 12 12  6  6  6  1 10 10 10 10 11 11 12 12 12  1  1  1 10 10 10 10 10 10\n",
      " 10 10 11 11 11 12 11 11  4  9 10  8  3 10 10 10  8  3  9  4 12 12 11 11\n",
      " 12 12 11 11 10 10  9  9]\n",
      "\n"
     ]
    }
   ],
   "source": [
    "int_to_note = dict((number, note) for number, note in enumerate(pitchnames))\n",
    "prediction = model.predict(network_input, verbose=0)\n",
    "print (numpy.argmax(prediction,axis=1))\n",
    "print ()\n",
    "predict_note= [int_to_note[index] for index in numpy.argmax(prediction,axis=1)]"
   ]
  },
  {
   "cell_type": "code",
   "execution_count": 71,
   "metadata": {},
   "outputs": [
    {
     "name": "stdout",
     "output_type": "stream",
     "text": [
      "[70, 70, 46, 34, 36, 48, 67, 67, 67, 67, 67, 67, 67, 67, 69, 69, 70, 70, 69, 69, 36, 48, 50, 38, 67, 67, 67, 67, 70, 70, 69, 69, 70, 70, 69, 69, 67, 67, 50, 38, 43, 31, 67, 67, 67, 67, 69, 69, 70, 70, 43, 31, 46, 34, 67, 67, 67, 67, 69, 69, 70, 70, 46, 34, 41, 53, 67, 67, 67, 67, 67, 67, 67, 67, 69, 69, 70, 70, 69, 69, 41, 53, 67, 50, 38, 67, 67, 67, 50, 38, 53, 41, 70, 70, 69, 69, 70, 70, 69, 69, 67, 67, 53, 41]\n",
      "0.875\n"
     ]
    }
   ],
   "source": [
    "print (notes[sequence_length:])\n",
    "accurcy=np.sum([1 if x==y else 0 for x,y in zip(predict_note,notes[sequence_length:])])/len(predict_note)\n",
    "print (accurcy)"
   ]
  },
  {
   "cell_type": "code",
   "execution_count": 13,
   "metadata": {
    "collapsed": true
   },
   "outputs": [],
   "source": [
    "!open featureToMidi"
   ]
  },
  {
   "cell_type": "code",
   "execution_count": 72,
   "metadata": {
    "collapsed": true
   },
   "outputs": [],
   "source": [
    "import os\n",
    "import mido\n",
    "import numpy as np\n",
    "from mido import Message, MidiFile, MidiTrack\n",
    "import pickle\n",
    "import sys\n",
    "\n",
    "MAX_NUM_FILES = 20\n",
    "MIN_NUM_MESSAGES_PER_FILE = 100\n",
    "\n",
    "''' \n",
    "Returns array of song features.  Goes through first MAX_NUM_FILES in data directory\n",
    "Periodically saves the data to features.pickle\n",
    "'''\n",
    "def getAllFeatureVectors():\n",
    "    rootdir = os.getcwd() + '/data/'\n",
    "    \n",
    "    featureVectors = []\n",
    "    i = 0\n",
    "    for subdir, dirs, files in os.walk(rootdir):\n",
    "        for file in files:\n",
    "            #print i\n",
    "            if (i >= MAX_NUM_FILES):\n",
    "                break\n",
    "            \n",
    "            midiFileName = os.path.join(subdir, file)\n",
    "            #sys.stdout.write(midiFileName)\n",
    "            \n",
    "            #if (\"beatle\" not in midiFileName.lower()):\n",
    "            #    continue\n",
    "            if (not midiFileName.endswith('.mid')):\n",
    "                continue\n",
    "            #featureVector = getFeatureVector(midiFileName)\n",
    "            try:\n",
    "                featureVector = getFeatureVector(midiFileName)\n",
    "                #print 'len',len(featureVector)\n",
    "                if (len(featureVector) >= MIN_NUM_MESSAGES_PER_FILE):\n",
    "                    #print 'file number: ', os.path.getsize(midiFileName), i, file\n",
    "                    featureVectors.append(featureVector)\n",
    "                else:\n",
    "                    \n",
    "                    i += -1\n",
    "            except:\n",
    "                #print('exception')\n",
    "                i += -1\n",
    "            i+=1\n",
    "                \n",
    "            #save the data every so often \n",
    "            if (i %1000 == 0):\n",
    "                pickling_on = open(\"features.pickle\",\"wb\")\n",
    "                pickle.dump(np.array(featureVectors), pickling_on)\n",
    "                pickling_on.close()\n",
    "        if (i >= MAX_NUM_FILES):\n",
    "            break\n",
    "           \n",
    "   # Convert to numpy arrays\n",
    "    return np.array(featureVectors)\n",
    "\n",
    "\n",
    "def getFeatureVector(midiFileName):\n",
    "    file = MidiFile(midiFileName)\n",
    "    \n",
    "    #Get All the messages\n",
    "    messages = []\n",
    "    for message in file:#TODO: TRACKS???\n",
    "        if message.type in ['note_on','note_off']:\n",
    "            messages.append(message)\n",
    "    \n",
    "    features = []\n",
    "    note = None\n",
    "    duration = None\n",
    "    timeSincePreviousNote = 0.0\n",
    "    \n",
    "    i = 0\n",
    "    for message in messages:\n",
    "        try:\n",
    "            timeSincePreviousNote += message.time #TODO: DETERMINE IF THIS IS IN TICKS, IF SO , CHANGE TO SECONDS OR MAYBE NOT. IDK\n",
    "        except:\n",
    "            j = 4\n",
    "            \n",
    "        #determine if the message is the start of the note\n",
    "        if (message.type not in ['note_on']):\n",
    "            continue\n",
    "        #don't use the percussion channel\n",
    "        if (message.channel >9):\n",
    "            continue\n",
    "        note = message.note\n",
    "        \n",
    "        #Find out when the note is finished playing to calculate duration\n",
    "        '''duration = 0.0\n",
    "        for futureMessage in messages[i:]:\n",
    "            if (type(futureMessage.time) is float or type(futureMessage.time) is int):\n",
    "                duration += float(futureMessage.time)\n",
    "            if futureMessage.type in ['note_off']:\n",
    "                if futureMessage.note == note:\n",
    "                    break\n",
    "        '''\n",
    "        #newFeatureVector = [note, velocity, duration, timeSincePreviousNote, message.channel]\n",
    "        #noteVect = np.zeros(128)\n",
    "        #noteVect[note] = 1\n",
    "        \n",
    "        newFeatureVector = [note, timeSincePreviousNote, message.velocity]\n",
    "        features.append(newFeatureVector)\n",
    "        \n",
    "        timeSincePreviousNote = 0.0\n",
    "        i += 1\n",
    "       \n",
    "    return np.array(features)\n",
    "   \n",
    "featureVectors = getAllFeatureVectors()\n",
    "\n",
    "#print featureVectors[0]\n",
    "\n",
    "pickling_on = open(\"beatles_features.pickle\",\"wb\")\n",
    "pickle.dump(featureVectors, pickling_on)\n",
    "pickling_on.close()"
   ]
  },
  {
   "cell_type": "code",
   "execution_count": 335,
   "metadata": {},
   "outputs": [
    {
     "name": "stdout",
     "output_type": "stream",
     "text": [
      "[ 41.   0. 100.]\n",
      "[28.0, 29.0, 30.0, 32.0, 33.0, 34.0, 35.0, 36.0, 37.0, 38.0, 39.0, 40.0, 41.0, 42.0, 43.0, 44.0, 45.0, 46.0, 47.0, 48.0, 49.0, 50.0, 51.0, 52.0, 53.0, 54.0, 55.0, 56.0, 57.0, 58.0, 59.0, 60.0, 61.0, 62.0, 63.0, 64.0, 65.0, 66.0, 67.0, 68.0, 69.0, 70.0, 71.0, 72.0, 73.0, 74.0, 75.0, 76.0, 77.0, 78.0, 79.0, 80.0, 81.0, 82.0, 83.0, 84.0, 85.0, 86.0, 87.0, 88.0, 89.0, 90.0, 91.0]\n"
     ]
    }
   ],
   "source": [
    "features = np.concatenate(getAllFeatureVectors())\n",
    "print (features[0])\n",
    "notes=np.hsplit(features,3)[0].ravel()\n",
    "pitchnames = sorted(set(item for item in notes))\n",
    "print (pitchnames)"
   ]
  },
  {
   "cell_type": "code",
   "execution_count": 392,
   "metadata": {},
   "outputs": [
    {
     "name": "stdout",
     "output_type": "stream",
     "text": [
      "63\n",
      "20\n",
      "{28.0: 0, 29.0: 1, 30.0: 2, 32.0: 3, 33.0: 4, 34.0: 5, 35.0: 6, 36.0: 7, 37.0: 8, 38.0: 9, 39.0: 10, 40.0: 11, 41.0: 12, 42.0: 13, 43.0: 14, 44.0: 15, 45.0: 16, 46.0: 17, 47.0: 18, 48.0: 19, 49.0: 20, 50.0: 21, 51.0: 22, 52.0: 23, 53.0: 24, 54.0: 25, 55.0: 26, 56.0: 27, 57.0: 28, 58.0: 29, 59.0: 30, 60.0: 31, 61.0: 32, 62.0: 33, 63.0: 34, 64.0: 35, 65.0: 36, 66.0: 37, 67.0: 38, 68.0: 39, 69.0: 40, 70.0: 41, 71.0: 42, 72.0: 43, 73.0: 44, 74.0: 45, 75.0: 46, 76.0: 47, 77.0: 48, 78.0: 49, 79.0: 50, 80.0: 51, 81.0: 52, 82.0: 53, 83.0: 54, 84.0: 55, 85.0: 56, 86.0: 57, 87.0: 58, 88.0: 59, 89.0: 60, 90.0: 61, 91.0: 62}\n",
      "5212\n",
      "(5212, 12, 1)\n",
      "[[0.326087 ]\n",
      " [0.1630435]\n",
      " [0.       ]\n",
      " [0.326087 ]\n",
      " [0.       ]\n",
      " [0.1630435]\n",
      " [0.       ]\n",
      " [0.       ]\n",
      " [0.652174 ]\n",
      " [0.326087 ]]\n"
     ]
    }
   ],
   "source": [
    "n_catagory=len(pitchnames)\n",
    "print (n_catagory)\n",
    "features = getAllFeatureVectors()\n",
    "print (len(features))\n",
    "sequence_length = 12\n",
    "# create a dictionary to map pitches to integers\n",
    "note_to_int = dict((note, number) for number, note in enumerate(pitchnames))\n",
    "print (note_to_int)\n",
    "notestotal=[]\n",
    "notes_input = []\n",
    "notes_output = []\n",
    "notes_comp=[]\n",
    "other_input = []\n",
    "for i in range(len(features)):\n",
    "    notes=np.hsplit(features[i],3)[0].ravel()\n",
    "    times=np.hsplit(features[i],3)[1].ravel()\n",
    "    #velocitys=np.hsplit(features[i],3)[2].ravel()\n",
    "    for j in range(0, len(notes) - sequence_length, 1):\n",
    "        sequence_in =  notes[j:j + sequence_length]\n",
    "        sequence_out = notes[j + sequence_length]\n",
    "        notes_input.append([note_to_int[char] for char in sequence_in])\n",
    "        notes_output.append(note_to_int[sequence_out])\n",
    "        notes_comp.append(note_to_int[sequence_out])\n",
    "        other_input.append(times[j])\n",
    "n_patterns = len(notes_input)\n",
    "print (n_patterns)\n",
    "# reshape the input into a format compatible with LSTM layers\n",
    "notes_input = numpy.reshape(notes_input, (n_patterns, sequence_length, 1))\n",
    "notes_output = keras.utils.to_categorical(notes_output,num_classes=n_catagory)\n",
    "notes_comp=np.array(notes_comp)\n",
    "other_input = numpy.reshape(other_input, (n_patterns, 1))\n",
    "print (notes_input.shape)\n",
    "print (other_input[100:110])"
   ]
  },
  {
   "cell_type": "code",
   "execution_count": 397,
   "metadata": {},
   "outputs": [
    {
     "name": "stdout",
     "output_type": "stream",
     "text": [
      "Epoch 1/100\n",
      "5212/5212 [==============================] - 8s 1ms/step - loss: 3.4957 - main_output_loss: 3.4715 - aux_output_loss: 0.1207\n",
      "Epoch 2/100\n",
      "5212/5212 [==============================] - 3s 549us/step - loss: 3.2354 - main_output_loss: 3.2154 - aux_output_loss: 0.0999\n",
      "Epoch 3/100\n",
      "5212/5212 [==============================] - 3s 558us/step - loss: 3.0884 - main_output_loss: 3.0684 - aux_output_loss: 0.0996\n",
      "Epoch 4/100\n",
      "5212/5212 [==============================] - 3s 565us/step - loss: 2.9724 - main_output_loss: 2.9525 - aux_output_loss: 0.0993\n",
      "Epoch 5/100\n",
      "5212/5212 [==============================] - 3s 560us/step - loss: 2.8814 - main_output_loss: 2.8616 - aux_output_loss: 0.0991\n",
      "Epoch 6/100\n",
      "5212/5212 [==============================] - 3s 563us/step - loss: 2.8135 - main_output_loss: 2.7938 - aux_output_loss: 0.0988\n",
      "Epoch 7/100\n",
      "5212/5212 [==============================] - 3s 576us/step - loss: 2.7474 - main_output_loss: 2.7277 - aux_output_loss: 0.0987\n",
      "Epoch 8/100\n",
      "5212/5212 [==============================] - 3s 593us/step - loss: 2.6949 - main_output_loss: 2.6752 - aux_output_loss: 0.0985\n",
      "Epoch 9/100\n",
      "5212/5212 [==============================] - 3s 598us/step - loss: 2.6424 - main_output_loss: 2.6227 - aux_output_loss: 0.0984\n",
      "Epoch 10/100\n",
      "5212/5212 [==============================] - 3s 559us/step - loss: 2.5951 - main_output_loss: 2.5754 - aux_output_loss: 0.0983\n",
      "Epoch 11/100\n",
      "5212/5212 [==============================] - 3s 564us/step - loss: 2.5447 - main_output_loss: 2.5251 - aux_output_loss: 0.0980\n",
      "Epoch 12/100\n",
      "5212/5212 [==============================] - 3s 540us/step - loss: 2.4967 - main_output_loss: 2.4771 - aux_output_loss: 0.0980\n",
      "Epoch 13/100\n",
      "5212/5212 [==============================] - 3s 555us/step - loss: 2.4543 - main_output_loss: 2.4347 - aux_output_loss: 0.0981\n",
      "Epoch 14/100\n",
      "5212/5212 [==============================] - 3s 566us/step - loss: 2.4128 - main_output_loss: 2.3932 - aux_output_loss: 0.0980\n",
      "Epoch 15/100\n",
      "5212/5212 [==============================] - 3s 562us/step - loss: 2.3757 - main_output_loss: 2.3561 - aux_output_loss: 0.0978\n",
      "Epoch 16/100\n",
      "5212/5212 [==============================] - 3s 566us/step - loss: 2.3405 - main_output_loss: 2.3209 - aux_output_loss: 0.0977\n",
      "Epoch 17/100\n",
      "5212/5212 [==============================] - 3s 589us/step - loss: 2.3025 - main_output_loss: 2.2830 - aux_output_loss: 0.0975\n",
      "Epoch 18/100\n",
      "5212/5212 [==============================] - 3s 568us/step - loss: 2.2741 - main_output_loss: 2.2545 - aux_output_loss: 0.0976\n",
      "Epoch 19/100\n",
      "5212/5212 [==============================] - 3s 569us/step - loss: 2.2439 - main_output_loss: 2.2244 - aux_output_loss: 0.0976\n",
      "Epoch 20/100\n",
      "5212/5212 [==============================] - 3s 574us/step - loss: 2.2103 - main_output_loss: 2.1908 - aux_output_loss: 0.0972\n",
      "Epoch 21/100\n",
      "5212/5212 [==============================] - 3s 580us/step - loss: 2.1777 - main_output_loss: 2.1582 - aux_output_loss: 0.0975\n",
      "Epoch 22/100\n",
      "5212/5212 [==============================] - 3s 576us/step - loss: 2.1598 - main_output_loss: 2.1403 - aux_output_loss: 0.0975\n",
      "Epoch 23/100\n",
      "5212/5212 [==============================] - 3s 604us/step - loss: 2.1285 - main_output_loss: 2.1090 - aux_output_loss: 0.0972\n",
      "Epoch 24/100\n",
      "5212/5212 [==============================] - 3s 587us/step - loss: 2.1072 - main_output_loss: 2.0877 - aux_output_loss: 0.0972\n",
      "Epoch 25/100\n",
      "5212/5212 [==============================] - 3s 604us/step - loss: 2.0794 - main_output_loss: 2.0600 - aux_output_loss: 0.0971\n",
      "Epoch 26/100\n",
      "5212/5212 [==============================] - 3s 595us/step - loss: 2.0506 - main_output_loss: 2.0312 - aux_output_loss: 0.0970\n",
      "Epoch 27/100\n",
      "5212/5212 [==============================] - 3s 582us/step - loss: 2.0294 - main_output_loss: 2.0101 - aux_output_loss: 0.0967\n",
      "Epoch 28/100\n",
      "5212/5212 [==============================] - 3s 614us/step - loss: 2.0068 - main_output_loss: 1.9875 - aux_output_loss: 0.0967\n",
      "Epoch 29/100\n",
      "5212/5212 [==============================] - 3s 642us/step - loss: 1.9775 - main_output_loss: 1.9582 - aux_output_loss: 0.0965\n",
      "Epoch 30/100\n",
      "5212/5212 [==============================] - 3s 565us/step - loss: 1.9570 - main_output_loss: 1.9377 - aux_output_loss: 0.0966\n",
      "Epoch 31/100\n",
      "5212/5212 [==============================] - 3s 583us/step - loss: 1.9336 - main_output_loss: 1.9143 - aux_output_loss: 0.0962\n",
      "Epoch 32/100\n",
      "5212/5212 [==============================] - 3s 587us/step - loss: 1.9106 - main_output_loss: 1.8913 - aux_output_loss: 0.0963\n",
      "Epoch 33/100\n",
      "5212/5212 [==============================] - 3s 585us/step - loss: 1.8868 - main_output_loss: 1.8675 - aux_output_loss: 0.0964\n",
      "Epoch 34/100\n",
      "5212/5212 [==============================] - 3s 585us/step - loss: 1.8669 - main_output_loss: 1.8477 - aux_output_loss: 0.0959\n",
      "Epoch 35/100\n",
      "5212/5212 [==============================] - 3s 609us/step - loss: 1.8450 - main_output_loss: 1.8257 - aux_output_loss: 0.0963\n",
      "Epoch 36/100\n",
      "5212/5212 [==============================] - 3s 630us/step - loss: 1.8221 - main_output_loss: 1.8028 - aux_output_loss: 0.0963\n",
      "Epoch 37/100\n",
      "5212/5212 [==============================] - 3s 638us/step - loss: 1.8037 - main_output_loss: 1.7845 - aux_output_loss: 0.0959\n",
      "Epoch 38/100\n",
      "5212/5212 [==============================] - 3s 645us/step - loss: 1.7826 - main_output_loss: 1.7635 - aux_output_loss: 0.0958\n",
      "Epoch 39/100\n",
      "5212/5212 [==============================] - 3s 601us/step - loss: 1.7596 - main_output_loss: 1.7404 - aux_output_loss: 0.0958\n",
      "Epoch 40/100\n",
      "5212/5212 [==============================] - 3s 592us/step - loss: 1.7425 - main_output_loss: 1.7234 - aux_output_loss: 0.0956\n",
      "Epoch 41/100\n",
      "5212/5212 [==============================] - 3s 598us/step - loss: 1.7244 - main_output_loss: 1.7053 - aux_output_loss: 0.0957\n",
      "Epoch 42/100\n",
      "5212/5212 [==============================] - 3s 590us/step - loss: 1.7063 - main_output_loss: 1.6872 - aux_output_loss: 0.0958\n",
      "Epoch 43/100\n",
      "5212/5212 [==============================] - 3s 627us/step - loss: 1.6820 - main_output_loss: 1.6629 - aux_output_loss: 0.09540s - loss: 1.6731 - main_output_loss: 1.6549 - aux_output_loss: \n",
      "Epoch 44/100\n",
      "5212/5212 [==============================] - 3s 623us/step - loss: 1.6621 - main_output_loss: 1.6431 - aux_output_loss: 0.0952\n",
      "Epoch 45/100\n",
      "5212/5212 [==============================] - 3s 603us/step - loss: 1.6449 - main_output_loss: 1.6259 - aux_output_loss: 0.0951\n",
      "Epoch 46/100\n",
      "5212/5212 [==============================] - 3s 595us/step - loss: 1.6238 - main_output_loss: 1.6047 - aux_output_loss: 0.0956\n",
      "Epoch 47/100\n",
      "5212/5212 [==============================] - 3s 634us/step - loss: 1.6078 - main_output_loss: 1.5889 - aux_output_loss: 0.0948\n",
      "Epoch 48/100\n",
      "5212/5212 [==============================] - 3s 595us/step - loss: 1.5888 - main_output_loss: 1.5697 - aux_output_loss: 0.0952\n",
      "Epoch 49/100\n",
      "5212/5212 [==============================] - 3s 619us/step - loss: 1.5622 - main_output_loss: 1.5432 - aux_output_loss: 0.0954\n",
      "Epoch 50/100\n",
      "5212/5212 [==============================] - 3s 588us/step - loss: 1.5512 - main_output_loss: 1.5322 - aux_output_loss: 0.0953\n",
      "Epoch 51/100\n",
      "5212/5212 [==============================] - 3s 608us/step - loss: 1.5338 - main_output_loss: 1.5148 - aux_output_loss: 0.0952\n",
      "Epoch 52/100\n",
      "5212/5212 [==============================] - 3s 611us/step - loss: 1.5205 - main_output_loss: 1.5015 - aux_output_loss: 0.0952\n",
      "Epoch 53/100\n",
      "5212/5212 [==============================] - 3s 592us/step - loss: 1.4975 - main_output_loss: 1.4785 - aux_output_loss: 0.0949\n",
      "Epoch 54/100\n",
      "5212/5212 [==============================] - 3s 582us/step - loss: 1.4814 - main_output_loss: 1.4625 - aux_output_loss: 0.0948\n",
      "Epoch 55/100\n",
      "5212/5212 [==============================] - 3s 581us/step - loss: 1.4671 - main_output_loss: 1.4482 - aux_output_loss: 0.0946\n",
      "Epoch 56/100\n",
      "5212/5212 [==============================] - 3s 577us/step - loss: 1.4501 - main_output_loss: 1.4312 - aux_output_loss: 0.0946\n",
      "Epoch 57/100\n",
      "5212/5212 [==============================] - 3s 579us/step - loss: 1.4355 - main_output_loss: 1.4165 - aux_output_loss: 0.0951\n",
      "Epoch 58/100\n",
      "5212/5212 [==============================] - 3s 580us/step - loss: 1.4150 - main_output_loss: 1.3959 - aux_output_loss: 0.0952\n",
      "Epoch 59/100\n"
     ]
    },
    {
     "name": "stdout",
     "output_type": "stream",
     "text": [
      "5212/5212 [==============================] - 3s 585us/step - loss: 1.4022 - main_output_loss: 1.3832 - aux_output_loss: 0.0948\n",
      "Epoch 60/100\n",
      "5212/5212 [==============================] - 3s 584us/step - loss: 1.3831 - main_output_loss: 1.3641 - aux_output_loss: 0.0950\n",
      "Epoch 61/100\n",
      "5212/5212 [==============================] - 3s 573us/step - loss: 1.3652 - main_output_loss: 1.3462 - aux_output_loss: 0.0951\n",
      "Epoch 62/100\n",
      "5212/5212 [==============================] - 3s 586us/step - loss: 1.3536 - main_output_loss: 1.3346 - aux_output_loss: 0.0950\n",
      "Epoch 63/100\n",
      "5212/5212 [==============================] - 3s 569us/step - loss: 1.3322 - main_output_loss: 1.3133 - aux_output_loss: 0.0949\n",
      "Epoch 64/100\n",
      "5212/5212 [==============================] - 3s 585us/step - loss: 1.3222 - main_output_loss: 1.3032 - aux_output_loss: 0.0950\n",
      "Epoch 65/100\n",
      "5212/5212 [==============================] - 3s 579us/step - loss: 1.3025 - main_output_loss: 1.2835 - aux_output_loss: 0.0949\n",
      "Epoch 66/100\n",
      "5212/5212 [==============================] - 3s 587us/step - loss: 1.2915 - main_output_loss: 1.2724 - aux_output_loss: 0.0952\n",
      "Epoch 67/100\n",
      "5212/5212 [==============================] - 3s 589us/step - loss: 1.2789 - main_output_loss: 1.2599 - aux_output_loss: 0.0949\n",
      "Epoch 68/100\n",
      "5212/5212 [==============================] - 3s 582us/step - loss: 1.2619 - main_output_loss: 1.2429 - aux_output_loss: 0.0948\n",
      "Epoch 69/100\n",
      "5212/5212 [==============================] - 3s 586us/step - loss: 1.2488 - main_output_loss: 1.2297 - aux_output_loss: 0.0951\n",
      "Epoch 70/100\n",
      "5212/5212 [==============================] - 3s 583us/step - loss: 1.2335 - main_output_loss: 1.2145 - aux_output_loss: 0.0948\n",
      "Epoch 71/100\n",
      "5212/5212 [==============================] - 3s 582us/step - loss: 1.2246 - main_output_loss: 1.2057 - aux_output_loss: 0.0948\n",
      "Epoch 72/100\n",
      "5212/5212 [==============================] - 3s 586us/step - loss: 1.2106 - main_output_loss: 1.1916 - aux_output_loss: 0.0952\n",
      "Epoch 73/100\n",
      "5212/5212 [==============================] - 3s 586us/step - loss: 1.1974 - main_output_loss: 1.1785 - aux_output_loss: 0.0945\n",
      "Epoch 74/100\n",
      "5212/5212 [==============================] - 3s 587us/step - loss: 1.1771 - main_output_loss: 1.1582 - aux_output_loss: 0.0943\n",
      "Epoch 75/100\n",
      "5212/5212 [==============================] - 3s 583us/step - loss: 1.1639 - main_output_loss: 1.1449 - aux_output_loss: 0.0949\n",
      "Epoch 76/100\n",
      "5212/5212 [==============================] - 3s 584us/step - loss: 1.1519 - main_output_loss: 1.1330 - aux_output_loss: 0.0944\n",
      "Epoch 77/100\n",
      "5212/5212 [==============================] - 3s 584us/step - loss: 1.1410 - main_output_loss: 1.1222 - aux_output_loss: 0.0942\n",
      "Epoch 78/100\n",
      "5212/5212 [==============================] - 3s 585us/step - loss: 1.1227 - main_output_loss: 1.1039 - aux_output_loss: 0.0940\n",
      "Epoch 79/100\n",
      "5212/5212 [==============================] - 3s 586us/step - loss: 1.1155 - main_output_loss: 1.0967 - aux_output_loss: 0.0944\n",
      "Epoch 80/100\n",
      "5212/5212 [==============================] - 3s 581us/step - loss: 1.0988 - main_output_loss: 1.0800 - aux_output_loss: 0.0941\n",
      "Epoch 81/100\n",
      "5212/5212 [==============================] - 3s 586us/step - loss: 1.0854 - main_output_loss: 1.0665 - aux_output_loss: 0.0942\n",
      "Epoch 82/100\n",
      "5212/5212 [==============================] - 3s 587us/step - loss: 1.0768 - main_output_loss: 1.0580 - aux_output_loss: 0.0941\n",
      "Epoch 83/100\n",
      "5212/5212 [==============================] - 3s 586us/step - loss: 1.0649 - main_output_loss: 1.0461 - aux_output_loss: 0.0940\n",
      "Epoch 84/100\n",
      "5212/5212 [==============================] - 3s 578us/step - loss: 1.0551 - main_output_loss: 1.0363 - aux_output_loss: 0.0938\n",
      "Epoch 85/100\n",
      "5212/5212 [==============================] - 3s 586us/step - loss: 1.0415 - main_output_loss: 1.0228 - aux_output_loss: 0.0938\n",
      "Epoch 86/100\n",
      "5212/5212 [==============================] - 3s 579us/step - loss: 1.0272 - main_output_loss: 1.0084 - aux_output_loss: 0.0936\n",
      "Epoch 87/100\n",
      "5212/5212 [==============================] - 3s 582us/step - loss: 1.0201 - main_output_loss: 1.0014 - aux_output_loss: 0.0936\n",
      "Epoch 88/100\n",
      "5212/5212 [==============================] - 3s 585us/step - loss: 1.0086 - main_output_loss: 0.9899 - aux_output_loss: 0.0934\n",
      "Epoch 89/100\n",
      "5212/5212 [==============================] - 3s 588us/step - loss: 0.9999 - main_output_loss: 0.9814 - aux_output_loss: 0.0928\n",
      "Epoch 90/100\n",
      "5212/5212 [==============================] - 3s 585us/step - loss: 0.9867 - main_output_loss: 0.9679 - aux_output_loss: 0.0939\n",
      "Epoch 91/100\n",
      "5212/5212 [==============================] - 3s 582us/step - loss: 0.9728 - main_output_loss: 0.9542 - aux_output_loss: 0.0929\n",
      "Epoch 92/100\n",
      "5212/5212 [==============================] - 3s 586us/step - loss: 0.9657 - main_output_loss: 0.9472 - aux_output_loss: 0.0926\n",
      "Epoch 93/100\n",
      "5212/5212 [==============================] - 3s 586us/step - loss: 0.9564 - main_output_loss: 0.9378 - aux_output_loss: 0.0931\n",
      "Epoch 94/100\n",
      "5212/5212 [==============================] - 3s 587us/step - loss: 0.9458 - main_output_loss: 0.9272 - aux_output_loss: 0.0931\n",
      "Epoch 95/100\n",
      "5212/5212 [==============================] - 3s 584us/step - loss: 0.9311 - main_output_loss: 0.9124 - aux_output_loss: 0.0931\n",
      "Epoch 96/100\n",
      "5212/5212 [==============================] - 3s 583us/step - loss: 0.9219 - main_output_loss: 0.9033 - aux_output_loss: 0.0930\n",
      "Epoch 97/100\n",
      "5212/5212 [==============================] - 3s 583us/step - loss: 0.9151 - main_output_loss: 0.8965 - aux_output_loss: 0.0927\n",
      "Epoch 98/100\n",
      "5212/5212 [==============================] - 3s 584us/step - loss: 0.9050 - main_output_loss: 0.8864 - aux_output_loss: 0.0930\n",
      "Epoch 99/100\n",
      "5212/5212 [==============================] - 3s 587us/step - loss: 0.8999 - main_output_loss: 0.8813 - aux_output_loss: 0.0928\n",
      "Epoch 100/100\n",
      "5212/5212 [==============================] - 3s 586us/step - loss: 0.8826 - main_output_loss: 0.8640 - aux_output_loss: 0.0926\n"
     ]
    },
    {
     "data": {
      "text/plain": [
       "<keras.callbacks.History at 0x1a4bc9ee80>"
      ]
     },
     "execution_count": 397,
     "metadata": {},
     "output_type": "execute_result"
    }
   ],
   "source": [
    "main_input = Input(shape=(sequence_length,1), name='main_input')\n",
    "#aux_input = Input(shape=(1,), name='aux_input')\n",
    "#x = Embedding(output_dim=512, input_dim=(n_catagory,2), input_length=100)(main_input)\n",
    "lstm_out1 = LSTM(64,return_sequences=True)(main_input)\n",
    "lstm_out2 = LSTM(32)(lstm_out1)\n",
    "main_output = Dense(n_catagory, activation='softmax', name='main_output')(lstm_out2)\n",
    "#x = keras.layers.concatenate([main_output, aux_input])\n",
    "x = Dense(32, activation='relu')(main_output)\n",
    "x = Dense(32, activation='relu')(x)\n",
    "aux_output = Dense(1, activation='sigmoid', name='aux_output')(x)\n",
    "model = Model(inputs=[main_input], outputs=[main_output,aux_output])\n",
    "model.compile(optimizer='rmsprop',\\\n",
    "              loss={'main_output': 'categorical_crossentropy', 'aux_output': 'mean_squared_error'},\\\n",
    "              loss_weights={'main_output': 1., 'aux_output': 0.2})\n",
    "\n",
    "# And trained it via:\n",
    "\n",
    "model.fit({'main_input': notes_input},\\\n",
    "          {'main_output': notes_output, 'aux_output': other_input},\\\n",
    "          epochs=100, batch_size=32)"
   ]
  },
  {
   "cell_type": "code",
   "execution_count": 398,
   "metadata": {},
   "outputs": [
    {
     "name": "stdout",
     "output_type": "stream",
     "text": [
      "(5212, 63)\n",
      "[[0.13775192]\n",
      " [0.1873982 ]\n",
      " [0.13846077]\n",
      " [0.19238305]\n",
      " [0.26770246]\n",
      " [0.09019112]\n",
      " [0.0312456 ]\n",
      " [0.06561729]\n",
      " [0.17091355]\n",
      " [0.15939069]]\n",
      "62\n",
      "0.7603607060629317\n"
     ]
    }
   ],
   "source": [
    "int_to_note = dict((number, note) for number, note in enumerate(pitchnames))\n",
    "prediction1,prediction2 = model.predict({'main_input': notes_input})\n",
    "print (prediction1.shape)\n",
    "print (prediction2[:10])\n",
    "#print (numpy.argmax(prediction,axis=1))\n",
    "#print ()\n",
    "print (max(notes_comp))\n",
    "predict_note= [int_to_note[int(index)] for index in numpy.argmax(prediction1,axis=1)]\n",
    "notes_true=[int_to_note[int(index)] for index in notes_comp]\n",
    "accurcy=np.sum([1 if x==y else 0 for x,y in zip(predict_note,notes_true)])/len(predict_note)\n",
    "print (accurcy)"
   ]
  },
  {
   "cell_type": "code",
   "execution_count": 101,
   "metadata": {
    "collapsed": true
   },
   "outputs": [],
   "source": [
    "from sklearn.preprocessing import StandardScaler\n",
    "scaler = StandardScaler()"
   ]
  },
  {
   "cell_type": "code",
   "execution_count": 116,
   "metadata": {},
   "outputs": [
    {
     "data": {
      "text/plain": [
       "(5452, 3)"
      ]
     },
     "execution_count": 116,
     "metadata": {},
     "output_type": "execute_result"
    }
   ],
   "source": [
    "features = np.concatenate(getAllFeatureVectors())\n",
    "features = scaler.fit_transform(features)\n",
    "features.shape"
   ]
  },
  {
   "cell_type": "code",
   "execution_count": 303,
   "metadata": {},
   "outputs": [
    {
     "data": {
      "text/plain": [
       "((2000, 6, 3), (2000, 3))"
      ]
     },
     "execution_count": 303,
     "metadata": {},
     "output_type": "execute_result"
    }
   ],
   "source": [
    "def create_dataset(dataset, look_back=3):\n",
    "    dataX, dataY = [], []\n",
    "    for i in range(len(dataset)-look_back-1):\n",
    "        a = dataset[i:(i+look_back)]\n",
    "        dataX.append(a)\n",
    "        dataY.append(dataset[i + look_back])\n",
    "    return numpy.array(dataX), numpy.array(dataY)\n",
    "look_back = 6\n",
    "X, Y = create_dataset(features,look_back)\n",
    "X_train=X[:2000]\n",
    "Y_train=Y[:2000]\n",
    "X_test=X[2000:4000]\n",
    "Y_test=Y[2000:4000]\n",
    "X_train.shape,Y_train.shape"
   ]
  },
  {
   "cell_type": "code",
   "execution_count": 304,
   "metadata": {
    "collapsed": true
   },
   "outputs": [],
   "source": [
    "model = keras.Sequential()\n",
    "model.add(LSTM(64, input_shape=(look_back, 3)))\n",
    "model.add(Dense(32,activation='sigmoid'))\n",
    "model.add(Dense(32,activation='sigmoid'))\n",
    "model.add(Dense(3, activation='linear'))\n",
    "model.compile(loss='mean_squared_error', optimizer='sgd')"
   ]
  },
  {
   "cell_type": "code",
   "execution_count": 306,
   "metadata": {
    "scrolled": true
   },
   "outputs": [
    {
     "name": "stdout",
     "output_type": "stream",
     "text": [
      "Epoch 1/100\n",
      "2000/2000 [==============================] - 0s 216us/step - loss: 0.9526\n",
      "Epoch 2/100\n",
      "2000/2000 [==============================] - 0s 192us/step - loss: 0.9472\n",
      "Epoch 3/100\n",
      "2000/2000 [==============================] - 0s 192us/step - loss: 0.9412\n",
      "Epoch 4/100\n",
      "2000/2000 [==============================] - 0s 194us/step - loss: 0.9343\n",
      "Epoch 5/100\n",
      "2000/2000 [==============================] - 0s 194us/step - loss: 0.9265\n",
      "Epoch 6/100\n",
      "2000/2000 [==============================] - 0s 195us/step - loss: 0.9178\n",
      "Epoch 7/100\n",
      "2000/2000 [==============================] - 0s 192us/step - loss: 0.9078\n",
      "Epoch 8/100\n",
      "2000/2000 [==============================] - 0s 194us/step - loss: 0.8965\n",
      "Epoch 9/100\n",
      "2000/2000 [==============================] - 0s 195us/step - loss: 0.8835\n",
      "Epoch 10/100\n",
      "2000/2000 [==============================] - 0s 195us/step - loss: 0.8694\n",
      "Epoch 11/100\n",
      "2000/2000 [==============================] - 0s 197us/step - loss: 0.8540\n",
      "Epoch 12/100\n",
      "2000/2000 [==============================] - 0s 193us/step - loss: 0.8377\n",
      "Epoch 13/100\n",
      "2000/2000 [==============================] - 0s 195us/step - loss: 0.8193\n",
      "Epoch 14/100\n",
      "2000/2000 [==============================] - 0s 201us/step - loss: 0.8001\n",
      "Epoch 15/100\n",
      "2000/2000 [==============================] - 0s 190us/step - loss: 0.7813\n",
      "Epoch 16/100\n",
      "2000/2000 [==============================] - 0s 195us/step - loss: 0.7632\n",
      "Epoch 17/100\n",
      "2000/2000 [==============================] - 0s 196us/step - loss: 0.7447\n",
      "Epoch 18/100\n",
      "2000/2000 [==============================] - 0s 196us/step - loss: 0.7289\n",
      "Epoch 19/100\n",
      "2000/2000 [==============================] - 0s 196us/step - loss: 0.7152\n",
      "Epoch 20/100\n",
      "2000/2000 [==============================] - 0s 199us/step - loss: 0.7029\n",
      "Epoch 21/100\n",
      "2000/2000 [==============================] - 0s 199us/step - loss: 0.6942\n",
      "Epoch 22/100\n",
      "2000/2000 [==============================] - 0s 195us/step - loss: 0.6873\n",
      "Epoch 23/100\n",
      "2000/2000 [==============================] - 0s 198us/step - loss: 0.6821\n",
      "Epoch 24/100\n",
      "2000/2000 [==============================] - 0s 200us/step - loss: 0.6784\n",
      "Epoch 25/100\n",
      "2000/2000 [==============================] - 0s 198us/step - loss: 0.6756\n",
      "Epoch 26/100\n",
      "2000/2000 [==============================] - 0s 200us/step - loss: 0.6738\n",
      "Epoch 27/100\n",
      "2000/2000 [==============================] - 0s 200us/step - loss: 0.6729\n",
      "Epoch 28/100\n",
      "2000/2000 [==============================] - 0s 192us/step - loss: 0.6716\n",
      "Epoch 29/100\n",
      "2000/2000 [==============================] - 0s 199us/step - loss: 0.6707\n",
      "Epoch 30/100\n",
      "2000/2000 [==============================] - 0s 199us/step - loss: 0.6701\n",
      "Epoch 31/100\n",
      "2000/2000 [==============================] - 0s 199us/step - loss: 0.6695\n",
      "Epoch 32/100\n",
      "2000/2000 [==============================] - 0s 198us/step - loss: 0.6689\n",
      "Epoch 33/100\n",
      "2000/2000 [==============================] - 0s 198us/step - loss: 0.6692\n",
      "Epoch 34/100\n",
      "2000/2000 [==============================] - 0s 200us/step - loss: 0.6684\n",
      "Epoch 35/100\n",
      "2000/2000 [==============================] - 0s 199us/step - loss: 0.6682\n",
      "Epoch 36/100\n",
      "2000/2000 [==============================] - 0s 199us/step - loss: 0.6684\n",
      "Epoch 37/100\n",
      "2000/2000 [==============================] - 0s 199us/step - loss: 0.6681\n",
      "Epoch 38/100\n",
      "2000/2000 [==============================] - 0s 193us/step - loss: 0.6674\n",
      "Epoch 39/100\n",
      "2000/2000 [==============================] - 0s 200us/step - loss: 0.6673\n",
      "Epoch 40/100\n",
      "2000/2000 [==============================] - 0s 200us/step - loss: 0.6675\n",
      "Epoch 41/100\n",
      "2000/2000 [==============================] - 0s 199us/step - loss: 0.6668\n",
      "Epoch 42/100\n",
      "2000/2000 [==============================] - 0s 200us/step - loss: 0.6669\n",
      "Epoch 43/100\n",
      "2000/2000 [==============================] - 0s 202us/step - loss: 0.6663\n",
      "Epoch 44/100\n",
      "2000/2000 [==============================] - 0s 206us/step - loss: 0.6666\n",
      "Epoch 45/100\n",
      "2000/2000 [==============================] - 0s 202us/step - loss: 0.6666\n",
      "Epoch 46/100\n",
      "2000/2000 [==============================] - 0s 201us/step - loss: 0.6664\n",
      "Epoch 47/100\n",
      "2000/2000 [==============================] - 0s 202us/step - loss: 0.6661\n",
      "Epoch 48/100\n",
      "2000/2000 [==============================] - 0s 202us/step - loss: 0.6660\n",
      "Epoch 49/100\n",
      "2000/2000 [==============================] - 0s 200us/step - loss: 0.6657\n",
      "Epoch 50/100\n",
      "2000/2000 [==============================] - 0s 200us/step - loss: 0.6659\n",
      "Epoch 51/100\n",
      "2000/2000 [==============================] - 0s 201us/step - loss: 0.6657\n",
      "Epoch 52/100\n",
      "2000/2000 [==============================] - 0s 196us/step - loss: 0.6655\n",
      "Epoch 53/100\n",
      "2000/2000 [==============================] - 0s 200us/step - loss: 0.6655\n",
      "Epoch 54/100\n",
      "2000/2000 [==============================] - 0s 201us/step - loss: 0.6652\n",
      "Epoch 55/100\n",
      "2000/2000 [==============================] - 0s 201us/step - loss: 0.6651\n",
      "Epoch 56/100\n",
      "2000/2000 [==============================] - 0s 201us/step - loss: 0.6647\n",
      "Epoch 57/100\n",
      "2000/2000 [==============================] - 0s 199us/step - loss: 0.6653\n",
      "Epoch 58/100\n",
      "2000/2000 [==============================] - 0s 201us/step - loss: 0.6650\n",
      "Epoch 59/100\n",
      "2000/2000 [==============================] - 0s 201us/step - loss: 0.6654\n",
      "Epoch 60/100\n",
      "2000/2000 [==============================] - 0s 201us/step - loss: 0.6649\n",
      "Epoch 61/100\n",
      "2000/2000 [==============================] - 0s 201us/step - loss: 0.6648\n",
      "Epoch 62/100\n",
      "2000/2000 [==============================] - 0s 200us/step - loss: 0.6647\n",
      "Epoch 63/100\n",
      "2000/2000 [==============================] - 0s 202us/step - loss: 0.6647\n",
      "Epoch 64/100\n",
      "2000/2000 [==============================] - 0s 205us/step - loss: 0.6647\n",
      "Epoch 65/100\n",
      "2000/2000 [==============================] - 0s 206us/step - loss: 0.6648\n",
      "Epoch 66/100\n",
      "2000/2000 [==============================] - 0s 203us/step - loss: 0.6645\n",
      "Epoch 67/100\n",
      "2000/2000 [==============================] - 0s 200us/step - loss: 0.6644\n",
      "Epoch 68/100\n",
      "2000/2000 [==============================] - 0s 202us/step - loss: 0.6643\n",
      "Epoch 69/100\n",
      "2000/2000 [==============================] - 0s 203us/step - loss: 0.6644\n",
      "Epoch 70/100\n",
      "2000/2000 [==============================] - 0s 193us/step - loss: 0.6639\n",
      "Epoch 71/100\n",
      "2000/2000 [==============================] - 0s 205us/step - loss: 0.6642\n",
      "Epoch 72/100\n",
      "2000/2000 [==============================] - 0s 199us/step - loss: 0.6644\n",
      "Epoch 73/100\n",
      "2000/2000 [==============================] - 0s 203us/step - loss: 0.6646\n",
      "Epoch 74/100\n",
      "2000/2000 [==============================] - 0s 198us/step - loss: 0.6640\n",
      "Epoch 75/100\n",
      "2000/2000 [==============================] - 0s 201us/step - loss: 0.6646\n",
      "Epoch 76/100\n",
      "2000/2000 [==============================] - 0s 200us/step - loss: 0.6643\n",
      "Epoch 77/100\n",
      "2000/2000 [==============================] - 0s 200us/step - loss: 0.6643\n",
      "Epoch 78/100\n",
      "2000/2000 [==============================] - 0s 195us/step - loss: 0.6637\n",
      "Epoch 79/100\n",
      "2000/2000 [==============================] - 0s 185us/step - loss: 0.6640\n",
      "Epoch 80/100\n",
      "2000/2000 [==============================] - 0s 191us/step - loss: 0.6641\n",
      "Epoch 81/100\n",
      "2000/2000 [==============================] - 0s 183us/step - loss: 0.6639\n",
      "Epoch 82/100\n",
      "2000/2000 [==============================] - 0s 198us/step - loss: 0.6636\n",
      "Epoch 83/100\n",
      "2000/2000 [==============================] - 0s 200us/step - loss: 0.6634\n",
      "Epoch 84/100\n",
      "2000/2000 [==============================] - 0s 202us/step - loss: 0.6639\n",
      "Epoch 85/100\n",
      "2000/2000 [==============================] - 0s 197us/step - loss: 0.6639\n",
      "Epoch 86/100\n",
      "2000/2000 [==============================] - 0s 201us/step - loss: 0.6635\n",
      "Epoch 87/100\n",
      "2000/2000 [==============================] - 0s 200us/step - loss: 0.6639\n",
      "Epoch 88/100\n",
      "2000/2000 [==============================] - 0s 200us/step - loss: 0.6635\n",
      "Epoch 89/100\n",
      "2000/2000 [==============================] - 0s 201us/step - loss: 0.6638\n",
      "Epoch 90/100\n",
      "2000/2000 [==============================] - 0s 199us/step - loss: 0.6635\n",
      "Epoch 91/100\n",
      "2000/2000 [==============================] - 0s 202us/step - loss: 0.6634\n",
      "Epoch 92/100\n",
      "2000/2000 [==============================] - 0s 196us/step - loss: 0.6638\n",
      "Epoch 93/100\n",
      "2000/2000 [==============================] - 0s 200us/step - loss: 0.6633\n",
      "Epoch 94/100\n",
      "2000/2000 [==============================] - 0s 202us/step - loss: 0.6632\n",
      "Epoch 95/100\n",
      "2000/2000 [==============================] - 0s 199us/step - loss: 0.6631\n",
      "Epoch 96/100\n",
      "2000/2000 [==============================] - 0s 201us/step - loss: 0.6633 0s - loss: 0\n",
      "Epoch 97/100\n",
      "2000/2000 [==============================] - 0s 199us/step - loss: 0.6637\n",
      "Epoch 98/100\n",
      "2000/2000 [==============================] - 0s 200us/step - loss: 0.6630\n",
      "Epoch 99/100\n",
      "2000/2000 [==============================] - 0s 200us/step - loss: 0.6630 0s - loss:\n",
      "Epoch 100/100\n",
      "2000/2000 [==============================] - 0s 200us/step - loss: 0.6628\n"
     ]
    },
    {
     "data": {
      "text/plain": [
       "<keras.callbacks.History at 0x1a3f26e080>"
      ]
     },
     "execution_count": 306,
     "metadata": {},
     "output_type": "execute_result"
    }
   ],
   "source": [
    "model.fit(X_train, Y_train, epochs=100)"
   ]
  },
  {
   "cell_type": "code",
   "execution_count": 402,
   "metadata": {},
   "outputs": [
    {
     "ename": "ImportError",
     "evalue": "Failed to import pydot. You must install pydot and graphviz for `pydotprint` to work.",
     "output_type": "error",
     "traceback": [
      "\u001b[0;31m---------------------------------------------------------------------------\u001b[0m",
      "\u001b[0;31mAttributeError\u001b[0m                            Traceback (most recent call last)",
      "\u001b[0;32m~/anaconda3/lib/python3.6/site-packages/keras/utils/vis_utils.py\u001b[0m in \u001b[0;36m_check_pydot\u001b[0;34m()\u001b[0m\n\u001b[1;32m     26\u001b[0m         \u001b[0;31m# to check the pydot/graphviz installation.\u001b[0m\u001b[0;34m\u001b[0m\u001b[0;34m\u001b[0m\u001b[0m\n\u001b[0;32m---> 27\u001b[0;31m         \u001b[0mpydot\u001b[0m\u001b[0;34m.\u001b[0m\u001b[0mDot\u001b[0m\u001b[0;34m.\u001b[0m\u001b[0mcreate\u001b[0m\u001b[0;34m(\u001b[0m\u001b[0mpydot\u001b[0m\u001b[0;34m.\u001b[0m\u001b[0mDot\u001b[0m\u001b[0;34m(\u001b[0m\u001b[0;34m)\u001b[0m\u001b[0;34m)\u001b[0m\u001b[0;34m\u001b[0m\u001b[0m\n\u001b[0m\u001b[1;32m     28\u001b[0m     \u001b[0;32mexcept\u001b[0m \u001b[0mException\u001b[0m\u001b[0;34m:\u001b[0m\u001b[0;34m\u001b[0m\u001b[0m\n",
      "\u001b[0;31mAttributeError\u001b[0m: 'NoneType' object has no attribute 'Dot'",
      "\nDuring handling of the above exception, another exception occurred:\n",
      "\u001b[0;31mImportError\u001b[0m                               Traceback (most recent call last)",
      "\u001b[0;32m<ipython-input-402-437440fcd987>\u001b[0m in \u001b[0;36m<module>\u001b[0;34m()\u001b[0m\n\u001b[1;32m      1\u001b[0m \u001b[0;32mfrom\u001b[0m \u001b[0mkeras\u001b[0m\u001b[0;34m.\u001b[0m\u001b[0mutils\u001b[0m \u001b[0;32mimport\u001b[0m \u001b[0mplot_model\u001b[0m\u001b[0;34m\u001b[0m\u001b[0m\n\u001b[0;32m----> 2\u001b[0;31m \u001b[0mplot_model\u001b[0m\u001b[0;34m(\u001b[0m\u001b[0mmodel\u001b[0m\u001b[0;34m,\u001b[0m \u001b[0mto_file\u001b[0m\u001b[0;34m=\u001b[0m\u001b[0;34m'model.png'\u001b[0m\u001b[0;34m)\u001b[0m\u001b[0;34m\u001b[0m\u001b[0m\n\u001b[0m",
      "\u001b[0;32m~/anaconda3/lib/python3.6/site-packages/keras/utils/vis_utils.py\u001b[0m in \u001b[0;36mplot_model\u001b[0;34m(model, to_file, show_shapes, show_layer_names, rankdir)\u001b[0m\n\u001b[1;32m    133\u001b[0m             \u001b[0;34m'LR'\u001b[0m \u001b[0mcreates\u001b[0m \u001b[0ma\u001b[0m \u001b[0mhorizontal\u001b[0m \u001b[0mplot\u001b[0m\u001b[0;34m.\u001b[0m\u001b[0;34m\u001b[0m\u001b[0m\n\u001b[1;32m    134\u001b[0m     \"\"\"\n\u001b[0;32m--> 135\u001b[0;31m     \u001b[0mdot\u001b[0m \u001b[0;34m=\u001b[0m \u001b[0mmodel_to_dot\u001b[0m\u001b[0;34m(\u001b[0m\u001b[0mmodel\u001b[0m\u001b[0;34m,\u001b[0m \u001b[0mshow_shapes\u001b[0m\u001b[0;34m,\u001b[0m \u001b[0mshow_layer_names\u001b[0m\u001b[0;34m,\u001b[0m \u001b[0mrankdir\u001b[0m\u001b[0;34m)\u001b[0m\u001b[0;34m\u001b[0m\u001b[0m\n\u001b[0m\u001b[1;32m    136\u001b[0m     \u001b[0m_\u001b[0m\u001b[0;34m,\u001b[0m \u001b[0mextension\u001b[0m \u001b[0;34m=\u001b[0m \u001b[0mos\u001b[0m\u001b[0;34m.\u001b[0m\u001b[0mpath\u001b[0m\u001b[0;34m.\u001b[0m\u001b[0msplitext\u001b[0m\u001b[0;34m(\u001b[0m\u001b[0mto_file\u001b[0m\u001b[0;34m)\u001b[0m\u001b[0;34m\u001b[0m\u001b[0m\n\u001b[1;32m    137\u001b[0m     \u001b[0;32mif\u001b[0m \u001b[0;32mnot\u001b[0m \u001b[0mextension\u001b[0m\u001b[0;34m:\u001b[0m\u001b[0;34m\u001b[0m\u001b[0m\n",
      "\u001b[0;32m~/anaconda3/lib/python3.6/site-packages/keras/utils/vis_utils.py\u001b[0m in \u001b[0;36mmodel_to_dot\u001b[0;34m(model, show_shapes, show_layer_names, rankdir)\u001b[0m\n\u001b[1;32m     54\u001b[0m     \u001b[0;32mfrom\u001b[0m \u001b[0;34m.\u001b[0m\u001b[0;34m.\u001b[0m\u001b[0mmodels\u001b[0m \u001b[0;32mimport\u001b[0m \u001b[0mSequential\u001b[0m\u001b[0;34m\u001b[0m\u001b[0m\n\u001b[1;32m     55\u001b[0m \u001b[0;34m\u001b[0m\u001b[0m\n\u001b[0;32m---> 56\u001b[0;31m     \u001b[0m_check_pydot\u001b[0m\u001b[0;34m(\u001b[0m\u001b[0;34m)\u001b[0m\u001b[0;34m\u001b[0m\u001b[0m\n\u001b[0m\u001b[1;32m     57\u001b[0m     \u001b[0mdot\u001b[0m \u001b[0;34m=\u001b[0m \u001b[0mpydot\u001b[0m\u001b[0;34m.\u001b[0m\u001b[0mDot\u001b[0m\u001b[0;34m(\u001b[0m\u001b[0;34m)\u001b[0m\u001b[0;34m\u001b[0m\u001b[0m\n\u001b[1;32m     58\u001b[0m     \u001b[0mdot\u001b[0m\u001b[0;34m.\u001b[0m\u001b[0mset\u001b[0m\u001b[0;34m(\u001b[0m\u001b[0;34m'rankdir'\u001b[0m\u001b[0;34m,\u001b[0m \u001b[0mrankdir\u001b[0m\u001b[0;34m)\u001b[0m\u001b[0;34m\u001b[0m\u001b[0m\n",
      "\u001b[0;32m~/anaconda3/lib/python3.6/site-packages/keras/utils/vis_utils.py\u001b[0m in \u001b[0;36m_check_pydot\u001b[0;34m()\u001b[0m\n\u001b[1;32m     29\u001b[0m         \u001b[0;31m# pydot raises a generic Exception here,\u001b[0m\u001b[0;34m\u001b[0m\u001b[0;34m\u001b[0m\u001b[0m\n\u001b[1;32m     30\u001b[0m         \u001b[0;31m# so no specific class can be caught.\u001b[0m\u001b[0;34m\u001b[0m\u001b[0;34m\u001b[0m\u001b[0m\n\u001b[0;32m---> 31\u001b[0;31m         raise ImportError('Failed to import pydot. You must install pydot'\n\u001b[0m\u001b[1;32m     32\u001b[0m                           ' and graphviz for `pydotprint` to work.')\n\u001b[1;32m     33\u001b[0m \u001b[0;34m\u001b[0m\u001b[0m\n",
      "\u001b[0;31mImportError\u001b[0m: Failed to import pydot. You must install pydot and graphviz for `pydotprint` to work."
     ]
    }
   ],
   "source": [
    "from keras.utils import plot_model\n",
    "plot_model(model, to_file='model.png')"
   ]
  },
  {
   "cell_type": "code",
   "execution_count": 307,
   "metadata": {
    "collapsed": true
   },
   "outputs": [],
   "source": [
    "Y_predict = model.predict(X_test)"
   ]
  },
  {
   "cell_type": "code",
   "execution_count": 308,
   "metadata": {},
   "outputs": [
    {
     "data": {
      "text/plain": [
       "(2000, 3)"
      ]
     },
     "execution_count": 308,
     "metadata": {},
     "output_type": "execute_result"
    }
   ],
   "source": [
    "(Y_predict-Y_test).shape"
   ]
  },
  {
   "cell_type": "code",
   "execution_count": 309,
   "metadata": {},
   "outputs": [
    {
     "name": "stdout",
     "output_type": "stream",
     "text": [
      "1.063026936295108\n"
     ]
    }
   ],
   "source": [
    "test_loss=np.sum([np.dot(y_delta,y_delta) for y_delta in (Y_predict-Y_test)])/(Y_predict-Y_test).shape[0]/3\n",
    "print (test_loss)"
   ]
  },
  {
   "cell_type": "code",
   "execution_count": 400,
   "metadata": {},
   "outputs": [
    {
     "data": {
      "text/plain": [
       "[<matplotlib.lines.Line2D at 0x1a4598b240>]"
      ]
     },
     "execution_count": 400,
     "metadata": {},
     "output_type": "execute_result"
    },
    {
     "data": {
      "image/png": "[encoded data removed]",
      "text/plain": [
       "<matplotlib.figure.Figure at 0x1a4598b630>"
      ]
     },
     "metadata": {},
     "output_type": "display_data"
    }
   ],
   "source": [
    "#epoch=100\n",
    "n_neuron_onelayer=[12,16,20,24,28,32,36,40,44,48,52,56,60,64]\n",
    "train_loss_onelayer=[0.6684,0.6651,0.6646,0.6680,0.6622,0.6640,0.6594,0.6613,0.6624,0.6661,0.6605,\\\n",
    "            0.6652,0.6641,0.6681]\n",
    "test_loss_onelayer=[1.0919,1.1005,1.1029,1.0851,1.1206,1.1070,1.1202,1.1126,1.1126,1.1071,1.1278,\\\n",
    "          1.0988,1.1208,1.0964]\n",
    "plt.plot(n_neuron_onelayer,train_loss_onelayer)\n",
    "plt.plot(n_neuron_onelayer,test_loss_onelayer)"
   ]
  },
  {
   "cell_type": "code",
   "execution_count": 401,
   "metadata": {},
   "outputs": [
    {
     "data": {
      "text/plain": [
       "[<matplotlib.lines.Line2D at 0x1a4f40b8d0>]"
      ]
     },
     "execution_count": 401,
     "metadata": {},
     "output_type": "execute_result"
    },
    {
     "data": {
      "image/png": "[encoded data removed]",
      "text/plain": [
       "<matplotlib.figure.Figure at 0x1a4f4b68d0>"
      ]
     },
     "metadata": {},
     "output_type": "display_data"
    }
   ],
   "source": [
    "#epoch=100\n",
    "n_neuron_twolayer=[16,24,32,40,48,56,64]\n",
    "train_loss_twolayer=[0.6767,0.6756,0.6789,0.6780,0.6797,0.6800,0.6797]\n",
    "test_loss_twolayer=[1.0612,1.0717,1.0670,1.0636,1.0607,1.0700,1.0547]\n",
    "plt.plot(n_neuron_twolayer,train_loss_twolayer)\n",
    "plt.plot(n_neuron_twolayer,test_loss_twolayer)"
   ]
  },
  {
   "cell_type": "code",
   "execution_count": 23,
   "metadata": {
    "collapsed": true
   },
   "outputs": [],
   "source": [
    "import seaborn as sns\n",
    "sns.set_style('darkgrid')"
   ]
  },
  {
   "cell_type": "code",
   "execution_count": 68,
   "metadata": {},
   "outputs": [
    {
     "data": {
      "text/plain": [
       "array([[ 0.7166391 , -0.12023745, -0.03724909],\n",
       "       [ 0.7168887 ,  0.05233854,  0.08632386],\n",
       "       [ 0.72470576,  0.08964669,  0.14873257],\n",
       "       ...,\n",
       "       [-0.34180415, -0.3976169 , -0.18748423],\n",
       "       [-0.360519  ,  0.36732563, -0.5765101 ],\n",
       "       [-0.22899117,  0.81024516, -0.4173819 ]], dtype=float32)"
      ]
     },
     "execution_count": 68,
     "metadata": {},
     "output_type": "execute_result"
    }
   ],
   "source": [
    "Y_hat"
   ]
  },
  {
   "cell_type": "code",
   "execution_count": 69,
   "metadata": {},
   "outputs": [
    {
     "data": {
      "text/plain": [
       "[<matplotlib.lines.Line2D at 0x11795b358>,\n",
       " <matplotlib.lines.Line2D at 0x11795b4a8>,\n",
       " <matplotlib.lines.Line2D at 0x11795b630>]"
      ]
     },
     "execution_count": 69,
     "metadata": {},
     "output_type": "execute_result"
    },
    {
     "data": {
      "image/png": "[encoded data removed]",
      "text/plain": [
       "<matplotlib.figure.Figure at 0x11777f0f0>"
      ]
     },
     "metadata": {},
     "output_type": "display_data"
    }
   ],
   "source": [
    "plt.plot(scaler.inverse_transform(Y_hat),'.')"
   ]
  },
  {
   "cell_type": "code",
   "execution_count": 70,
   "metadata": {},
   "outputs": [
    {
     "data": {
      "text/plain": [
       "array([[6.9030693e+01, 9.6764714e-02, 9.9690567e+01],\n",
       "       [6.9034355e+01, 1.2288289e-01, 9.9964554e+01],\n",
       "       [6.9149033e+01, 1.2852922e-01, 1.0010293e+02],\n",
       "       ...,\n",
       "       [5.3502922e+01, 5.4785270e-02, 9.9357468e+01],\n",
       "       [5.3228367e+01, 1.7055398e-01, 9.8494926e+01],\n",
       "       [5.5157932e+01, 2.3758677e-01, 9.8847740e+01]], dtype=float32)"
      ]
     },
     "execution_count": 70,
     "metadata": {},
     "output_type": "execute_result"
    }
   ],
   "source": [
    "scaler.inverse_transform(Y_hat)"
   ]
  },
  {
   "cell_type": "code",
   "execution_count": 32,
   "metadata": {
    "scrolled": true
   },
   "outputs": [
    {
     "ename": "IndexError",
     "evalue": "index 2 is out of bounds for axis 0 with size 2",
     "output_type": "error",
     "traceback": [
      "\u001b[0;31m---------------------------------------------------------------------------\u001b[0m",
      "\u001b[0;31mIndexError\u001b[0m                                Traceback (most recent call last)",
      "\u001b[0;32m<ipython-input-32-fe4b36095a82>\u001b[0m in \u001b[0;36m<module>\u001b[0;34m()\u001b[0m\n\u001b[1;32m     56\u001b[0m \u001b[0;32mfor\u001b[0m \u001b[0mf\u001b[0m \u001b[0;32min\u001b[0m \u001b[0mfeatureVectors\u001b[0m\u001b[0;34m:\u001b[0m\u001b[0;34m\u001b[0m\u001b[0m\n\u001b[1;32m     57\u001b[0m     \u001b[0;31m#print(i)\u001b[0m\u001b[0;34m\u001b[0m\u001b[0;34m\u001b[0m\u001b[0m\n\u001b[0;32m---> 58\u001b[0;31m     \u001b[0mfeaturesToMidi\u001b[0m\u001b[0;34m(\u001b[0m\u001b[0mf\u001b[0m\u001b[0;34m,\u001b[0m \u001b[0;34m'beatles'\u001b[0m\u001b[0;34m+\u001b[0m\u001b[0mstr\u001b[0m\u001b[0;34m(\u001b[0m\u001b[0mi\u001b[0m\u001b[0;34m)\u001b[0m\u001b[0;34m+\u001b[0m\u001b[0;34m'.mid'\u001b[0m\u001b[0;34m)\u001b[0m\u001b[0;34m\u001b[0m\u001b[0m\n\u001b[0m\u001b[1;32m     59\u001b[0m     \u001b[0mi\u001b[0m\u001b[0;34m+=\u001b[0m\u001b[0;36m1\u001b[0m\u001b[0;34m\u001b[0m\u001b[0m\n\u001b[1;32m     60\u001b[0m \u001b[0;31m#featuresToMidi(featureVectors[44], 'testing.mid')\u001b[0m\u001b[0;34m\u001b[0m\u001b[0;34m\u001b[0m\u001b[0m\n",
      "\u001b[0;32m<ipython-input-32-fe4b36095a82>\u001b[0m in \u001b[0;36mfeaturesToMidi\u001b[0;34m(features, fileName)\u001b[0m\n\u001b[1;32m     19\u001b[0m         \u001b[0mtimeFromStart\u001b[0m \u001b[0;34m+=\u001b[0m \u001b[0mdeltaTime\u001b[0m\u001b[0;34m\u001b[0m\u001b[0m\n\u001b[1;32m     20\u001b[0m \u001b[0;34m\u001b[0m\u001b[0m\n\u001b[0;32m---> 21\u001b[0;31m         \u001b[0mvelocity\u001b[0m \u001b[0;34m=\u001b[0m \u001b[0mfeature\u001b[0m\u001b[0;34m[\u001b[0m\u001b[0;36m2\u001b[0m\u001b[0;34m]\u001b[0m\u001b[0;34m\u001b[0m\u001b[0m\n\u001b[0m\u001b[1;32m     22\u001b[0m \u001b[0;34m\u001b[0m\u001b[0m\n\u001b[1;32m     23\u001b[0m         \u001b[0mwithTimeFromStart\u001b[0m\u001b[0;34m.\u001b[0m\u001b[0mappend\u001b[0m\u001b[0;34m(\u001b[0m\u001b[0mnp\u001b[0m\u001b[0;34m.\u001b[0m\u001b[0marray\u001b[0m\u001b[0;34m(\u001b[0m\u001b[0;34m[\u001b[0m\u001b[0;34m'note_on'\u001b[0m\u001b[0;34m,\u001b[0m \u001b[0mnote\u001b[0m\u001b[0;34m,\u001b[0m \u001b[0mdeltaTime\u001b[0m\u001b[0;34m,\u001b[0m \u001b[0mvelocity\u001b[0m\u001b[0;34m,\u001b[0m \u001b[0mtimeFromStart\u001b[0m\u001b[0;34m]\u001b[0m\u001b[0;34m)\u001b[0m\u001b[0;34m)\u001b[0m\u001b[0;34m\u001b[0m\u001b[0m\n",
      "\u001b[0;31mIndexError\u001b[0m: index 2 is out of bounds for axis 0 with size 2"
     ]
    }
   ],
   "source": [
    "from mido import Message, MidiFile, MidiTrack\n",
    "\n",
    "#turn the feature vector back into a MIDI file\n",
    "def featuresToMidi(features, fileName):\n",
    "    directory = \"featureToMidi\"\n",
    "    mid = MidiFile(type=0)\n",
    "    track = MidiTrack()\n",
    "    mid.tracks.append(track)\n",
    "    \n",
    "    #track.append(Message('program_change', program=12, time=0))\n",
    "    \n",
    "    withTimeFromStart = []\n",
    "    timeFromStart = 0\n",
    "    \n",
    "    for feature in features:\n",
    "        note = feature[0]\n",
    "        \n",
    "        deltaTime = feature[1]\n",
    "        timeFromStart += deltaTime\n",
    "        \n",
    "        velocity = feature[2]\n",
    "        \n",
    "        withTimeFromStart.append(np.array(['note_on', note, deltaTime, velocity, timeFromStart]))\n",
    "        #withTimeFromStart.append(np.array(['note_off', note, velocity, duration, timeFromStart+duration]))\n",
    "        \n",
    "    withTimeFromStart = np.array(withTimeFromStart)\n",
    "    \n",
    "    #sortedIndicies = withTimeFromStart[:,4].sort(axis=0)\n",
    "    #withTimeFromStart = withTimeFromStart[sortedIndicies][0]\n",
    "       \n",
    "    currTime = 0.0\n",
    "    for m in withTimeFromStart:\n",
    "        prevTime = currTime\n",
    "    \n",
    "        currTime = float(m[4])\n",
    "        \n",
    "        n = int(round(float(m[1])))\n",
    "        \n",
    "        t = currTime - prevTime\n",
    "        #TIME IS STORED IN TICKS NOT SECONDS.  SO IM GONNA JUST GUESS HERE\n",
    "        tempo = mido.bpm2tempo(128)\n",
    "        t = mido.second2tick(t, 500 , tempo)#second, ticks_per_beat, tempo)\n",
    "        #print currTime, t, m[0]\n",
    "        track.append(Message(type=m[0], note=n, velocity=int(round(float(m[3]))), channel=4, time=abs(int(round(t)))))\n",
    "    \n",
    "    cwd = os.getcwd()\n",
    "    rootdir = (cwd + '/' + directory + '/')\n",
    "    mid.save(directory + \"/\" + fileName)\n",
    "    \n",
    "    '''port = mido.open_output()\n",
    "    #port.send(msg)\n",
    "    for msg in MidiFile(directory + \"/\" + fileName).play():\n",
    "        port.send(msg)'''\n",
    "\n",
    "i = 0\n",
    "for f in featureVectors:\n",
    "    #print(i)\n",
    "    featuresToMidi(f, 'beatles'+str(i)+'.mid')\n",
    "    i+=1\n",
    "#featuresToMidi(featureVectors[44], 'testing.mid')"
   ]
  },
  {
   "cell_type": "markdown",
   "metadata": {},
   "source": [
    "### Functional form of loss function:"
   ]
  },
  {
   "cell_type": "code",
   "execution_count": 171,
   "metadata": {
    "collapsed": true
   },
   "outputs": [],
   "source": [
    "x = np.linspace(-48,47,96)"
   ]
  },
  {
   "cell_type": "code",
   "execution_count": 88,
   "metadata": {},
   "outputs": [
    {
     "data": {
      "text/plain": [
       "array([-48., -47., -46., -45., -44., -43., -42., -41., -40., -39., -38.,\n",
       "       -37., -36., -35., -34., -33., -32., -31., -30., -29., -28., -27.,\n",
       "       -26., -25., -24., -23., -22., -21., -20., -19., -18., -17., -16.,\n",
       "       -15., -14., -13., -12., -11., -10.,  -9.,  -8.,  -7.,  -6.,  -5.,\n",
       "        -4.,  -3.,  -2.,  -1.,   0.,   1.,   2.,   3.,   4.,   5.,   6.,\n",
       "         7.,   8.,   9.,  10.,  11.,  12.,  13.,  14.,  15.,  16.,  17.,\n",
       "        18.,  19.,  20.,  21.,  22.,  23.,  24.,  25.,  26.,  27.,  28.,\n",
       "        29.,  30.,  31.,  32.,  33.,  34.,  35.,  36.,  37.,  38.,  39.,\n",
       "        40.,  41.,  42.,  43.,  44.,  45.,  46.,  47.])"
      ]
     },
     "execution_count": 88,
     "metadata": {},
     "output_type": "execute_result"
    }
   ],
   "source": [
    "x"
   ]
  },
  {
   "cell_type": "code",
   "execution_count": 5,
   "metadata": {
    "collapsed": true
   },
   "outputs": [],
   "source": [
    "def loss_func(y_true, y_pred):\n",
    "    import scipy\n",
    "    x = np.linspace(-48,47,96)\n",
    "    y = np.array([0.8, 1.8, 1.8, 1.8, 1. , 1.8, 1.8, 1. , 1.8, 1.8, 1.8, 1.8, 0.6,\n",
    "       1.6, 1.6, 1.6, 0.8, 1.6, 1.6, 0.8, 1.6, 1.6, 1.6, 1.6, 0.4, 1.4,\n",
    "       1.4, 1.4, 0.6, 1.4, 1.4, 0.6, 1.4, 1.4, 1.4, 1.4, 0.2, 1.2, 1.2,\n",
    "       1.2, 0.4, 1.2, 1.2, 0.4, 1.2, 1.2, 1.2, 1.2, 0. , 1. , 1. , 1. ,\n",
    "       0.2, 1. , 1. , 0.2, 1. , 1. , 1. , 1. , 0.2, 1.2, 1.2, 1.2, 0.4,\n",
    "       1.2, 1.2, 0.4, 1.2, 1.2, 1.2, 1.2, 0.4, 1.4, 1.4, 1.4, 0.6, 1.4,\n",
    "       1.4, 0.6, 1.4, 1.4, 1.4, 1.4, 0.6, 1.6, 1.6, 1.6, 0.8, 1.6, 1.6,\n",
    "       0.8, 1.6, 1.6, 1.6, 1.6])\n",
    "    x = x[24:72]\n",
    "    y = y[24:72]\n",
    "    # fit = scipy.poly1d(scipy.polyfit(x,y,deg=40))\n",
    "    delta1 = y_true[0][0]-y_pred[0][0]\n",
    "    loss1 = scipy.poly1d(scipy.polyfit(x,y,deg=40))(delta1)\n",
    "    loss2 = (y_true[1]-y_pred[1])**2\n",
    "    loss3 = (y_true[2]-y_pred[2])**2\n",
    "    return loss1+loss2+loss3"
   ]
  },
  {
   "cell_type": "code",
   "execution_count": 111,
   "metadata": {
    "collapsed": true
   },
   "outputs": [],
   "source": [
    "y = [[0,1,1,1,0.2,1,1,0.2,1,1,1,1]]*8"
   ]
  },
  {
   "cell_type": "code",
   "execution_count": 112,
   "metadata": {
    "collapsed": true
   },
   "outputs": [],
   "source": [
    "y = np.array(y)"
   ]
  },
  {
   "cell_type": "code",
   "execution_count": 120,
   "metadata": {},
   "outputs": [
    {
     "ename": "IndexError",
     "evalue": "index 8 is out of bounds for axis 0 with size 8",
     "output_type": "error",
     "traceback": [
      "\u001b[0;31m---------------------------------------------------------------------------\u001b[0m",
      "\u001b[0;31mIndexError\u001b[0m                                Traceback (most recent call last)",
      "\u001b[0;32m<ipython-input-120-3c5016fed748>\u001b[0m in \u001b[0;36m<module>\u001b[0;34m()\u001b[0m\n\u001b[0;32m----> 1\u001b[0;31m \u001b[0my\u001b[0m\u001b[0;34m[\u001b[0m\u001b[0;36m8\u001b[0m\u001b[0;34m]\u001b[0m \u001b[0;34m=\u001b[0m \u001b[0my\u001b[0m\u001b[0;34m[\u001b[0m\u001b[0;36m8\u001b[0m\u001b[0;34m]\u001b[0m\u001b[0;34m+\u001b[0m\u001b[0;36m0.8\u001b[0m\u001b[0;34m\u001b[0m\u001b[0m\n\u001b[0m",
      "\u001b[0;31mIndexError\u001b[0m: index 8 is out of bounds for axis 0 with size 8"
     ]
    }
   ],
   "source": [
    "y[8] = y[8]+0.8"
   ]
  },
  {
   "cell_type": "code",
   "execution_count": 172,
   "metadata": {
    "collapsed": true
   },
   "outputs": [],
   "source": [
    "y = np.array([0.8, 1.8, 1.8, 1.8, 1. , 1.8, 1.8, 1. , 1.8, 1.8, 1.8, 1.8, 0.6,\n",
    "       1.6, 1.6, 1.6, 0.8, 1.6, 1.6, 0.8, 1.6, 1.6, 1.6, 1.6, 0.4, 1.4,\n",
    "       1.4, 1.4, 0.6, 1.4, 1.4, 0.6, 1.4, 1.4, 1.4, 1.4, 0.2, 1.2, 1.2,\n",
    "       1.2, 0.4, 1.2, 1.2, 0.4, 1.2, 1.2, 1.2, 1.2, 0. , 1. , 1. , 1. ,\n",
    "       0.2, 1. , 1. , 0.2, 1. , 1. , 1. , 1. , 0.2, 1.2, 1.2, 1.2, 0.4,\n",
    "       1.2, 1.2, 0.4, 1.2, 1.2, 1.2, 1.2, 0.4, 1.4, 1.4, 1.4, 0.6, 1.4,\n",
    "       1.4, 0.6, 1.4, 1.4, 1.4, 1.4, 0.6, 1.6, 1.6, 1.6, 0.8, 1.6, 1.6,\n",
    "       0.8, 1.6, 1.6, 1.6, 1.6])"
   ]
  },
  {
   "cell_type": "code",
   "execution_count": 128,
   "metadata": {
    "collapsed": true
   },
   "outputs": [],
   "source": [
    "import scipy"
   ]
  },
  {
   "cell_type": "code",
   "execution_count": 189,
   "metadata": {
    "scrolled": true
   },
   "outputs": [
    {
     "name": "stderr",
     "output_type": "stream",
     "text": [
      "/usr/local/Cellar/python3/3.6.3/Frameworks/Python.framework/Versions/3.6/lib/python3.6/site-packages/ipykernel_launcher.py:1: RankWarning: Polyfit may be poorly conditioned\n",
      "  \"\"\"Entry point for launching an IPython kernel.\n"
     ]
    }
   ],
   "source": [
    "fit = scipy.poly1d(scipy.polyfit(x,y,deg=40))"
   ]
  },
  {
   "cell_type": "code",
   "execution_count": 175,
   "metadata": {
    "collapsed": true
   },
   "outputs": [],
   "source": [
    "x = x[24:72]\n",
    "y = y[24:72]"
   ]
  },
  {
   "cell_type": "code",
   "execution_count": 187,
   "metadata": {
    "collapsed": true
   },
   "outputs": [],
   "source": [
    "xp = np.linspace(-10,10,1000)"
   ]
  },
  {
   "cell_type": "code",
   "execution_count": 190,
   "metadata": {},
   "outputs": [
    {
     "data": {
      "text/plain": [
       "[<matplotlib.lines.Line2D at 0x1193c6940>]"
      ]
     },
     "execution_count": 190,
     "metadata": {},
     "output_type": "execute_result"
    },
    {
     "data": {
      "image/png": "[encoded data removed]",
      "text/plain": [
       "<matplotlib.figure.Figure at 0x1179768d0>"
      ]
     },
     "metadata": {},
     "output_type": "display_data"
    }
   ],
   "source": [
    "plt.plot(xp,fit(xp))#,x,y,'.')"
   ]
  },
  {
   "cell_type": "code",
   "execution_count": 162,
   "metadata": {},
   "outputs": [
    {
     "name": "stderr",
     "output_type": "stream",
     "text": [
      "/usr/local/Cellar/python3/3.6.3/Frameworks/Python.framework/Versions/3.6/lib/python3.6/site-packages/ipykernel_launcher.py:1: RankWarning: Polyfit may be poorly conditioned\n",
      "  \"\"\"Entry point for launching an IPython kernel.\n"
     ]
    },
    {
     "data": {
      "text/plain": [
       "array([-2.37821556e-57, -4.88059435e-56,  4.18184535e-53,  8.17973927e-52,\n",
       "       -3.23507804e-49, -5.96747024e-48,  1.41516494e-45,  2.40677790e-44,\n",
       "       -3.62046723e-42, -5.29968072e-41,  4.15538261e-39,  2.83200124e-38,\n",
       "        5.75891923e-36,  2.10335370e-34, -3.59151421e-32, -7.99291860e-31,\n",
       "        8.22885198e-29,  1.59910773e-27, -1.20350301e-25, -2.15605656e-24,\n",
       "        1.24214248e-22,  2.08957813e-21, -9.32556207e-20, -1.48607541e-18,\n",
       "        5.11605322e-17,  7.76689664e-16, -2.02847724e-14, -2.95038178e-13,\n",
       "        5.66851488e-12,  7.96737481e-11, -1.07012476e-09, -1.47823780e-08,\n",
       "        1.27565612e-07,  1.79480566e-06, -8.63225570e-06, -1.33005009e-04,\n",
       "        2.84517737e-04,  5.37000240e-03, -3.40385544e-03, -9.69933140e-02,\n",
       "        8.80846020e-01])"
      ]
     },
     "execution_count": 162,
     "metadata": {},
     "output_type": "execute_result"
    }
   ],
   "source": [
    "scipy.polyfit(x,y,deg=40)"
   ]
  },
  {
   "cell_type": "code",
   "execution_count": 199,
   "metadata": {},
   "outputs": [
    {
     "data": {
      "text/plain": [
       "array([[0., 0., 0., 0., 0., 0., 0., 0., 0., 0., 0., 0., 0., 0., 0., 0.,\n",
       "        0., 0., 0., 0., 0., 0., 0., 0., 0., 0., 0., 0., 0., 0., 0., 0.,\n",
       "        0., 0., 0., 0., 0., 0., 0., 0., 0., 0., 0., 0., 0., 0., 0., 0.]])"
      ]
     },
     "execution_count": 199,
     "metadata": {},
     "output_type": "execute_result"
    }
   ],
   "source": [
    "scaler2.fit_transform([x])"
   ]
  },
  {
   "cell_type": "code",
   "execution_count": 200,
   "metadata": {},
   "outputs": [
    {
     "data": {
      "text/plain": [
       "array([0.4, 1.4, 1.4, 1.4, 0.6, 1.4, 1.4, 0.6, 1.4, 1.4, 1.4, 1.4, 0.2,\n",
       "       1.2, 1.2, 1.2, 0.4, 1.2, 1.2, 0.4, 1.2, 1.2, 1.2, 1.2, 0. , 1. ,\n",
       "       1. , 1. , 0.2, 1. , 1. , 0.2, 1. , 1. , 1. , 1. , 0.2, 1.2, 1.2,\n",
       "       1.2, 0.4, 1.2, 1.2, 0.4, 1.2, 1.2, 1.2, 1.2])"
      ]
     },
     "execution_count": 200,
     "metadata": {},
     "output_type": "execute_result"
    }
   ],
   "source": [
    "y"
   ]
  },
  {
   "cell_type": "code",
   "execution_count": 197,
   "metadata": {
    "collapsed": true
   },
   "outputs": [],
   "source": [
    "scaler2 = StandardScaler()"
   ]
  },
  {
   "cell_type": "code",
   "execution_count": 218,
   "metadata": {},
   "outputs": [
    {
     "data": {
      "text/plain": [
       "1.1421802099804372"
      ]
     },
     "execution_count": 218,
     "metadata": {},
     "output_type": "execute_result"
    }
   ],
   "source": [
    "fit(-6)"
   ]
  },
  {
   "cell_type": "code",
   "execution_count": null,
   "metadata": {
    "collapsed": true
   },
   "outputs": [],
   "source": []
  }
 ],
 "metadata": {
  "kernelspec": {
   "display_name": "Python 3",
   "language": "python",
   "name": "python3"
  },
  "language_info": {
   "codemirror_mode": {
    "name": "ipython",
    "version": 3
   },
   "file_extension": ".py",
   "mimetype": "text/x-python",
   "name": "python",
   "nbconvert_exporter": "python",
   "pygments_lexer": "ipython3",
   "version": "3.6.2"
  }
 },
 "nbformat": 4,
 "nbformat_minor": 2
}
