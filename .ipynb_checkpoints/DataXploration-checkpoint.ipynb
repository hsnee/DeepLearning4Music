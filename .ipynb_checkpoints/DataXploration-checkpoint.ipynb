{
 "cells": [
  {
   "cell_type": "code",
   "execution_count": 1,
   "metadata": {},
   "outputs": [
    {
     "name": "stdout",
     "output_type": "stream",
     "text": [
      "Populating the interactive namespace from numpy and matplotlib\n"
     ]
    }
   ],
   "source": [
    "#!pip install mido\n",
    "%pylab inline"
   ]
  },
  {
   "cell_type": "code",
   "execution_count": 2,
   "metadata": {
    "collapsed": true
   },
   "outputs": [],
   "source": [
    "import mido\n",
    "from mido import MidiFile"
   ]
  },
  {
   "cell_type": "code",
   "execution_count": 3,
   "metadata": {
    "collapsed": true
   },
   "outputs": [],
   "source": [
    "file = MidiFile('data/Midi #8.mid')"
   ]
  },
  {
   "cell_type": "code",
   "execution_count": 4,
   "metadata": {
    "collapsed": true
   },
   "outputs": [],
   "source": [
    "message = mido.Message('program_change', program=10)"
   ]
  },
  {
   "cell_type": "code",
   "execution_count": 7,
   "metadata": {},
   "outputs": [
    {
     "name": "stderr",
     "output_type": "stream",
     "text": [
      "/Users/yizhouhe/anaconda3/lib/python3.6/site-packages/h5py/__init__.py:34: FutureWarning: Conversion of the second argument of issubdtype from `float` to `np.floating` is deprecated. In future, it will be treated as `np.float64 == np.dtype(float).type`.\n",
      "  from ._conv import register_converters as _register_converters\n",
      "Using TensorFlow backend.\n"
     ]
    }
   ],
   "source": [
    "import keras"
   ]
  },
  {
   "cell_type": "code",
   "execution_count": 8,
   "metadata": {
    "collapsed": true
   },
   "outputs": [],
   "source": [
    "from keras.layers import LSTM, Dense, Dropout, Activation"
   ]
  },
  {
   "cell_type": "code",
   "execution_count": 9,
   "metadata": {},
   "outputs": [
    {
     "name": "stdout",
     "output_type": "stream",
     "text": [
      "13\n",
      "{31: 0, 34: 1, 36: 2, 38: 3, 41: 4, 43: 5, 46: 6, 48: 7, 50: 8, 53: 9, 67: 10, 69: 11, 70: 12}\n"
     ]
    }
   ],
   "source": [
    "sequence_length=20\n",
    "sample_dim=1\n",
    "pitchnames = sorted(set(item for item in notes))\n",
    "# create a dictionary to map pitches to integers\n",
    "note_to_int = dict((note, number) for number, note in enumerate(pitchnames))\n",
    "network_input = []\n",
    "network_output = []\n",
    "# create input sequences and the corresponding outputs\n",
    "for i in range(0, len(notes) - sequence_length, 1):\n",
    "    sequence_in = notes[i:i + sequence_length]\n",
    "    sequence_out = notes[i + sequence_length]\n",
    "\n",
    "    network_input.append([note_to_int[char] for char in sequence_in])\n",
    "    network_output.append(note_to_int[sequence_out])\n",
    "n_patterns = len(network_input)\n",
    "# reshape the input into a format compatible with LSTM layers\n",
    "network_input = numpy.reshape(network_input, (n_patterns, sequence_length, sample_dim))\n",
    "# normalize input\n",
    "# network_input = network_input / float(n_vocab)\n",
    "network_output = keras.utils.to_categorical(network_output)\n",
    "n_catalogue=network_output.shape[1]\n",
    "print (n_catalogue)\n",
    "print (note_to_int)"
   ]
  },
  {
   "cell_type": "code",
   "execution_count": 32,
   "metadata": {
    "collapsed": true
   },
   "outputs": [],
   "source": [
    "output_note=[list(note_to_int.keys())[arg] for arg in np.argmax(prediction, axis=1)]"
   ]
  },
  {
   "cell_type": "code",
   "execution_count": 33,
   "metadata": {},
   "outputs": [
    {
     "name": "stdout",
     "output_type": "stream",
     "text": [
      "[70, 70, 46, 34, 41, 48, 67, 67, 67, 67, 67, 67, 67, 67, 69, 69, 70, 70, 69, 69, 36, 48, 43, 67, 67, 67, 67, 67, 70, 69, 69, 69, 70, 70, 69, 69, 67, 67, 50, 43, 43, 31, 67, 67, 67, 67, 69, 69, 70, 70, 46, 31, 46, 34, 67, 67, 67, 67, 69, 69, 70, 70, 46, 34, 41, 48, 67, 67, 67, 67, 67, 67, 67, 67, 69, 69, 70, 70, 69, 69, 36, 53, 43, 67, 38, 67, 67, 67, 38, 38, 41, 41, 70, 70, 69, 69, 70, 70, 69, 69, 67, 67, 53, 41]\n"
     ]
    }
   ],
   "source": [
    "print (output_note)"
   ]
  },
  {
   "cell_type": "code",
   "execution_count": 34,
   "metadata": {},
   "outputs": [
    {
     "name": "stdout",
     "output_type": "stream",
     "text": [
      "[70, 70, 46, 34, 36, 48, 67, 67, 67, 67, 67, 67, 67, 67, 69, 69, 70, 70, 69, 69, 36, 48, 50, 38, 67, 67, 67, 67, 70, 70, 69, 69, 70, 70, 69, 69, 67, 67, 50, 38, 43, 31, 67, 67, 67, 67, 69, 69, 70, 70, 43, 31, 46, 34, 67, 67, 67, 67, 69, 69, 70, 70, 46, 34, 41, 53, 67, 67, 67, 67, 67, 67, 67, 67, 69, 69, 70, 70, 69, 69, 41, 53, 67, 50, 38, 67, 67, 67, 50, 38, 53, 41, 70, 70, 69, 69, 70, 70, 69, 69, 67, 67, 53, 41]\n"
     ]
    }
   ],
   "source": [
    "print (notes)"
   ]
  },
  {
   "cell_type": "code",
   "execution_count": 35,
   "metadata": {},
   "outputs": [
    {
     "name": "stdout",
     "output_type": "stream",
     "text": [
      "0.8846153846153846\n"
     ]
    }
   ],
   "source": [
    "print (np.sum(np.array([1 for x,y in zip(output_note,notes) if x==y]))/len(output_note))"
   ]
  },
  {
   "cell_type": "code",
   "execution_count": 36,
   "metadata": {},
   "outputs": [
    {
     "data": {
      "text/plain": [
       "[<matplotlib.lines.Line2D at 0x18230f8d68>]"
      ]
     },
     "execution_count": 36,
     "metadata": {},
     "output_type": "execute_result"
    },
    {
     "data": {
      "image/png": "[encoded data removed]",
      "text/plain": [
       "<matplotlib.figure.Figure at 0x182317ff60>"
      ]
     },
     "metadata": {},
     "output_type": "display_data"
    }
   ],
   "source": [
    "plt.plot(notes,'.')"
   ]
  },
  {
   "cell_type": "code",
   "execution_count": 37,
   "metadata": {},
   "outputs": [
    {
     "data": {
      "text/plain": [
       "[<matplotlib.lines.Line2D at 0x18232ccc18>]"
      ]
     },
     "execution_count": 37,
     "metadata": {},
     "output_type": "execute_result"
    },
    {
     "data": {
      "image/png": "[encoded data removed]",
      "text/plain": [
       "<matplotlib.figure.Figure at 0x1823203ac8>"
      ]
     },
     "metadata": {},
     "output_type": "display_data"
    }
   ],
   "source": [
    "plt.plot(output_note,'.')"
   ]
  },
  {
   "cell_type": "code",
   "execution_count": 38,
   "metadata": {
    "collapsed": true
   },
   "outputs": [],
   "source": [
    "notes = notes[20:]"
   ]
  },
  {
   "cell_type": "code",
   "execution_count": 39,
   "metadata": {
    "scrolled": true
   },
   "outputs": [
    {
     "data": {
      "text/plain": [
       "[36,\n",
       " 48,\n",
       " 50,\n",
       " 38,\n",
       " 67,\n",
       " 67,\n",
       " 67,\n",
       " 67,\n",
       " 70,\n",
       " 70,\n",
       " 69,\n",
       " 69,\n",
       " 70,\n",
       " 70,\n",
       " 69,\n",
       " 69,\n",
       " 67,\n",
       " 67,\n",
       " 50,\n",
       " 38,\n",
       " 43,\n",
       " 31,\n",
       " 67,\n",
       " 67,\n",
       " 67,\n",
       " 67,\n",
       " 69,\n",
       " 69,\n",
       " 70,\n",
       " 70,\n",
       " 43,\n",
       " 31,\n",
       " 46,\n",
       " 34,\n",
       " 67,\n",
       " 67,\n",
       " 67,\n",
       " 67,\n",
       " 69,\n",
       " 69,\n",
       " 70,\n",
       " 70,\n",
       " 46,\n",
       " 34,\n",
       " 41,\n",
       " 53,\n",
       " 67,\n",
       " 67,\n",
       " 67,\n",
       " 67,\n",
       " 67,\n",
       " 67,\n",
       " 67,\n",
       " 67,\n",
       " 69,\n",
       " 69,\n",
       " 70,\n",
       " 70,\n",
       " 69,\n",
       " 69,\n",
       " 41,\n",
       " 53,\n",
       " 67,\n",
       " 50,\n",
       " 38,\n",
       " 67,\n",
       " 67,\n",
       " 67,\n",
       " 50,\n",
       " 38,\n",
       " 53,\n",
       " 41,\n",
       " 70,\n",
       " 70,\n",
       " 69,\n",
       " 69,\n",
       " 70,\n",
       " 70,\n",
       " 69,\n",
       " 69,\n",
       " 67,\n",
       " 67,\n",
       " 53,\n",
       " 41]"
      ]
     },
     "execution_count": 39,
     "metadata": {},
     "output_type": "execute_result"
    }
   ],
   "source": [
    "notes"
   ]
  },
  {
   "cell_type": "code",
   "execution_count": 41,
   "metadata": {},
   "outputs": [
    {
     "data": {
      "text/plain": [
       "<zip at 0x18232f7548>"
      ]
     },
     "execution_count": 41,
     "metadata": {},
     "output_type": "execute_result"
    }
   ],
   "source": [
    "zip(notes,output_note)"
   ]
  },
  {
   "cell_type": "code",
   "execution_count": 25,
   "metadata": {},
   "outputs": [
    {
     "data": {
      "text/plain": [
       "104"
      ]
     },
     "execution_count": 25,
     "metadata": {},
     "output_type": "execute_result"
    }
   ],
   "source": [
    "len(notes)"
   ]
  },
  {
   "cell_type": "code",
   "execution_count": 27,
   "metadata": {
    "collapsed": true
   },
   "outputs": [],
   "source": [
    "def func(y_true,y_pred):\n",
    "    return np.dot(y_true-y_pred,y_true-y_pred)"
   ]
  },
  {
   "cell_type": "code",
   "execution_count": null,
   "metadata": {
    "collapsed": true
   },
   "outputs": [],
   "source": []
  }
 ],
 "metadata": {
  "kernelspec": {
   "display_name": "Python 3",
   "language": "python",
   "name": "python3"
  },
  "language_info": {
   "codemirror_mode": {
    "name": "ipython",
    "version": 3
   },
   "file_extension": ".py",
   "mimetype": "text/x-python",
   "name": "python",
   "nbconvert_exporter": "python",
   "pygments_lexer": "ipython3",
   "version": "3.6.2"
  }
 },
 "nbformat": 4,
 "nbformat_minor": 2
}
